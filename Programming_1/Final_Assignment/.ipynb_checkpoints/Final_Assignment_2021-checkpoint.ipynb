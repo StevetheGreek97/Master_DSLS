{
 "cells": [
  {
   "cell_type": "markdown",
   "metadata": {},
   "source": [
    "# *Final Assignment | Stylianos Mavrianos*\n",
    "\n",
    "\n",
    "## Daphna-Metsnikowia-Nanoplastics (DaMN) project"
   ]
  },
  {
   "cell_type": "markdown",
   "metadata": {},
   "source": [
    "# About the data \n",
    "(the data are self-generated)\n",
    "\n",
    "The study deals with the effect of nanoplastics on the host-parasite interaction between a waterflea\n",
    "Daphnia galeata x longispina hybrid and Metschnikowia bicuspidate, a parasitic yeast commonly\n",
    "associated with Daphnia species. The study tested the effect of low and high concentrations of\n",
    "nanoplastics on the interactions between a clonal lineage of Daphnia and the parasite, both collected\n",
    "from the same location.\n",
    "\n",
    "The experimental full-factorial design was as follows: \n",
    "\n",
    "2 parasite treatments (inoculated with the parasite Metschnikowia or with a placebo)\n",
    "× 3 NP treatments (0 mg/L, 5 mg/L, 20 mg/L)\n",
    "× 25 replicates. \n",
    "A total of 150 individuals.\n",
    "\n",
    "\n",
    "Research question:\n",
    " What are the effects of nanoplastics on host and parasite fitness?"
   ]
  },
  {
   "cell_type": "code",
   "execution_count": 1,
   "metadata": {},
   "outputs": [],
   "source": [
    "#Importing Libralies\n",
    "\n",
    "import pandas as pd\n",
    "import numpy as np\n",
    "from bokeh.plotting import figure, show\n",
    "import matplotlib.pyplot as plt\n",
    "import holoviews as hv\n",
    "import func"
   ]
  },
  {
   "cell_type": "code",
   "execution_count": 2,
   "metadata": {},
   "outputs": [
    {
     "data": {
      "text/html": [
       "<div>\n",
       "<style scoped>\n",
       "    .dataframe tbody tr th:only-of-type {\n",
       "        vertical-align: middle;\n",
       "    }\n",
       "\n",
       "    .dataframe tbody tr th {\n",
       "        vertical-align: top;\n",
       "    }\n",
       "\n",
       "    .dataframe thead th {\n",
       "        text-align: right;\n",
       "    }\n",
       "</style>\n",
       "<table border=\"1\" class=\"dataframe\">\n",
       "  <thead>\n",
       "    <tr style=\"text-align: right;\">\n",
       "      <th></th>\n",
       "      <th>ID No.</th>\n",
       "      <th>Treatment</th>\n",
       "      <th>Unnamed: 2</th>\n",
       "      <th>Rep.</th>\n",
       "      <th>Death_date</th>\n",
       "      <th>Age_death</th>\n",
       "      <th>Total_juv</th>\n",
       "      <th>No_clutch</th>\n",
       "      <th>Retrieved</th>\n",
       "      <th>Age_at_Mat</th>\n",
       "      <th>H_errors</th>\n",
       "    </tr>\n",
       "  </thead>\n",
       "  <tbody>\n",
       "    <tr>\n",
       "      <th>0</th>\n",
       "      <td>1</td>\n",
       "      <td>A_ZERO_METS</td>\n",
       "      <td>NaN</td>\n",
       "      <td>1</td>\n",
       "      <td>14.02.21</td>\n",
       "      <td>17</td>\n",
       "      <td>5</td>\n",
       "      <td>3</td>\n",
       "      <td>1</td>\n",
       "      <td>13</td>\n",
       "      <td>0</td>\n",
       "    </tr>\n",
       "    <tr>\n",
       "      <th>1</th>\n",
       "      <td>2</td>\n",
       "      <td>A_ZERO_METS</td>\n",
       "      <td>NaN</td>\n",
       "      <td>2</td>\n",
       "      <td>12.02.21</td>\n",
       "      <td>15</td>\n",
       "      <td>1</td>\n",
       "      <td>1</td>\n",
       "      <td>1</td>\n",
       "      <td>15</td>\n",
       "      <td>0</td>\n",
       "    </tr>\n",
       "    <tr>\n",
       "      <th>2</th>\n",
       "      <td>3</td>\n",
       "      <td>A_ZERO_METS</td>\n",
       "      <td>NaN</td>\n",
       "      <td>3</td>\n",
       "      <td>26.02.21</td>\n",
       "      <td>29</td>\n",
       "      <td>12</td>\n",
       "      <td>5</td>\n",
       "      <td>1</td>\n",
       "      <td>13</td>\n",
       "      <td>0</td>\n",
       "    </tr>\n",
       "    <tr>\n",
       "      <th>3</th>\n",
       "      <td>4</td>\n",
       "      <td>A_ZERO_METS</td>\n",
       "      <td>NaN</td>\n",
       "      <td>4</td>\n",
       "      <td>26.02.21</td>\n",
       "      <td>29</td>\n",
       "      <td>15</td>\n",
       "      <td>6</td>\n",
       "      <td>1</td>\n",
       "      <td>13</td>\n",
       "      <td>0</td>\n",
       "    </tr>\n",
       "    <tr>\n",
       "      <th>4</th>\n",
       "      <td>5</td>\n",
       "      <td>A_ZERO_METS</td>\n",
       "      <td>NaN</td>\n",
       "      <td>5</td>\n",
       "      <td>26.02.21</td>\n",
       "      <td>29</td>\n",
       "      <td>10</td>\n",
       "      <td>5</td>\n",
       "      <td>1</td>\n",
       "      <td>15</td>\n",
       "      <td>0</td>\n",
       "    </tr>\n",
       "  </tbody>\n",
       "</table>\n",
       "</div>"
      ],
      "text/plain": [
       "   ID No.    Treatment  Unnamed: 2  Rep. Death_date  Age_death  Total_juv  \\\n",
       "0       1  A_ZERO_METS         NaN     1   14.02.21         17          5   \n",
       "1       2  A_ZERO_METS         NaN     2   12.02.21         15          1   \n",
       "2       3  A_ZERO_METS         NaN     3   26.02.21         29         12   \n",
       "3       4  A_ZERO_METS         NaN     4   26.02.21         29         15   \n",
       "4       5  A_ZERO_METS         NaN     5   26.02.21         29         10   \n",
       "\n",
       "   No_clutch  Retrieved  Age_at_Mat  H_errors  \n",
       "0          3          1          13         0  \n",
       "1          1          1          15         0  \n",
       "2          5          1          13         0  \n",
       "3          6          1          13         0  \n",
       "4          5          1          15         0  "
      ]
     },
     "execution_count": 2,
     "metadata": {},
     "output_type": "execute_result"
    }
   ],
   "source": [
    "# Importing main data\n",
    "df = pd.read_csv('DaMN_main_Datafile.csv')\n",
    "df.head()"
   ]
  },
  {
   "cell_type": "code",
   "execution_count": 3,
   "metadata": {},
   "outputs": [
    {
     "name": "stdout",
     "output_type": "stream",
     "text": [
      "<class 'pandas.core.frame.DataFrame'>\n",
      "RangeIndex: 150 entries, 0 to 149\n",
      "Data columns (total 11 columns):\n",
      " #   Column      Non-Null Count  Dtype  \n",
      "---  ------      --------------  -----  \n",
      " 0   ID No.      150 non-null    int64  \n",
      " 1   Treatment   150 non-null    object \n",
      " 2   Unnamed: 2  0 non-null      float64\n",
      " 3   Rep.        150 non-null    int64  \n",
      " 4   Death_date  150 non-null    object \n",
      " 5   Age_death   150 non-null    int64  \n",
      " 6   Total_juv   150 non-null    int64  \n",
      " 7   No_clutch   150 non-null    int64  \n",
      " 8   Retrieved   150 non-null    int64  \n",
      " 9   Age_at_Mat  150 non-null    int64  \n",
      " 10  H_errors    150 non-null    int64  \n",
      "dtypes: float64(1), int64(8), object(2)\n",
      "memory usage: 13.0+ KB\n"
     ]
    }
   ],
   "source": [
    "try:\n",
    "    df.info()\n",
    "except:\n",
    "    print(\"df not properly loaded\")"
   ]
  },
  {
   "cell_type": "markdown",
   "metadata": {},
   "source": [
    "### Cleaning the data\n",
    "\n",
    "First I want to clean the data! So, \n",
    "\n",
    "1. I drop the column that are of no use\n",
    "2. I create clear and readable columns\n",
    "3. I transform the data"
   ]
  },
  {
   "cell_type": "code",
   "execution_count": 4,
   "metadata": {},
   "outputs": [],
   "source": [
    "#Create new columns with clearer names \n",
    "df[['Clone','NP_treatment', 'Inf_treatment']] = df[\"Treatment\"].str.split(\"_\" ,2 , expand=True)\n",
    "df['Inf_treatment'] = df['Inf_treatment'].replace({'___': 'NO_METS'})\n",
    "\n",
    "# Drop useless ones\n",
    "df = df.drop(columns=['Unnamed: 2'])\n",
    "df = df.drop(columns=['Treatment'])\n",
    "df = df.drop(columns=['Clone'])\n",
    "\n",
    "\n",
    "#Transform the data\n",
    "df['Death_date'] = pd.to_datetime(df['Death_date'])\n",
    "\n",
    "\n",
    "# df.head(5)"
   ]
  },
  {
   "cell_type": "code",
   "execution_count": 5,
   "metadata": {},
   "outputs": [
    {
     "name": "stdout",
     "output_type": "stream",
     "text": [
      "ID No.                    int64\n",
      "Rep.                      int64\n",
      "Death_date       datetime64[ns]\n",
      "Age_death                 int64\n",
      "Total_juv                 int64\n",
      "No_clutch                 int64\n",
      "Retrieved                 int64\n",
      "Age_at_Mat                int64\n",
      "H_errors                  int64\n",
      "NP_treatment             object\n",
      "Inf_treatment            object\n",
      "dtype: object\n"
     ]
    }
   ],
   "source": [
    "try:\n",
    "    print(df.dtypes)\n",
    "except:\n",
    "    print(\"df not properly loaded\")"
   ]
  },
  {
   "cell_type": "markdown",
   "metadata": {},
   "source": [
    "### Data inspection\n",
    "\n",
    "Now let us check our data!"
   ]
  },
  {
   "cell_type": "code",
   "execution_count": 6,
   "metadata": {},
   "outputs": [
    {
     "name": "stdout",
     "output_type": "stream",
     "text": [
      "There are 3 levels of nanoplastic concentrations, 2 levels of infection treatments. So there are 6 different levels.\n"
     ]
    }
   ],
   "source": [
    "### There are three levels of nanoplastic concentrations\n",
    "np_levels = len(pd.DataFrame(df.groupby('NP_treatment')))\n",
    "\n",
    "### There are two levels of infection treatments\n",
    "inf_levels = len(pd.DataFrame(df.groupby('Inf_treatment')))\n",
    "\n",
    "### There are six different dataframes \n",
    "dif_df = len(pd.DataFrame(df.groupby(['NP_treatment', 'Inf_treatment'])))\n",
    "\n",
    "\n",
    "\n",
    "print('There are {} levels of nanoplastic concentrations, {} levels of infection treatments. \\\n",
    "So there are {} different levels.'.format(np_levels, inf_levels, dif_df))"
   ]
  },
  {
   "cell_type": "markdown",
   "metadata": {},
   "source": [
    "During the experiment some individuals were lost due to handling errors! Therefore, they should be removed from the dataset!\n",
    "The handling errors are given by the column 'H_errors' where the value '0' and '1' denotes 'not handling error' and 'handling error', respectively!"
   ]
  },
  {
   "cell_type": "code",
   "execution_count": 7,
   "metadata": {},
   "outputs": [
    {
     "name": "stdout",
     "output_type": "stream",
     "text": [
      "There are 5 individuals that were lost due to handling errors and that need to be removed from the dataset.\n"
     ]
    }
   ],
   "source": [
    "H_e = df[df['H_errors'] == 1]\n",
    "\n",
    "\n",
    "print('There are {} individuals that were lost due to handling errors and that need to be \\\n",
    "removed from the dataset.'.format(len(H_e)))\n",
    "\n",
    "\n",
    "df = df[df['H_errors'] == 0]"
   ]
  },
  {
   "cell_type": "markdown",
   "metadata": {},
   "source": [
    "Also, some individuals died prematurely! Even before the inoculation day (day 3). So, they have to be removed too!"
   ]
  },
  {
   "cell_type": "code",
   "execution_count": 8,
   "metadata": {},
   "outputs": [
    {
     "name": "stdout",
     "output_type": "stream",
     "text": [
      "There are 3 individuals that died before even the experiment started and need to be removed from the dataset.\n"
     ]
    }
   ],
   "source": [
    "premature_death = df[df['Age_death'] <= 3]\n",
    "\n",
    "\n",
    "print('There are {} individuals that died before even the experiment started and need to be \\\n",
    "removed from the dataset.'.format(len(premature_death)))\n",
    "\n",
    "\n",
    "df = df[df['Age_death'] > 3]"
   ]
  },
  {
   "cell_type": "markdown",
   "metadata": {},
   "source": [
    "### Importing the second datafile\n",
    "\n",
    "\n",
    "Now, let's import the infected data file."
   ]
  },
  {
   "cell_type": "code",
   "execution_count": null,
   "metadata": {},
   "outputs": [],
   "source": [
    "df_infected = pd.read_excel('DaMN_Infected.xlsx')\n",
    "\n",
    "\n",
    "df_infected.head()"
   ]
  },
  {
   "cell_type": "markdown",
   "metadata": {},
   "source": [
    "Clean the data..."
   ]
  },
  {
   "cell_type": "code",
   "execution_count": 11,
   "metadata": {},
   "outputs": [
    {
     "ename": "NameError",
     "evalue": "name 'df_infected' is not defined",
     "output_type": "error",
     "traceback": [
      "\u001b[1;31m---------------------------------------------------------------------------\u001b[0m",
      "\u001b[1;31mNameError\u001b[0m                                 Traceback (most recent call last)",
      "\u001b[1;32m~\\AppData\\Local\\Temp\\ipykernel_4056\\1831974200.py\u001b[0m in \u001b[0;36m<module>\u001b[1;34m\u001b[0m\n\u001b[1;32m----> 1\u001b[1;33m \u001b[0mdf_infected\u001b[0m \u001b[1;33m=\u001b[0m \u001b[0mdf_infected\u001b[0m\u001b[1;33m.\u001b[0m\u001b[0mdrop\u001b[0m\u001b[1;33m(\u001b[0m\u001b[0mcolumns\u001b[0m\u001b[1;33m=\u001b[0m\u001b[1;33m[\u001b[0m\u001b[1;34m'Masked_ID'\u001b[0m\u001b[1;33m]\u001b[0m\u001b[1;33m)\u001b[0m\u001b[1;33m\u001b[0m\u001b[1;33m\u001b[0m\u001b[0m\n\u001b[0m\u001b[0;32m      2\u001b[0m \u001b[0mdf_infected\u001b[0m \u001b[1;33m=\u001b[0m \u001b[0mdf_infected\u001b[0m\u001b[1;33m.\u001b[0m\u001b[0mdrop\u001b[0m\u001b[1;33m(\u001b[0m\u001b[0mlabels\u001b[0m\u001b[1;33m=\u001b[0m\u001b[1;36m0\u001b[0m\u001b[1;33m,\u001b[0m \u001b[0maxis\u001b[0m\u001b[1;33m=\u001b[0m\u001b[1;36m0\u001b[0m\u001b[1;33m)\u001b[0m\u001b[1;33m\u001b[0m\u001b[1;33m\u001b[0m\u001b[0m\n\u001b[0;32m      3\u001b[0m \u001b[0mdf_infected\u001b[0m\u001b[1;33m.\u001b[0m\u001b[0mhead\u001b[0m\u001b[1;33m(\u001b[0m\u001b[1;33m)\u001b[0m\u001b[1;33m\u001b[0m\u001b[1;33m\u001b[0m\u001b[0m\n",
      "\u001b[1;31mNameError\u001b[0m: name 'df_infected' is not defined"
     ]
    }
   ],
   "source": [
    "df_infected = df_infected.drop(columns=['Masked_ID'])\n",
    "df_infected = df_infected.drop(labels=0, axis=0)\n",
    "df_infected.head()"
   ]
  },
  {
   "cell_type": "markdown",
   "metadata": {},
   "source": [
    "Transform them..."
   ]
  },
  {
   "cell_type": "code",
   "execution_count": 10,
   "metadata": {},
   "outputs": [
    {
     "ename": "NameError",
     "evalue": "name 'df_infected' is not defined",
     "output_type": "error",
     "traceback": [
      "\u001b[1;31m---------------------------------------------------------------------------\u001b[0m",
      "\u001b[1;31mNameError\u001b[0m                                 Traceback (most recent call last)",
      "\u001b[1;32m~\\AppData\\Local\\Temp\\ipykernel_4056\\2055683033.py\u001b[0m in \u001b[0;36m<module>\u001b[1;34m\u001b[0m\n\u001b[0;32m      1\u001b[0m \u001b[1;31m#Rename\u001b[0m\u001b[1;33m\u001b[0m\u001b[1;33m\u001b[0m\u001b[1;33m\u001b[0m\u001b[0m\n\u001b[1;32m----> 2\u001b[1;33m \u001b[0mdf_infected\u001b[0m \u001b[1;33m=\u001b[0m \u001b[0mdf_infected\u001b[0m\u001b[1;33m.\u001b[0m\u001b[0mrename\u001b[0m\u001b[1;33m(\u001b[0m\u001b[0mcolumns\u001b[0m \u001b[1;33m=\u001b[0m \u001b[1;33m{\u001b[0m\u001b[1;34m'Actual ID'\u001b[0m\u001b[1;33m:\u001b[0m\u001b[1;34m'ID No.'\u001b[0m \u001b[1;33m}\u001b[0m\u001b[1;33m)\u001b[0m\u001b[1;33m\u001b[0m\u001b[1;33m\u001b[0m\u001b[0m\n\u001b[0m\u001b[0;32m      3\u001b[0m \u001b[1;33m\u001b[0m\u001b[0m\n\u001b[0;32m      4\u001b[0m \u001b[1;31m#Transform\u001b[0m\u001b[1;33m\u001b[0m\u001b[1;33m\u001b[0m\u001b[1;33m\u001b[0m\u001b[0m\n\u001b[0;32m      5\u001b[0m \u001b[0mdf_infected\u001b[0m\u001b[1;33m[\u001b[0m\u001b[1;34m'1st'\u001b[0m\u001b[1;33m]\u001b[0m \u001b[1;33m=\u001b[0m \u001b[0mpd\u001b[0m\u001b[1;33m.\u001b[0m\u001b[0mto_numeric\u001b[0m\u001b[1;33m(\u001b[0m\u001b[0mdf_infected\u001b[0m\u001b[1;33m[\u001b[0m\u001b[1;34m'1st'\u001b[0m\u001b[1;33m]\u001b[0m\u001b[1;33m,\u001b[0m \u001b[0merrors\u001b[0m \u001b[1;33m=\u001b[0m \u001b[1;34m\"coerce\"\u001b[0m\u001b[1;33m)\u001b[0m\u001b[1;33m\u001b[0m\u001b[1;33m\u001b[0m\u001b[0m\n",
      "\u001b[1;31mNameError\u001b[0m: name 'df_infected' is not defined"
     ]
    }
   ],
   "source": [
    "#Rename\n",
    "df_infected = df_infected.rename(columns = {'Actual ID':'ID No.' })\n",
    "\n",
    "#Transform\n",
    "df_infected['1st'] = pd.to_numeric(df_infected['1st'], errors = \"coerce\")\n",
    "df_infected['2nd'] = pd.to_numeric(df_infected['2nd'], errors = \"coerce\")\n",
    "df_infected['3rd'] = pd.to_numeric(df_infected['3rd'], errors = \"coerce\")\n",
    "df_infected['4th'] = pd.to_numeric(df_infected['4th'], errors = \"coerce\")\n",
    "df_infected['ID No.'] = df_infected['ID No.'].astype('int64')"
   ]
  },
  {
   "cell_type": "markdown",
   "metadata": {},
   "source": [
    "By the end of the experiment all the individuals from the exposed treatment where inspected whether they were infected or not!\n",
    "\n",
    "\n",
    "The spore concentration was determined by crushing the exposed individuals and loading 10 µl of the suspension on an improved Neubauer counting chamber to estimate the spore concentration and calculate the inoculation volume.\n",
    "\n",
    "\n",
    "Each column from 1-4 represent the spore counts from the squares of the instrument. So, we have to take the mean of these 4 comumns and multiply it by 3000 to bring it to its initial concentration."
   ]
  },
  {
   "cell_type": "code",
   "execution_count": 12,
   "metadata": {},
   "outputs": [],
   "source": [
    "#Create the Spore count column\n",
    "df_infected['mean_Count'] = (df_infected['1st'] + df_infected['2nd'] + df_infected['3rd'] + df_infected['4th'])/4\n",
    "df_infected['Spore_Count'] = df_infected['mean_Count'] * 3000"
   ]
  },
  {
   "cell_type": "code",
   "execution_count": 13,
   "metadata": {},
   "outputs": [],
   "source": [
    "df_infected = df_infected.drop(columns=['1st', '2nd', '3rd', '4th', 'mean_Count'])"
   ]
  },
  {
   "cell_type": "markdown",
   "metadata": {},
   "source": [
    "Now we should merge the two datasets together!!!"
   ]
  },
  {
   "cell_type": "code",
   "execution_count": 14,
   "metadata": {},
   "outputs": [
    {
     "data": {
      "text/html": [
       "<div>\n",
       "<style scoped>\n",
       "    .dataframe tbody tr th:only-of-type {\n",
       "        vertical-align: middle;\n",
       "    }\n",
       "\n",
       "    .dataframe tbody tr th {\n",
       "        vertical-align: top;\n",
       "    }\n",
       "\n",
       "    .dataframe thead th {\n",
       "        text-align: right;\n",
       "    }\n",
       "</style>\n",
       "<table border=\"1\" class=\"dataframe\">\n",
       "  <thead>\n",
       "    <tr style=\"text-align: right;\">\n",
       "      <th></th>\n",
       "      <th>ID No.</th>\n",
       "      <th>Rep.</th>\n",
       "      <th>Death_date</th>\n",
       "      <th>Age_death</th>\n",
       "      <th>Total_juv</th>\n",
       "      <th>No_clutch</th>\n",
       "      <th>Retrieved</th>\n",
       "      <th>Age_at_Mat</th>\n",
       "      <th>H_errors</th>\n",
       "      <th>NP_treatment</th>\n",
       "      <th>Inf_treatment</th>\n",
       "      <th>Spore_Count</th>\n",
       "    </tr>\n",
       "  </thead>\n",
       "  <tbody>\n",
       "    <tr>\n",
       "      <th>0</th>\n",
       "      <td>1</td>\n",
       "      <td>1</td>\n",
       "      <td>2021-02-14</td>\n",
       "      <td>17</td>\n",
       "      <td>5</td>\n",
       "      <td>3</td>\n",
       "      <td>1</td>\n",
       "      <td>13</td>\n",
       "      <td>0</td>\n",
       "      <td>ZERO</td>\n",
       "      <td>METS</td>\n",
       "      <td>0.0</td>\n",
       "    </tr>\n",
       "    <tr>\n",
       "      <th>1</th>\n",
       "      <td>2</td>\n",
       "      <td>2</td>\n",
       "      <td>2021-12-02</td>\n",
       "      <td>15</td>\n",
       "      <td>1</td>\n",
       "      <td>1</td>\n",
       "      <td>1</td>\n",
       "      <td>15</td>\n",
       "      <td>0</td>\n",
       "      <td>ZERO</td>\n",
       "      <td>METS</td>\n",
       "      <td>27000.0</td>\n",
       "    </tr>\n",
       "    <tr>\n",
       "      <th>2</th>\n",
       "      <td>3</td>\n",
       "      <td>3</td>\n",
       "      <td>2021-02-26</td>\n",
       "      <td>29</td>\n",
       "      <td>12</td>\n",
       "      <td>5</td>\n",
       "      <td>1</td>\n",
       "      <td>13</td>\n",
       "      <td>0</td>\n",
       "      <td>ZERO</td>\n",
       "      <td>METS</td>\n",
       "      <td>0.0</td>\n",
       "    </tr>\n",
       "    <tr>\n",
       "      <th>3</th>\n",
       "      <td>4</td>\n",
       "      <td>4</td>\n",
       "      <td>2021-02-26</td>\n",
       "      <td>29</td>\n",
       "      <td>15</td>\n",
       "      <td>6</td>\n",
       "      <td>1</td>\n",
       "      <td>13</td>\n",
       "      <td>0</td>\n",
       "      <td>ZERO</td>\n",
       "      <td>METS</td>\n",
       "      <td>0.0</td>\n",
       "    </tr>\n",
       "    <tr>\n",
       "      <th>4</th>\n",
       "      <td>5</td>\n",
       "      <td>5</td>\n",
       "      <td>2021-02-26</td>\n",
       "      <td>29</td>\n",
       "      <td>10</td>\n",
       "      <td>5</td>\n",
       "      <td>1</td>\n",
       "      <td>15</td>\n",
       "      <td>0</td>\n",
       "      <td>ZERO</td>\n",
       "      <td>METS</td>\n",
       "      <td>0.0</td>\n",
       "    </tr>\n",
       "  </tbody>\n",
       "</table>\n",
       "</div>"
      ],
      "text/plain": [
       "   ID No.  Rep. Death_date  Age_death  Total_juv  No_clutch  Retrieved  \\\n",
       "0       1     1 2021-02-14         17          5          3          1   \n",
       "1       2     2 2021-12-02         15          1          1          1   \n",
       "2       3     3 2021-02-26         29         12          5          1   \n",
       "3       4     4 2021-02-26         29         15          6          1   \n",
       "4       5     5 2021-02-26         29         10          5          1   \n",
       "\n",
       "   Age_at_Mat  H_errors NP_treatment Inf_treatment  Spore_Count  \n",
       "0          13         0         ZERO          METS          0.0  \n",
       "1          15         0         ZERO          METS      27000.0  \n",
       "2          13         0         ZERO          METS          0.0  \n",
       "3          13         0         ZERO          METS          0.0  \n",
       "4          15         0         ZERO          METS          0.0  "
      ]
     },
     "execution_count": 14,
     "metadata": {},
     "output_type": "execute_result"
    }
   ],
   "source": [
    "data= df.merge(df_infected, how = 'left', on='ID No.')\n",
    "data.head(5)"
   ]
  },
  {
   "cell_type": "markdown",
   "metadata": {},
   "source": [
    "Since there is not any measurement for the control treatment we have to fill the entries with '0'"
   ]
  },
  {
   "cell_type": "code",
   "execution_count": 15,
   "metadata": {},
   "outputs": [],
   "source": [
    "data['Spore_Count'] = data['Spore_Count'].fillna(0)"
   ]
  },
  {
   "cell_type": "code",
   "execution_count": 16,
   "metadata": {},
   "outputs": [
    {
     "data": {
      "text/html": [
       "<div>\n",
       "<style scoped>\n",
       "    .dataframe tbody tr th:only-of-type {\n",
       "        vertical-align: middle;\n",
       "    }\n",
       "\n",
       "    .dataframe tbody tr th {\n",
       "        vertical-align: top;\n",
       "    }\n",
       "\n",
       "    .dataframe thead th {\n",
       "        text-align: right;\n",
       "    }\n",
       "</style>\n",
       "<table border=\"1\" class=\"dataframe\">\n",
       "  <thead>\n",
       "    <tr style=\"text-align: right;\">\n",
       "      <th></th>\n",
       "      <th>ID No.</th>\n",
       "      <th>Rep.</th>\n",
       "      <th>Death_date</th>\n",
       "      <th>Age_death</th>\n",
       "      <th>Total_juv</th>\n",
       "      <th>No_clutch</th>\n",
       "      <th>Retrieved</th>\n",
       "      <th>Age_at_Mat</th>\n",
       "      <th>H_errors</th>\n",
       "      <th>NP_treatment</th>\n",
       "      <th>Inf_treatment</th>\n",
       "      <th>Spore_Count</th>\n",
       "    </tr>\n",
       "  </thead>\n",
       "  <tbody>\n",
       "    <tr>\n",
       "      <th>0</th>\n",
       "      <td>1</td>\n",
       "      <td>1</td>\n",
       "      <td>2021-02-14</td>\n",
       "      <td>17</td>\n",
       "      <td>5</td>\n",
       "      <td>3</td>\n",
       "      <td>1</td>\n",
       "      <td>13</td>\n",
       "      <td>0</td>\n",
       "      <td>ZERO</td>\n",
       "      <td>METS</td>\n",
       "      <td>0.0</td>\n",
       "    </tr>\n",
       "    <tr>\n",
       "      <th>1</th>\n",
       "      <td>2</td>\n",
       "      <td>2</td>\n",
       "      <td>2021-12-02</td>\n",
       "      <td>15</td>\n",
       "      <td>1</td>\n",
       "      <td>1</td>\n",
       "      <td>1</td>\n",
       "      <td>15</td>\n",
       "      <td>0</td>\n",
       "      <td>ZERO</td>\n",
       "      <td>METS</td>\n",
       "      <td>27000.0</td>\n",
       "    </tr>\n",
       "    <tr>\n",
       "      <th>2</th>\n",
       "      <td>3</td>\n",
       "      <td>3</td>\n",
       "      <td>2021-02-26</td>\n",
       "      <td>29</td>\n",
       "      <td>12</td>\n",
       "      <td>5</td>\n",
       "      <td>1</td>\n",
       "      <td>13</td>\n",
       "      <td>0</td>\n",
       "      <td>ZERO</td>\n",
       "      <td>METS</td>\n",
       "      <td>0.0</td>\n",
       "    </tr>\n",
       "    <tr>\n",
       "      <th>3</th>\n",
       "      <td>4</td>\n",
       "      <td>4</td>\n",
       "      <td>2021-02-26</td>\n",
       "      <td>29</td>\n",
       "      <td>15</td>\n",
       "      <td>6</td>\n",
       "      <td>1</td>\n",
       "      <td>13</td>\n",
       "      <td>0</td>\n",
       "      <td>ZERO</td>\n",
       "      <td>METS</td>\n",
       "      <td>0.0</td>\n",
       "    </tr>\n",
       "    <tr>\n",
       "      <th>4</th>\n",
       "      <td>5</td>\n",
       "      <td>5</td>\n",
       "      <td>2021-02-26</td>\n",
       "      <td>29</td>\n",
       "      <td>10</td>\n",
       "      <td>5</td>\n",
       "      <td>1</td>\n",
       "      <td>15</td>\n",
       "      <td>0</td>\n",
       "      <td>ZERO</td>\n",
       "      <td>METS</td>\n",
       "      <td>0.0</td>\n",
       "    </tr>\n",
       "  </tbody>\n",
       "</table>\n",
       "</div>"
      ],
      "text/plain": [
       "   ID No.  Rep. Death_date  Age_death  Total_juv  No_clutch  Retrieved  \\\n",
       "0       1     1 2021-02-14         17          5          3          1   \n",
       "1       2     2 2021-12-02         15          1          1          1   \n",
       "2       3     3 2021-02-26         29         12          5          1   \n",
       "3       4     4 2021-02-26         29         15          6          1   \n",
       "4       5     5 2021-02-26         29         10          5          1   \n",
       "\n",
       "   Age_at_Mat  H_errors NP_treatment Inf_treatment  Spore_Count  \n",
       "0          13         0         ZERO          METS          0.0  \n",
       "1          15         0         ZERO          METS      27000.0  \n",
       "2          13         0         ZERO          METS          0.0  \n",
       "3          13         0         ZERO          METS          0.0  \n",
       "4          15         0         ZERO          METS          0.0  "
      ]
     },
     "execution_count": 16,
     "metadata": {},
     "output_type": "execute_result"
    }
   ],
   "source": [
    "data.head()"
   ]
  },
  {
   "cell_type": "code",
   "execution_count": 17,
   "metadata": {},
   "outputs": [],
   "source": [
    "# Drop unnessecery comumns \n",
    "data = data.drop(columns=['H_errors', 'Age_at_Mat', 'No_clutch', 'Death_date'])\n"
   ]
  },
  {
   "cell_type": "markdown",
   "metadata": {},
   "source": [
    "### This is our first  'complete-ish' dataset.\n",
    "Success!!!"
   ]
  },
  {
   "cell_type": "code",
   "execution_count": 18,
   "metadata": {},
   "outputs": [
    {
     "data": {
      "text/html": [
       "<div>\n",
       "<style scoped>\n",
       "    .dataframe tbody tr th:only-of-type {\n",
       "        vertical-align: middle;\n",
       "    }\n",
       "\n",
       "    .dataframe tbody tr th {\n",
       "        vertical-align: top;\n",
       "    }\n",
       "\n",
       "    .dataframe thead th {\n",
       "        text-align: right;\n",
       "    }\n",
       "</style>\n",
       "<table border=\"1\" class=\"dataframe\">\n",
       "  <thead>\n",
       "    <tr style=\"text-align: right;\">\n",
       "      <th></th>\n",
       "      <th>ID No.</th>\n",
       "      <th>Rep.</th>\n",
       "      <th>Age_death</th>\n",
       "      <th>Total_juv</th>\n",
       "      <th>Retrieved</th>\n",
       "      <th>NP_treatment</th>\n",
       "      <th>Inf_treatment</th>\n",
       "      <th>Spore_Count</th>\n",
       "    </tr>\n",
       "  </thead>\n",
       "  <tbody>\n",
       "    <tr>\n",
       "      <th>0</th>\n",
       "      <td>1</td>\n",
       "      <td>1</td>\n",
       "      <td>17</td>\n",
       "      <td>5</td>\n",
       "      <td>1</td>\n",
       "      <td>ZERO</td>\n",
       "      <td>METS</td>\n",
       "      <td>0.0</td>\n",
       "    </tr>\n",
       "    <tr>\n",
       "      <th>1</th>\n",
       "      <td>2</td>\n",
       "      <td>2</td>\n",
       "      <td>15</td>\n",
       "      <td>1</td>\n",
       "      <td>1</td>\n",
       "      <td>ZERO</td>\n",
       "      <td>METS</td>\n",
       "      <td>27000.0</td>\n",
       "    </tr>\n",
       "    <tr>\n",
       "      <th>2</th>\n",
       "      <td>3</td>\n",
       "      <td>3</td>\n",
       "      <td>29</td>\n",
       "      <td>12</td>\n",
       "      <td>1</td>\n",
       "      <td>ZERO</td>\n",
       "      <td>METS</td>\n",
       "      <td>0.0</td>\n",
       "    </tr>\n",
       "    <tr>\n",
       "      <th>3</th>\n",
       "      <td>4</td>\n",
       "      <td>4</td>\n",
       "      <td>29</td>\n",
       "      <td>15</td>\n",
       "      <td>1</td>\n",
       "      <td>ZERO</td>\n",
       "      <td>METS</td>\n",
       "      <td>0.0</td>\n",
       "    </tr>\n",
       "    <tr>\n",
       "      <th>4</th>\n",
       "      <td>5</td>\n",
       "      <td>5</td>\n",
       "      <td>29</td>\n",
       "      <td>10</td>\n",
       "      <td>1</td>\n",
       "      <td>ZERO</td>\n",
       "      <td>METS</td>\n",
       "      <td>0.0</td>\n",
       "    </tr>\n",
       "  </tbody>\n",
       "</table>\n",
       "</div>"
      ],
      "text/plain": [
       "   ID No.  Rep.  Age_death  Total_juv  Retrieved NP_treatment Inf_treatment  \\\n",
       "0       1     1         17          5          1         ZERO          METS   \n",
       "1       2     2         15          1          1         ZERO          METS   \n",
       "2       3     3         29         12          1         ZERO          METS   \n",
       "3       4     4         29         15          1         ZERO          METS   \n",
       "4       5     5         29         10          1         ZERO          METS   \n",
       "\n",
       "   Spore_Count  \n",
       "0          0.0  \n",
       "1      27000.0  \n",
       "2          0.0  \n",
       "3          0.0  \n",
       "4          0.0  "
      ]
     },
     "execution_count": 18,
     "metadata": {},
     "output_type": "execute_result"
    }
   ],
   "source": [
    "data.head()"
   ]
  },
  {
   "cell_type": "markdown",
   "metadata": {},
   "source": [
    "Let's make some subsets of the data!\n",
    "First we would like to inspect on the infection level. So:"
   ]
  },
  {
   "cell_type": "code",
   "execution_count": 19,
   "metadata": {},
   "outputs": [],
   "source": [
    "# Subset of the data\n",
    "control = func.get_INF_level(data, 'NO_METS')\n",
    "exposed = func.get_INF_level(data, 'METS')"
   ]
  },
  {
   "cell_type": "markdown",
   "metadata": {},
   "source": [
    "Another aspect that we have to take in account is that not all of the individuals from the exposed treatment were infected."
   ]
  },
  {
   "cell_type": "code",
   "execution_count": 20,
   "metadata": {},
   "outputs": [
    {
     "name": "stdout",
     "output_type": "stream",
     "text": [
      "There are 41 individuals that were infected and 31 that where not from the exposed treatment!\n"
     ]
    }
   ],
   "source": [
    "not_inf = len(exposed[exposed['Spore_Count'] == 0])\n",
    "inf = len(exposed[exposed['Spore_Count'] > 0])\n",
    "\n",
    "print('There are {} individuals that were infected and {} that where not from the exposed treatment!'.format(inf, not_inf))"
   ]
  },
  {
   "cell_type": "markdown",
   "metadata": {},
   "source": [
    "The 'early deaths' (individuals that died before day-8) are denoted with '0' in 'Retrieved' column!"
   ]
  },
  {
   "cell_type": "code",
   "execution_count": 21,
   "metadata": {},
   "outputs": [],
   "source": [
    "died_bf_8 = exposed[exposed['Retrieved'] == 0]\n",
    "died_after_8 =  exposed[exposed['Retrieved'] == 1]\n",
    "\n",
    "infected = exposed[(exposed['Retrieved'] == 1) & (exposed['Spore_Count'] > 0)]\n",
    "not_infected = exposed[(exposed['Retrieved'] == 1) & (exposed['Spore_Count'] == 0)]"
   ]
  },
  {
   "cell_type": "code",
   "execution_count": 22,
   "metadata": {},
   "outputs": [],
   "source": [
    "early_deaths = died_bf_8.groupby('NP_treatment')['Retrieved'].count()\n",
    "infected_counts = infected.groupby('NP_treatment')['Retrieved'].count()\n",
    "not_infected_counts = not_infected.groupby('NP_treatment')['Retrieved'].count()\n",
    "excluded_counts = H_e.groupby(['NP_treatment', 'Inf_treatment'])['Retrieved'].count()"
   ]
  },
  {
   "cell_type": "code",
   "execution_count": 23,
   "metadata": {},
   "outputs": [
    {
     "name": "stdout",
     "output_type": "stream",
     "text": [
      "There are 6 and 2 individuals that died before spore count inspection from the high and low NP treatment respectively!\n",
      "\n",
      "There are 14, 16, and 11 successfully infected and 3, 6, and 14 that where not, from the high, low and zero NP treatment respectively!\n",
      "\n",
      "There are 2 and 1 individuals that were excluded from the analysis from the high and low NP treatment respectively!\n"
     ]
    }
   ],
   "source": [
    "print('There are {} and {} individuals that died before spore count inspection from the high and low NP treatment respectively!'.format(early_deaths[0], early_deaths[1]))\n",
    "print()\n",
    "print('There are {}, {}, and {} successfully infected and {}, {}, and {} that where not, from the high, low and zero NP treatment respectively!'.format(infected_counts[0], infected_counts[1], infected_counts[2], not_infected_counts[0], not_infected_counts[1],not_infected_counts[2]))\n",
    "print()\n",
    "print('There are {} and {} individuals that were excluded from the analysis from the high and low NP treatment respectively!'.format(excluded_counts[0], excluded_counts[1]))"
   ]
  },
  {
   "cell_type": "markdown",
   "metadata": {},
   "source": [
    "The pie charts illustrating the different subsets of Daphnia individuals under the three NP concentrations of the parasite-inoculated treatment.\n",
    "\n",
    "Red and green colours represent the individuals that were confirmed as infected and not infected after inspection, respectively. Individuals that died before infection and could not be assessed (day 8 post-inoculation) were categorised as “early death” (grey).\n",
    "\n",
    "Individuals which died before parasite inoculation (day 3) or due to handling error are shown with black colour and were excluded from every analysis."
   ]
  },
  {
   "cell_type": "code",
   "execution_count": 24,
   "metadata": {
    "scrolled": true
   },
   "outputs": [
    {
     "data": {
      "image/png": "[encoded data removed]",
      "text/plain": [
       "<Figure size 432x288 with 1 Axes>"
      ]
     },
     "metadata": {},
     "output_type": "display_data"
    },
    {
     "data": {
      "image/png": "[encoded data removed]",
      "text/plain": [
       "<Figure size 432x288 with 1 Axes>"
      ]
     },
     "metadata": {},
     "output_type": "display_data"
    },
    {
     "data": {
      "image/png": "[encoded data removed]",
      "text/plain": [
       "<Figure size 432x288 with 1 Axes>"
      ]
     },
     "metadata": {},
     "output_type": "display_data"
    }
   ],
   "source": [
    "func.figures()"
   ]
  },
  {
   "cell_type": "markdown",
   "metadata": {},
   "source": [
    "This is where it gets tricky! The parasite needs about 8 days to complete its infection cycle and produce mature spores. So individuals that died before that day ('early deaths') weren't posible to be fully infected. Though, excluding ‘early deaths’ from the infection treatment would result in an underestimation of parasite-related reduction of host fitness. That's why we would like to compare the control treatments (<b>green</b>) <b> vs </b> the successfully infected individuals (<b>red</b>) *plus* the individuals that died before day 8 (<b>grey</b>)."
   ]
  },
  {
   "cell_type": "markdown",
   "metadata": {},
   "source": [
    "Let's combine the two datasets..."
   ]
  },
  {
   "cell_type": "code",
   "execution_count": 24,
   "metadata": {},
   "outputs": [],
   "source": [
    "mod_inf = infected.merge(died_bf_8, how = 'outer')"
   ]
  },
  {
   "cell_type": "markdown",
   "metadata": {},
   "source": [
    "For host fitness variables, “early death” individuals were added together with infected individuals in order to compare them with the control (i.e., non-inoculated) treatment. \n",
    "\n",
    "So the two datasets that we will use for inspecting host fitness is '*control*' and '*mod_inf*' !!! Let's name it 'HF' from *Host Fitness*"
   ]
  },
  {
   "cell_type": "code",
   "execution_count": 25,
   "metadata": {},
   "outputs": [
    {
     "data": {
      "text/html": [
       "<div>\n",
       "<style scoped>\n",
       "    .dataframe tbody tr th:only-of-type {\n",
       "        vertical-align: middle;\n",
       "    }\n",
       "\n",
       "    .dataframe tbody tr th {\n",
       "        vertical-align: top;\n",
       "    }\n",
       "\n",
       "    .dataframe thead th {\n",
       "        text-align: right;\n",
       "    }\n",
       "</style>\n",
       "<table border=\"1\" class=\"dataframe\">\n",
       "  <thead>\n",
       "    <tr style=\"text-align: right;\">\n",
       "      <th></th>\n",
       "      <th>ID No.</th>\n",
       "      <th>Rep.</th>\n",
       "      <th>Age_death</th>\n",
       "      <th>Total_juv</th>\n",
       "      <th>Retrieved</th>\n",
       "      <th>NP_treatment</th>\n",
       "      <th>Inf_treatment</th>\n",
       "      <th>Spore_Count</th>\n",
       "    </tr>\n",
       "  </thead>\n",
       "  <tbody>\n",
       "    <tr>\n",
       "      <th>0</th>\n",
       "      <td>21</td>\n",
       "      <td>1</td>\n",
       "      <td>29</td>\n",
       "      <td>10</td>\n",
       "      <td>0</td>\n",
       "      <td>ZERO</td>\n",
       "      <td>NO_METS</td>\n",
       "      <td>0.0</td>\n",
       "    </tr>\n",
       "    <tr>\n",
       "      <th>1</th>\n",
       "      <td>22</td>\n",
       "      <td>2</td>\n",
       "      <td>29</td>\n",
       "      <td>10</td>\n",
       "      <td>0</td>\n",
       "      <td>ZERO</td>\n",
       "      <td>NO_METS</td>\n",
       "      <td>0.0</td>\n",
       "    </tr>\n",
       "    <tr>\n",
       "      <th>2</th>\n",
       "      <td>23</td>\n",
       "      <td>3</td>\n",
       "      <td>29</td>\n",
       "      <td>7</td>\n",
       "      <td>0</td>\n",
       "      <td>ZERO</td>\n",
       "      <td>NO_METS</td>\n",
       "      <td>0.0</td>\n",
       "    </tr>\n",
       "    <tr>\n",
       "      <th>3</th>\n",
       "      <td>24</td>\n",
       "      <td>4</td>\n",
       "      <td>20</td>\n",
       "      <td>4</td>\n",
       "      <td>0</td>\n",
       "      <td>ZERO</td>\n",
       "      <td>NO_METS</td>\n",
       "      <td>0.0</td>\n",
       "    </tr>\n",
       "    <tr>\n",
       "      <th>4</th>\n",
       "      <td>25</td>\n",
       "      <td>5</td>\n",
       "      <td>29</td>\n",
       "      <td>4</td>\n",
       "      <td>0</td>\n",
       "      <td>ZERO</td>\n",
       "      <td>NO_METS</td>\n",
       "      <td>0.0</td>\n",
       "    </tr>\n",
       "  </tbody>\n",
       "</table>\n",
       "</div>"
      ],
      "text/plain": [
       "   ID No.  Rep.  Age_death  Total_juv  Retrieved NP_treatment Inf_treatment  \\\n",
       "0      21     1         29         10          0         ZERO       NO_METS   \n",
       "1      22     2         29         10          0         ZERO       NO_METS   \n",
       "2      23     3         29          7          0         ZERO       NO_METS   \n",
       "3      24     4         20          4          0         ZERO       NO_METS   \n",
       "4      25     5         29          4          0         ZERO       NO_METS   \n",
       "\n",
       "   Spore_Count  \n",
       "0          0.0  \n",
       "1          0.0  \n",
       "2          0.0  \n",
       "3          0.0  \n",
       "4          0.0  "
      ]
     },
     "execution_count": 25,
     "metadata": {},
     "output_type": "execute_result"
    }
   ],
   "source": [
    "HF = control.merge(mod_inf, how = 'outer')\n",
    "HF.head()"
   ]
  },
  {
   "cell_type": "markdown",
   "metadata": {},
   "source": [
    "For Parasite fitness let's create a column that states which individuals were infected which were not! Given that they survived until day-8 (because after that day infection could be assessed) "
   ]
  },
  {
   "cell_type": "code",
   "execution_count": 26,
   "metadata": {},
   "outputs": [
    {
     "name": "stderr",
     "output_type": "stream",
     "text": [
      "C:\\Users\\STELIOS\\AppData\\Local\\Temp/ipykernel_9844/172347244.py:1: SettingWithCopyWarning: \n",
      "A value is trying to be set on a copy of a slice from a DataFrame.\n",
      "Try using .loc[row_indexer,col_indexer] = value instead\n",
      "\n",
      "See the caveats in the documentation: https://pandas.pydata.org/pandas-docs/stable/user_guide/indexing.html#returning-a-view-versus-a-copy\n",
      "  died_after_8['inf_binom'] = died_after_8['Spore_Count'] > 0\n",
      "C:\\Users\\STELIOS\\AppData\\Local\\Temp/ipykernel_9844/172347244.py:2: SettingWithCopyWarning: \n",
      "A value is trying to be set on a copy of a slice from a DataFrame.\n",
      "Try using .loc[row_indexer,col_indexer] = value instead\n",
      "\n",
      "See the caveats in the documentation: https://pandas.pydata.org/pandas-docs/stable/user_guide/indexing.html#returning-a-view-versus-a-copy\n",
      "  died_after_8['inf_binom'] = died_after_8['inf_binom'].map({True : 1, False : 0})\n"
     ]
    },
    {
     "data": {
      "text/html": [
       "<div>\n",
       "<style scoped>\n",
       "    .dataframe tbody tr th:only-of-type {\n",
       "        vertical-align: middle;\n",
       "    }\n",
       "\n",
       "    .dataframe tbody tr th {\n",
       "        vertical-align: top;\n",
       "    }\n",
       "\n",
       "    .dataframe thead th {\n",
       "        text-align: right;\n",
       "    }\n",
       "</style>\n",
       "<table border=\"1\" class=\"dataframe\">\n",
       "  <thead>\n",
       "    <tr style=\"text-align: right;\">\n",
       "      <th></th>\n",
       "      <th>ID No.</th>\n",
       "      <th>Rep.</th>\n",
       "      <th>Age_death</th>\n",
       "      <th>Total_juv</th>\n",
       "      <th>Retrieved</th>\n",
       "      <th>NP_treatment</th>\n",
       "      <th>Inf_treatment</th>\n",
       "      <th>Spore_Count</th>\n",
       "      <th>inf_binom</th>\n",
       "    </tr>\n",
       "  </thead>\n",
       "  <tbody>\n",
       "    <tr>\n",
       "      <th>0</th>\n",
       "      <td>1</td>\n",
       "      <td>1</td>\n",
       "      <td>17</td>\n",
       "      <td>5</td>\n",
       "      <td>1</td>\n",
       "      <td>ZERO</td>\n",
       "      <td>METS</td>\n",
       "      <td>0.0</td>\n",
       "      <td>0</td>\n",
       "    </tr>\n",
       "    <tr>\n",
       "      <th>1</th>\n",
       "      <td>2</td>\n",
       "      <td>2</td>\n",
       "      <td>15</td>\n",
       "      <td>1</td>\n",
       "      <td>1</td>\n",
       "      <td>ZERO</td>\n",
       "      <td>METS</td>\n",
       "      <td>27000.0</td>\n",
       "      <td>1</td>\n",
       "    </tr>\n",
       "    <tr>\n",
       "      <th>2</th>\n",
       "      <td>3</td>\n",
       "      <td>3</td>\n",
       "      <td>29</td>\n",
       "      <td>12</td>\n",
       "      <td>1</td>\n",
       "      <td>ZERO</td>\n",
       "      <td>METS</td>\n",
       "      <td>0.0</td>\n",
       "      <td>0</td>\n",
       "    </tr>\n",
       "    <tr>\n",
       "      <th>3</th>\n",
       "      <td>4</td>\n",
       "      <td>4</td>\n",
       "      <td>29</td>\n",
       "      <td>15</td>\n",
       "      <td>1</td>\n",
       "      <td>ZERO</td>\n",
       "      <td>METS</td>\n",
       "      <td>0.0</td>\n",
       "      <td>0</td>\n",
       "    </tr>\n",
       "    <tr>\n",
       "      <th>4</th>\n",
       "      <td>5</td>\n",
       "      <td>5</td>\n",
       "      <td>29</td>\n",
       "      <td>10</td>\n",
       "      <td>1</td>\n",
       "      <td>ZERO</td>\n",
       "      <td>METS</td>\n",
       "      <td>0.0</td>\n",
       "      <td>0</td>\n",
       "    </tr>\n",
       "  </tbody>\n",
       "</table>\n",
       "</div>"
      ],
      "text/plain": [
       "   ID No.  Rep.  Age_death  Total_juv  Retrieved NP_treatment Inf_treatment  \\\n",
       "0       1     1         17          5          1         ZERO          METS   \n",
       "1       2     2         15          1          1         ZERO          METS   \n",
       "2       3     3         29         12          1         ZERO          METS   \n",
       "3       4     4         29         15          1         ZERO          METS   \n",
       "4       5     5         29         10          1         ZERO          METS   \n",
       "\n",
       "   Spore_Count  inf_binom  \n",
       "0          0.0          0  \n",
       "1      27000.0          1  \n",
       "2          0.0          0  \n",
       "3          0.0          0  \n",
       "4          0.0          0  "
      ]
     },
     "execution_count": 26,
     "metadata": {},
     "output_type": "execute_result"
    }
   ],
   "source": [
    "died_after_8['inf_binom'] = died_after_8['Spore_Count'] > 0\n",
    "died_after_8['inf_binom'] = died_after_8['inf_binom'].map({True : 1, False : 0})\n",
    "died_after_8.head()"
   ]
  },
  {
   "cell_type": "markdown",
   "metadata": {},
   "source": [
    "## Host fitness:\n",
    "For Host fitness we will assess two main traits:\n",
    "1. *Host lifespan* (the day until the died) and \n",
    "2. *Host fecundity* (total number of juveniles per individual)\n",
    "\n",
    "-For *Host lifespan* we will be using the dataframe HF. \n",
    "\n",
    "-For *Host fecundity* we will be using the same dataframe (HF) but we will exclude the individuals that haven't reprocuced at all since we did not contribute to the host fitness (HF[HF['Total_juv']> 0])."
   ]
  },
  {
   "cell_type": "code",
   "execution_count": 27,
   "metadata": {},
   "outputs": [],
   "source": [
    "def Host_fitness(Trait):\n",
    "    \n",
    "    from bokeh.layouts import row \n",
    "    \n",
    "    if Trait == 'Host lifespan':\n",
    "        var = 'Age_death'\n",
    "        num = 30\n",
    "        axis_label = 'Days'\n",
    "        a = control\n",
    "        b = mod_inf\n",
    "    elif Trait == 'Host fecundity':\n",
    "        var = 'Total_juv'\n",
    "        num = 18\n",
    "        axis_label = 'Total number of ofspring (per host)'\n",
    "        a = control[control['Total_juv'] > 0 ]\n",
    "        b = mod_inf[mod_inf['Total_juv'] > 0 ]\n",
    "    \n",
    "    # Plot for the control treatment    \n",
    "    plot1 = func.make_plot(a,  func.errorbar_df(a, var), var, 'Control',axis_label, num)\n",
    "    # Plot for the infected treatment \n",
    "    plot2 = func.make_plot(b, func.errorbar_df(b, var), var, 'Infected','',  num)\n",
    "    \n",
    "    # combination of both\n",
    "    row_layout = row(plot1, plot2)\n",
    "\n",
    "    \n",
    "    return row_layout"
   ]
  },
  {
   "cell_type": "markdown",
   "metadata": {},
   "source": [
    "## Parasite fitness:\n",
    "For Parasite fitness we will assess three main traits: \n",
    "\n",
    "1. *Host viability* (the proportion of inoculated hosts that survived until at least day 8 post-inoculation), \n",
    "\n",
    "2. *Parasite infectivity* (the proportion of inoculated hosts that became successfully infected) and \n",
    "\n",
    "3. *Parasite reproduction* (number of spores upon host death per successfully infected host)\n",
    "\n",
    "In order to do that we would need to use different dataframes to assess each trait:\n",
    "\n",
    "For *Host viability* we will be using the 'exposed' dataframe. In order for the parasite to complete its infection cycle it needs 8 days once the spore have entered the host. So if the host dies before that day the parasite died too.  \n",
    "\n",
    "For *Parasite infectivity* we will be using the 'died_after_8' dataframe, as we want to plot the ones that were infected and the ones that were not given that they have survived until day-8. With this we would assess how infectious the parasite is.\n",
    "\n",
    "For *Parasite reproduction* we will be using the 'infected' dataframe (exposed and survied until day-8 post-inoculation), as we want to see the total spore yield per nanoplastic treatment\n",
    "\n",
    "\n",
    "\n",
    "\n"
   ]
  },
  {
   "cell_type": "code",
   "execution_count": 28,
   "metadata": {},
   "outputs": [],
   "source": [
    "def Parasite_fitness(Trait):\n",
    "\n",
    "    if Trait == 'Parasite infectivity':\n",
    "        return func.make_barplot(df_main = died_after_8, \n",
    "                                 df_errorbar = func.errorbar_df(died_after_8, 'inf_binom'),\n",
    "                                 var = 'inf_binom', \n",
    "                                 title = 'Parasite infectivity',\n",
    "                                 axis_label = 'Proportion of infected host')\n",
    "    \n",
    "    if Trait == 'Parasite reproduction':\n",
    "        return func.make_plot(df_main = infected,\n",
    "                              df_errorbar = func.errorbar_df(infected, 'Spore_Count'),\n",
    "                              var = 'Spore_Count', \n",
    "                              title = 'Parasite reproduction',\n",
    "                              axis_label = 'Spore yield per infected host',  \n",
    "                              num = 40000)\n",
    "    \n",
    "    if Trait == 'Host viability':\n",
    "        return func.make_barplot(df_main = exposed, \n",
    "                                 df_errorbar = func.errorbar_df(exposed, 'Retrieved'), \n",
    "                                 var = 'Retrieved', \n",
    "                                 title = 'Daphnia viability',\n",
    "                                axis_label = 'Host survival probability \\n (until day 8 post-inoculation)')"
   ]
  },
  {
   "cell_type": "code",
   "execution_count": 29,
   "metadata": {},
   "outputs": [],
   "source": [
    "def Fitness(fitness, Trait):\n",
    "    if fitness == 'Host':\n",
    "        if Trait == 'Host lifespan' or Trait == 'Host fecundity':\n",
    "            \n",
    "             return Host_fitness(Trait)\n",
    "             \n",
    "    if fitness == 'Parasite':\n",
    "        if Trait == 'Parasite infectivity' or Trait == 'Parasite reproduction' or Trait == 'Host viability':\n",
    "            \n",
    "            return Parasite_fitness(Trait)"
   ]
  },
  {
   "cell_type": "markdown",
   "metadata": {},
   "source": [
    "## Statistical analysis\n",
    "\n",
    "For <b>Host fecundity</b> and <b>lifespan</b> we assume normal distribution of the data as these traits are being analysed in that way in the literature.\n",
    "\n",
    "*(Manzi, F., Halle, S., Seemann, L., Ben-Ami, F. and Wolinska, J. (2021) “Sequential infection of Daphnia magna by a gut microsporidium followed by a haemolymph yeast decreases transmission of both parasites,” Parasitology. Cambridge University Press, 148(13), pp. 1566–1577. doi: 10.1017/S0031182021001384.)*\n",
    "\n",
    "The data for <b>Parasite reproduction</b> follow normal distribution. \n",
    "\n",
    "<b> Host viability </b> and <b>parasite infectivity</b> will be analysed using binomial distribution with NP concentration as the explanatory variable"
   ]
  },
  {
   "cell_type": "code",
   "execution_count": 30,
   "metadata": {},
   "outputs": [],
   "source": [
    "def Normality_check(var):\n",
    "    if var == 'Host fecundity':\n",
    "        df = HF[HF['Total_juv']> 0]['Total_juv']\n",
    "    if var == 'Host lifespan':\n",
    "        df = HF['Age_death']\n",
    "    if var == 'Parasite reproduction':\n",
    "        df = infected['Spore_Count']\n",
    "        \n",
    "    func.Q_Q_Plot(df)\n",
    "    func.Q_Q_Hist(df)"
   ]
  },
  {
   "cell_type": "markdown",
   "metadata": {},
   "source": [
    "###### a. Host fecundity"
   ]
  },
  {
   "cell_type": "code",
   "execution_count": 32,
   "metadata": {
    "scrolled": true
   },
   "outputs": [],
   "source": [
    "# Normality_check('Host fecundity')"
   ]
  },
  {
   "cell_type": "markdown",
   "metadata": {},
   "source": [
    "######  b. Host lifespan"
   ]
  },
  {
   "cell_type": "code",
   "execution_count": 33,
   "metadata": {},
   "outputs": [],
   "source": [
    "# Normality_check('Host lifespan')"
   ]
  },
  {
   "cell_type": "markdown",
   "metadata": {},
   "source": [
    "######  c. Parasite reproduction"
   ]
  },
  {
   "cell_type": "code",
   "execution_count": 34,
   "metadata": {},
   "outputs": [],
   "source": [
    "# Normality_check('Parasite reproduction')"
   ]
  },
  {
   "cell_type": "markdown",
   "metadata": {},
   "source": [
    "## Anova analysis"
   ]
  },
  {
   "cell_type": "code",
   "execution_count": 33,
   "metadata": {},
   "outputs": [],
   "source": [
    "#Parasite fitness\n",
    "PI = func.anova(died_after_8, 'inf_binom', 'NP_treatment')\n",
    "PR = func.anova(infected, 'Spore_Count', 'NP_treatment')\n",
    "HV = func.anova(exposed, 'Retrieved', 'NP_treatment')\n",
    "\n",
    "#Host fitness\n",
    "HR = func.anova(HF[HF['Total_juv']> 0],'Total_juv','NP_treatment', 'Inf_treatment')\n",
    "HL = func.anova(HF, 'Age_death', 'NP_treatment', 'Inf_treatment')"
   ]
  },
  {
   "cell_type": "markdown",
   "metadata": {},
   "source": [
    "# There are two ways to check the results:\n",
    "Either with here in the notebook or with the dashboard given further below"
   ]
  },
  {
   "cell_type": "code",
   "execution_count": 34,
   "metadata": {
    "scrolled": true
   },
   "outputs": [
    {
     "data": {
      "application/javascript": [
       "\n",
       "(function(root) {\n",
       "  function now() {\n",
       "    return new Date();\n",
       "  }\n",
       "\n",
       "  var force = true;\n",
       "\n",
       "  if (typeof root._bokeh_onload_callbacks === \"undefined\" || force === true) {\n",
       "    root._bokeh_onload_callbacks = [];\n",
       "    root._bokeh_is_loading = undefined;\n",
       "  }\n",
       "\n",
       "  if (typeof (root._bokeh_timeout) === \"undefined\" || force === true) {\n",
       "    root._bokeh_timeout = Date.now() + 5000;\n",
       "    root._bokeh_failed_load = false;\n",
       "  }\n",
       "\n",
       "  function run_callbacks() {\n",
       "    try {\n",
       "      root._bokeh_onload_callbacks.forEach(function(callback) {\n",
       "        if (callback != null)\n",
       "          callback();\n",
       "      });\n",
       "    } finally {\n",
       "      delete root._bokeh_onload_callbacks\n",
       "    }\n",
       "    console.debug(\"Bokeh: all callbacks have finished\");\n",
       "  }\n",
       "\n",
       "  function load_libs(css_urls, js_urls, js_modules, callback) {\n",
       "    if (css_urls == null) css_urls = [];\n",
       "    if (js_urls == null) js_urls = [];\n",
       "    if (js_modules == null) js_modules = [];\n",
       "\n",
       "    root._bokeh_onload_callbacks.push(callback);\n",
       "    if (root._bokeh_is_loading > 0) {\n",
       "      console.debug(\"Bokeh: BokehJS is being loaded, scheduling callback at\", now());\n",
       "      return null;\n",
       "    }\n",
       "    if (js_urls.length === 0 && js_modules.length === 0) {\n",
       "      run_callbacks();\n",
       "      return null;\n",
       "    }\n",
       "    console.debug(\"Bokeh: BokehJS not loaded, scheduling load and callback at\", now());\n",
       "    root._bokeh_is_loading = css_urls.length + js_urls.length + js_modules.length;\n",
       "\n",
       "    function on_load() {\n",
       "      root._bokeh_is_loading--;\n",
       "      if (root._bokeh_is_loading === 0) {\n",
       "        console.debug(\"Bokeh: all BokehJS libraries/stylesheets loaded\");\n",
       "        run_callbacks()\n",
       "      }\n",
       "    }\n",
       "\n",
       "    function on_error() {\n",
       "      console.error(\"failed to load \" + url);\n",
       "    }\n",
       "\n",
       "    for (var i = 0; i < css_urls.length; i++) {\n",
       "      var url = css_urls[i];\n",
       "      const element = document.createElement(\"link\");\n",
       "      element.onload = on_load;\n",
       "      element.onerror = on_error;\n",
       "      element.rel = \"stylesheet\";\n",
       "      element.type = \"text/css\";\n",
       "      element.href = url;\n",
       "      console.debug(\"Bokeh: injecting link tag for BokehJS stylesheet: \", url);\n",
       "      document.body.appendChild(element);\n",
       "    }\n",
       "\n",
       "    var skip = [];\n",
       "    if (window.requirejs) {\n",
       "      window.requirejs.config({'packages': {}, 'paths': {}, 'shim': {}});\n",
       "      \n",
       "    }\n",
       "    for (var i = 0; i < js_urls.length; i++) {\n",
       "      var url = js_urls[i];\n",
       "      if (skip.indexOf(url) >= 0) { on_load(); continue; }\n",
       "      var element = document.createElement('script');\n",
       "      element.onload = on_load;\n",
       "      element.onerror = on_error;\n",
       "      element.async = false;\n",
       "      element.src = url;\n",
       "      console.debug(\"Bokeh: injecting script tag for BokehJS library: \", url);\n",
       "      document.head.appendChild(element);\n",
       "    }\n",
       "    for (var i = 0; i < js_modules.length; i++) {\n",
       "      var url = js_modules[i];\n",
       "      if (skip.indexOf(url) >= 0) { on_load(); continue; }\n",
       "      var element = document.createElement('script');\n",
       "      element.onload = on_load;\n",
       "      element.onerror = on_error;\n",
       "      element.async = false;\n",
       "      element.src = url;\n",
       "      element.type = \"module\";\n",
       "      console.debug(\"Bokeh: injecting script tag for BokehJS library: \", url);\n",
       "      document.head.appendChild(element);\n",
       "    }\n",
       "    if (!js_urls.length && !js_modules.length) {\n",
       "      on_load()\n",
       "    }\n",
       "  };\n",
       "\n",
       "  function inject_raw_css(css) {\n",
       "    const element = document.createElement(\"style\");\n",
       "    element.appendChild(document.createTextNode(css));\n",
       "    document.body.appendChild(element);\n",
       "  }\n",
       "\n",
       "  var js_urls = [\"https://cdn.bokeh.org/bokeh/release/bokeh-2.4.2.min.js\", \"https://cdn.bokeh.org/bokeh/release/bokeh-gl-2.4.2.min.js\", \"https://cdn.bokeh.org/bokeh/release/bokeh-widgets-2.4.2.min.js\", \"https://cdn.bokeh.org/bokeh/release/bokeh-tables-2.4.2.min.js\", \"https://cdn.bokeh.org/bokeh/release/bokeh-mathjax-2.4.2.min.js\", \"https://unpkg.com/@holoviz/panel@0.12.5/dist/panel.min.js\"];\n",
       "  var js_modules = [];\n",
       "  var css_urls = [\"https://unpkg.com/@holoviz/panel@0.12.5/dist/css/alerts.css\", \"https://unpkg.com/@holoviz/panel@0.12.5/dist/css/card.css\", \"https://unpkg.com/@holoviz/panel@0.12.5/dist/css/dataframe.css\", \"https://unpkg.com/@holoviz/panel@0.12.5/dist/css/json.css\", \"https://unpkg.com/@holoviz/panel@0.12.5/dist/css/loading.css\", \"https://unpkg.com/@holoviz/panel@0.12.5/dist/css/markdown.css\", \"https://unpkg.com/@holoviz/panel@0.12.5/dist/css/widgets.css\"];\n",
       "  var inline_js = [\n",
       "    function(Bokeh) {\n",
       "      inject_raw_css(\"\\n    .bk.pn-loading.arcs:before {\\n      background-image: url(\\\"data:image/svg+xml;base64,PHN2ZyB4bWxucz0iaHR0cDovL3d3dy53My5vcmcvMjAwMC9zdmciIHhtbG5zOnhsaW5rPSJodHRwOi8vd3d3LnczLm9yZy8xOTk5L3hsaW5rIiBzdHlsZT0ibWFyZ2luOiBhdXRvOyBiYWNrZ3JvdW5kOiBub25lOyBkaXNwbGF5OiBibG9jazsgc2hhcGUtcmVuZGVyaW5nOiBhdXRvOyIgdmlld0JveD0iMCAwIDEwMCAxMDAiIHByZXNlcnZlQXNwZWN0UmF0aW89InhNaWRZTWlkIj4gIDxjaXJjbGUgY3g9IjUwIiBjeT0iNTAiIHI9IjMyIiBzdHJva2Utd2lkdGg9IjgiIHN0cm9rZT0iI2MzYzNjMyIgc3Ryb2tlLWRhc2hhcnJheT0iNTAuMjY1NDgyNDU3NDM2NjkgNTAuMjY1NDgyNDU3NDM2NjkiIGZpbGw9Im5vbmUiIHN0cm9rZS1saW5lY2FwPSJyb3VuZCI+ICAgIDxhbmltYXRlVHJhbnNmb3JtIGF0dHJpYnV0ZU5hbWU9InRyYW5zZm9ybSIgdHlwZT0icm90YXRlIiByZXBlYXRDb3VudD0iaW5kZWZpbml0ZSIgZHVyPSIxcyIga2V5VGltZXM9IjA7MSIgdmFsdWVzPSIwIDUwIDUwOzM2MCA1MCA1MCI+PC9hbmltYXRlVHJhbnNmb3JtPiAgPC9jaXJjbGU+PC9zdmc+\\\");\\n      max-height: 400px;\\n    }\\n    \");\n",
       "    },\n",
       "    function(Bokeh) {\n",
       "      Bokeh.set_log_level(\"info\");\n",
       "    },\n",
       "    function(Bokeh) {} // ensure no trailing comma for IE\n",
       "  ];\n",
       "\n",
       "  function run_inline_js() {\n",
       "    if ((root.Bokeh !== undefined) || (force === true)) {\n",
       "      for (var i = 0; i < inline_js.length; i++) {\n",
       "        inline_js[i].call(root, root.Bokeh);\n",
       "      }} else if (Date.now() < root._bokeh_timeout) {\n",
       "      setTimeout(run_inline_js, 100);\n",
       "    } else if (!root._bokeh_failed_load) {\n",
       "      console.log(\"Bokeh: BokehJS failed to load within specified timeout.\");\n",
       "      root._bokeh_failed_load = true;\n",
       "    }\n",
       "  }\n",
       "\n",
       "  if (root._bokeh_is_loading === 0) {\n",
       "    console.debug(\"Bokeh: BokehJS loaded, going straight to plotting\");\n",
       "    run_inline_js();\n",
       "  } else {\n",
       "    load_libs(css_urls, js_urls, js_modules, function() {\n",
       "      console.debug(\"Bokeh: BokehJS plotting callback run at\", now());\n",
       "      run_inline_js();\n",
       "    });\n",
       "  }\n",
       "}(window));"
      ],
      "application/vnd.holoviews_load.v0+json": "\n(function(root) {\n  function now() {\n    return new Date();\n  }\n\n  var force = true;\n\n  if (typeof root._bokeh_onload_callbacks === \"undefined\" || force === true) {\n    root._bokeh_onload_callbacks = [];\n    root._bokeh_is_loading = undefined;\n  }\n\n  if (typeof (root._bokeh_timeout) === \"undefined\" || force === true) {\n    root._bokeh_timeout = Date.now() + 5000;\n    root._bokeh_failed_load = false;\n  }\n\n  function run_callbacks() {\n    try {\n      root._bokeh_onload_callbacks.forEach(function(callback) {\n        if (callback != null)\n          callback();\n      });\n    } finally {\n      delete root._bokeh_onload_callbacks\n    }\n    console.debug(\"Bokeh: all callbacks have finished\");\n  }\n\n  function load_libs(css_urls, js_urls, js_modules, callback) {\n    if (css_urls == null) css_urls = [];\n    if (js_urls == null) js_urls = [];\n    if (js_modules == null) js_modules = [];\n\n    root._bokeh_onload_callbacks.push(callback);\n    if (root._bokeh_is_loading > 0) {\n      console.debug(\"Bokeh: BokehJS is being loaded, scheduling callback at\", now());\n      return null;\n    }\n    if (js_urls.length === 0 && js_modules.length === 0) {\n      run_callbacks();\n      return null;\n    }\n    console.debug(\"Bokeh: BokehJS not loaded, scheduling load and callback at\", now());\n    root._bokeh_is_loading = css_urls.length + js_urls.length + js_modules.length;\n\n    function on_load() {\n      root._bokeh_is_loading--;\n      if (root._bokeh_is_loading === 0) {\n        console.debug(\"Bokeh: all BokehJS libraries/stylesheets loaded\");\n        run_callbacks()\n      }\n    }\n\n    function on_error() {\n      console.error(\"failed to load \" + url);\n    }\n\n    for (var i = 0; i < css_urls.length; i++) {\n      var url = css_urls[i];\n      const element = document.createElement(\"link\");\n      element.onload = on_load;\n      element.onerror = on_error;\n      element.rel = \"stylesheet\";\n      element.type = \"text/css\";\n      element.href = url;\n      console.debug(\"Bokeh: injecting link tag for BokehJS stylesheet: \", url);\n      document.body.appendChild(element);\n    }\n\n    var skip = [];\n    if (window.requirejs) {\n      window.requirejs.config({'packages': {}, 'paths': {}, 'shim': {}});\n      \n    }\n    for (var i = 0; i < js_urls.length; i++) {\n      var url = js_urls[i];\n      if (skip.indexOf(url) >= 0) { on_load(); continue; }\n      var element = document.createElement('script');\n      element.onload = on_load;\n      element.onerror = on_error;\n      element.async = false;\n      element.src = url;\n      console.debug(\"Bokeh: injecting script tag for BokehJS library: \", url);\n      document.head.appendChild(element);\n    }\n    for (var i = 0; i < js_modules.length; i++) {\n      var url = js_modules[i];\n      if (skip.indexOf(url) >= 0) { on_load(); continue; }\n      var element = document.createElement('script');\n      element.onload = on_load;\n      element.onerror = on_error;\n      element.async = false;\n      element.src = url;\n      element.type = \"module\";\n      console.debug(\"Bokeh: injecting script tag for BokehJS library: \", url);\n      document.head.appendChild(element);\n    }\n    if (!js_urls.length && !js_modules.length) {\n      on_load()\n    }\n  };\n\n  function inject_raw_css(css) {\n    const element = document.createElement(\"style\");\n    element.appendChild(document.createTextNode(css));\n    document.body.appendChild(element);\n  }\n\n  var js_urls = [\"https://cdn.bokeh.org/bokeh/release/bokeh-2.4.2.min.js\", \"https://cdn.bokeh.org/bokeh/release/bokeh-gl-2.4.2.min.js\", \"https://cdn.bokeh.org/bokeh/release/bokeh-widgets-2.4.2.min.js\", \"https://cdn.bokeh.org/bokeh/release/bokeh-tables-2.4.2.min.js\", \"https://cdn.bokeh.org/bokeh/release/bokeh-mathjax-2.4.2.min.js\", \"https://unpkg.com/@holoviz/panel@0.12.5/dist/panel.min.js\"];\n  var js_modules = [];\n  var css_urls = [\"https://unpkg.com/@holoviz/panel@0.12.5/dist/css/alerts.css\", \"https://unpkg.com/@holoviz/panel@0.12.5/dist/css/card.css\", \"https://unpkg.com/@holoviz/panel@0.12.5/dist/css/dataframe.css\", \"https://unpkg.com/@holoviz/panel@0.12.5/dist/css/json.css\", \"https://unpkg.com/@holoviz/panel@0.12.5/dist/css/loading.css\", \"https://unpkg.com/@holoviz/panel@0.12.5/dist/css/markdown.css\", \"https://unpkg.com/@holoviz/panel@0.12.5/dist/css/widgets.css\"];\n  var inline_js = [\n    function(Bokeh) {\n      inject_raw_css(\"\\n    .bk.pn-loading.arcs:before {\\n      background-image: url(\\\"data:image/svg+xml;base64,PHN2ZyB4bWxucz0iaHR0cDovL3d3dy53My5vcmcvMjAwMC9zdmciIHhtbG5zOnhsaW5rPSJodHRwOi8vd3d3LnczLm9yZy8xOTk5L3hsaW5rIiBzdHlsZT0ibWFyZ2luOiBhdXRvOyBiYWNrZ3JvdW5kOiBub25lOyBkaXNwbGF5OiBibG9jazsgc2hhcGUtcmVuZGVyaW5nOiBhdXRvOyIgdmlld0JveD0iMCAwIDEwMCAxMDAiIHByZXNlcnZlQXNwZWN0UmF0aW89InhNaWRZTWlkIj4gIDxjaXJjbGUgY3g9IjUwIiBjeT0iNTAiIHI9IjMyIiBzdHJva2Utd2lkdGg9IjgiIHN0cm9rZT0iI2MzYzNjMyIgc3Ryb2tlLWRhc2hhcnJheT0iNTAuMjY1NDgyNDU3NDM2NjkgNTAuMjY1NDgyNDU3NDM2NjkiIGZpbGw9Im5vbmUiIHN0cm9rZS1saW5lY2FwPSJyb3VuZCI+ICAgIDxhbmltYXRlVHJhbnNmb3JtIGF0dHJpYnV0ZU5hbWU9InRyYW5zZm9ybSIgdHlwZT0icm90YXRlIiByZXBlYXRDb3VudD0iaW5kZWZpbml0ZSIgZHVyPSIxcyIga2V5VGltZXM9IjA7MSIgdmFsdWVzPSIwIDUwIDUwOzM2MCA1MCA1MCI+PC9hbmltYXRlVHJhbnNmb3JtPiAgPC9jaXJjbGU+PC9zdmc+\\\");\\n      max-height: 400px;\\n    }\\n    \");\n    },\n    function(Bokeh) {\n      Bokeh.set_log_level(\"info\");\n    },\n    function(Bokeh) {} // ensure no trailing comma for IE\n  ];\n\n  function run_inline_js() {\n    if ((root.Bokeh !== undefined) || (force === true)) {\n      for (var i = 0; i < inline_js.length; i++) {\n        inline_js[i].call(root, root.Bokeh);\n      }} else if (Date.now() < root._bokeh_timeout) {\n      setTimeout(run_inline_js, 100);\n    } else if (!root._bokeh_failed_load) {\n      console.log(\"Bokeh: BokehJS failed to load within specified timeout.\");\n      root._bokeh_failed_load = true;\n    }\n  }\n\n  if (root._bokeh_is_loading === 0) {\n    console.debug(\"Bokeh: BokehJS loaded, going straight to plotting\");\n    run_inline_js();\n  } else {\n    load_libs(css_urls, js_urls, js_modules, function() {\n      console.debug(\"Bokeh: BokehJS plotting callback run at\", now());\n      run_inline_js();\n    });\n  }\n}(window));"
     },
     "metadata": {},
     "output_type": "display_data"
    },
    {
     "data": {
      "application/javascript": [
       "\n",
       "if ((window.PyViz === undefined) || (window.PyViz instanceof HTMLElement)) {\n",
       "  window.PyViz = {comms: {}, comm_status:{}, kernels:{}, receivers: {}, plot_index: []}\n",
       "}\n",
       "\n",
       "\n",
       "    function JupyterCommManager() {\n",
       "    }\n",
       "\n",
       "    JupyterCommManager.prototype.register_target = function(plot_id, comm_id, msg_handler) {\n",
       "      if (window.comm_manager || ((window.Jupyter !== undefined) && (Jupyter.notebook.kernel != null))) {\n",
       "        var comm_manager = window.comm_manager || Jupyter.notebook.kernel.comm_manager;\n",
       "        comm_manager.register_target(comm_id, function(comm) {\n",
       "          comm.on_msg(msg_handler);\n",
       "        });\n",
       "      } else if ((plot_id in window.PyViz.kernels) && (window.PyViz.kernels[plot_id])) {\n",
       "        window.PyViz.kernels[plot_id].registerCommTarget(comm_id, function(comm) {\n",
       "          comm.onMsg = msg_handler;\n",
       "        });\n",
       "      } else if (typeof google != 'undefined' && google.colab.kernel != null) {\n",
       "        google.colab.kernel.comms.registerTarget(comm_id, (comm) => {\n",
       "          var messages = comm.messages[Symbol.asyncIterator]();\n",
       "          function processIteratorResult(result) {\n",
       "            var message = result.value;\n",
       "            console.log(message)\n",
       "            var content = {data: message.data, comm_id};\n",
       "            var buffers = []\n",
       "            for (var buffer of message.buffers || []) {\n",
       "              buffers.push(new DataView(buffer))\n",
       "            }\n",
       "            var metadata = message.metadata || {};\n",
       "            var msg = {content, buffers, metadata}\n",
       "            msg_handler(msg);\n",
       "            return messages.next().then(processIteratorResult);\n",
       "          }\n",
       "          return messages.next().then(processIteratorResult);\n",
       "        })\n",
       "      }\n",
       "    }\n",
       "\n",
       "    JupyterCommManager.prototype.get_client_comm = function(plot_id, comm_id, msg_handler) {\n",
       "      if (comm_id in window.PyViz.comms) {\n",
       "        return window.PyViz.comms[comm_id];\n",
       "      } else if (window.comm_manager || ((window.Jupyter !== undefined) && (Jupyter.notebook.kernel != null))) {\n",
       "        var comm_manager = window.comm_manager || Jupyter.notebook.kernel.comm_manager;\n",
       "        var comm = comm_manager.new_comm(comm_id, {}, {}, {}, comm_id);\n",
       "        if (msg_handler) {\n",
       "          comm.on_msg(msg_handler);\n",
       "        }\n",
       "      } else if ((plot_id in window.PyViz.kernels) && (window.PyViz.kernels[plot_id])) {\n",
       "        var comm = window.PyViz.kernels[plot_id].connectToComm(comm_id);\n",
       "        comm.open();\n",
       "        if (msg_handler) {\n",
       "          comm.onMsg = msg_handler;\n",
       "        }\n",
       "      } else if (typeof google != 'undefined' && google.colab.kernel != null) {\n",
       "        var comm_promise = google.colab.kernel.comms.open(comm_id)\n",
       "        comm_promise.then((comm) => {\n",
       "          window.PyViz.comms[comm_id] = comm;\n",
       "          if (msg_handler) {\n",
       "            var messages = comm.messages[Symbol.asyncIterator]();\n",
       "            function processIteratorResult(result) {\n",
       "              var message = result.value;\n",
       "              var content = {data: message.data};\n",
       "              var metadata = message.metadata || {comm_id};\n",
       "              var msg = {content, metadata}\n",
       "              msg_handler(msg);\n",
       "              return messages.next().then(processIteratorResult);\n",
       "            }\n",
       "            return messages.next().then(processIteratorResult);\n",
       "          }\n",
       "        }) \n",
       "        var sendClosure = (data, metadata, buffers, disposeOnDone) => {\n",
       "          return comm_promise.then((comm) => {\n",
       "            comm.send(data, metadata, buffers, disposeOnDone);\n",
       "          });\n",
       "        };\n",
       "        var comm = {\n",
       "          send: sendClosure\n",
       "        };\n",
       "      }\n",
       "      window.PyViz.comms[comm_id] = comm;\n",
       "      return comm;\n",
       "    }\n",
       "    window.PyViz.comm_manager = new JupyterCommManager();\n",
       "    \n",
       "\n",
       "\n",
       "var JS_MIME_TYPE = 'application/javascript';\n",
       "var HTML_MIME_TYPE = 'text/html';\n",
       "var EXEC_MIME_TYPE = 'application/vnd.holoviews_exec.v0+json';\n",
       "var CLASS_NAME = 'output';\n",
       "\n",
       "/**\n",
       " * Render data to the DOM node\n",
       " */\n",
       "function render(props, node) {\n",
       "  var div = document.createElement(\"div\");\n",
       "  var script = document.createElement(\"script\");\n",
       "  node.appendChild(div);\n",
       "  node.appendChild(script);\n",
       "}\n",
       "\n",
       "/**\n",
       " * Handle when a new output is added\n",
       " */\n",
       "function handle_add_output(event, handle) {\n",
       "  var output_area = handle.output_area;\n",
       "  var output = handle.output;\n",
       "  if ((output.data == undefined) || (!output.data.hasOwnProperty(EXEC_MIME_TYPE))) {\n",
       "    return\n",
       "  }\n",
       "  var id = output.metadata[EXEC_MIME_TYPE][\"id\"];\n",
       "  var toinsert = output_area.element.find(\".\" + CLASS_NAME.split(' ')[0]);\n",
       "  if (id !== undefined) {\n",
       "    var nchildren = toinsert.length;\n",
       "    var html_node = toinsert[nchildren-1].children[0];\n",
       "    html_node.innerHTML = output.data[HTML_MIME_TYPE];\n",
       "    var scripts = [];\n",
       "    var nodelist = html_node.querySelectorAll(\"script\");\n",
       "    for (var i in nodelist) {\n",
       "      if (nodelist.hasOwnProperty(i)) {\n",
       "        scripts.push(nodelist[i])\n",
       "      }\n",
       "    }\n",
       "\n",
       "    scripts.forEach( function (oldScript) {\n",
       "      var newScript = document.createElement(\"script\");\n",
       "      var attrs = [];\n",
       "      var nodemap = oldScript.attributes;\n",
       "      for (var j in nodemap) {\n",
       "        if (nodemap.hasOwnProperty(j)) {\n",
       "          attrs.push(nodemap[j])\n",
       "        }\n",
       "      }\n",
       "      attrs.forEach(function(attr) { newScript.setAttribute(attr.name, attr.value) });\n",
       "      newScript.appendChild(document.createTextNode(oldScript.innerHTML));\n",
       "      oldScript.parentNode.replaceChild(newScript, oldScript);\n",
       "    });\n",
       "    if (JS_MIME_TYPE in output.data) {\n",
       "      toinsert[nchildren-1].children[1].textContent = output.data[JS_MIME_TYPE];\n",
       "    }\n",
       "    output_area._hv_plot_id = id;\n",
       "    if ((window.Bokeh !== undefined) && (id in Bokeh.index)) {\n",
       "      window.PyViz.plot_index[id] = Bokeh.index[id];\n",
       "    } else {\n",
       "      window.PyViz.plot_index[id] = null;\n",
       "    }\n",
       "  } else if (output.metadata[EXEC_MIME_TYPE][\"server_id\"] !== undefined) {\n",
       "    var bk_div = document.createElement(\"div\");\n",
       "    bk_div.innerHTML = output.data[HTML_MIME_TYPE];\n",
       "    var script_attrs = bk_div.children[0].attributes;\n",
       "    for (var i = 0; i < script_attrs.length; i++) {\n",
       "      toinsert[toinsert.length - 1].childNodes[1].setAttribute(script_attrs[i].name, script_attrs[i].value);\n",
       "    }\n",
       "    // store reference to server id on output_area\n",
       "    output_area._bokeh_server_id = output.metadata[EXEC_MIME_TYPE][\"server_id\"];\n",
       "  }\n",
       "}\n",
       "\n",
       "/**\n",
       " * Handle when an output is cleared or removed\n",
       " */\n",
       "function handle_clear_output(event, handle) {\n",
       "  var id = handle.cell.output_area._hv_plot_id;\n",
       "  var server_id = handle.cell.output_area._bokeh_server_id;\n",
       "  if (((id === undefined) || !(id in PyViz.plot_index)) && (server_id !== undefined)) { return; }\n",
       "  var comm = window.PyViz.comm_manager.get_client_comm(\"hv-extension-comm\", \"hv-extension-comm\", function () {});\n",
       "  if (server_id !== null) {\n",
       "    comm.send({event_type: 'server_delete', 'id': server_id});\n",
       "    return;\n",
       "  } else if (comm !== null) {\n",
       "    comm.send({event_type: 'delete', 'id': id});\n",
       "  }\n",
       "  delete PyViz.plot_index[id];\n",
       "  if ((window.Bokeh !== undefined) & (id in window.Bokeh.index)) {\n",
       "    var doc = window.Bokeh.index[id].model.document\n",
       "    doc.clear();\n",
       "    const i = window.Bokeh.documents.indexOf(doc);\n",
       "    if (i > -1) {\n",
       "      window.Bokeh.documents.splice(i, 1);\n",
       "    }\n",
       "  }\n",
       "}\n",
       "\n",
       "/**\n",
       " * Handle kernel restart event\n",
       " */\n",
       "function handle_kernel_cleanup(event, handle) {\n",
       "  delete PyViz.comms[\"hv-extension-comm\"];\n",
       "  window.PyViz.plot_index = {}\n",
       "}\n",
       "\n",
       "/**\n",
       " * Handle update_display_data messages\n",
       " */\n",
       "function handle_update_output(event, handle) {\n",
       "  handle_clear_output(event, {cell: {output_area: handle.output_area}})\n",
       "  handle_add_output(event, handle)\n",
       "}\n",
       "\n",
       "function register_renderer(events, OutputArea) {\n",
       "  function append_mime(data, metadata, element) {\n",
       "    // create a DOM node to render to\n",
       "    var toinsert = this.create_output_subarea(\n",
       "    metadata,\n",
       "    CLASS_NAME,\n",
       "    EXEC_MIME_TYPE\n",
       "    );\n",
       "    this.keyboard_manager.register_events(toinsert);\n",
       "    // Render to node\n",
       "    var props = {data: data, metadata: metadata[EXEC_MIME_TYPE]};\n",
       "    render(props, toinsert[0]);\n",
       "    element.append(toinsert);\n",
       "    return toinsert\n",
       "  }\n",
       "\n",
       "  events.on('output_added.OutputArea', handle_add_output);\n",
       "  events.on('output_updated.OutputArea', handle_update_output);\n",
       "  events.on('clear_output.CodeCell', handle_clear_output);\n",
       "  events.on('delete.Cell', handle_clear_output);\n",
       "  events.on('kernel_ready.Kernel', handle_kernel_cleanup);\n",
       "\n",
       "  OutputArea.prototype.register_mime_type(EXEC_MIME_TYPE, append_mime, {\n",
       "    safe: true,\n",
       "    index: 0\n",
       "  });\n",
       "}\n",
       "\n",
       "if (window.Jupyter !== undefined) {\n",
       "  try {\n",
       "    var events = require('base/js/events');\n",
       "    var OutputArea = require('notebook/js/outputarea').OutputArea;\n",
       "    if (OutputArea.prototype.mime_types().indexOf(EXEC_MIME_TYPE) == -1) {\n",
       "      register_renderer(events, OutputArea);\n",
       "    }\n",
       "  } catch(err) {\n",
       "  }\n",
       "}\n"
      ],
      "application/vnd.holoviews_load.v0+json": "\nif ((window.PyViz === undefined) || (window.PyViz instanceof HTMLElement)) {\n  window.PyViz = {comms: {}, comm_status:{}, kernels:{}, receivers: {}, plot_index: []}\n}\n\n\n    function JupyterCommManager() {\n    }\n\n    JupyterCommManager.prototype.register_target = function(plot_id, comm_id, msg_handler) {\n      if (window.comm_manager || ((window.Jupyter !== undefined) && (Jupyter.notebook.kernel != null))) {\n        var comm_manager = window.comm_manager || Jupyter.notebook.kernel.comm_manager;\n        comm_manager.register_target(comm_id, function(comm) {\n          comm.on_msg(msg_handler);\n        });\n      } else if ((plot_id in window.PyViz.kernels) && (window.PyViz.kernels[plot_id])) {\n        window.PyViz.kernels[plot_id].registerCommTarget(comm_id, function(comm) {\n          comm.onMsg = msg_handler;\n        });\n      } else if (typeof google != 'undefined' && google.colab.kernel != null) {\n        google.colab.kernel.comms.registerTarget(comm_id, (comm) => {\n          var messages = comm.messages[Symbol.asyncIterator]();\n          function processIteratorResult(result) {\n            var message = result.value;\n            console.log(message)\n            var content = {data: message.data, comm_id};\n            var buffers = []\n            for (var buffer of message.buffers || []) {\n              buffers.push(new DataView(buffer))\n            }\n            var metadata = message.metadata || {};\n            var msg = {content, buffers, metadata}\n            msg_handler(msg);\n            return messages.next().then(processIteratorResult);\n          }\n          return messages.next().then(processIteratorResult);\n        })\n      }\n    }\n\n    JupyterCommManager.prototype.get_client_comm = function(plot_id, comm_id, msg_handler) {\n      if (comm_id in window.PyViz.comms) {\n        return window.PyViz.comms[comm_id];\n      } else if (window.comm_manager || ((window.Jupyter !== undefined) && (Jupyter.notebook.kernel != null))) {\n        var comm_manager = window.comm_manager || Jupyter.notebook.kernel.comm_manager;\n        var comm = comm_manager.new_comm(comm_id, {}, {}, {}, comm_id);\n        if (msg_handler) {\n          comm.on_msg(msg_handler);\n        }\n      } else if ((plot_id in window.PyViz.kernels) && (window.PyViz.kernels[plot_id])) {\n        var comm = window.PyViz.kernels[plot_id].connectToComm(comm_id);\n        comm.open();\n        if (msg_handler) {\n          comm.onMsg = msg_handler;\n        }\n      } else if (typeof google != 'undefined' && google.colab.kernel != null) {\n        var comm_promise = google.colab.kernel.comms.open(comm_id)\n        comm_promise.then((comm) => {\n          window.PyViz.comms[comm_id] = comm;\n          if (msg_handler) {\n            var messages = comm.messages[Symbol.asyncIterator]();\n            function processIteratorResult(result) {\n              var message = result.value;\n              var content = {data: message.data};\n              var metadata = message.metadata || {comm_id};\n              var msg = {content, metadata}\n              msg_handler(msg);\n              return messages.next().then(processIteratorResult);\n            }\n            return messages.next().then(processIteratorResult);\n          }\n        }) \n        var sendClosure = (data, metadata, buffers, disposeOnDone) => {\n          return comm_promise.then((comm) => {\n            comm.send(data, metadata, buffers, disposeOnDone);\n          });\n        };\n        var comm = {\n          send: sendClosure\n        };\n      }\n      window.PyViz.comms[comm_id] = comm;\n      return comm;\n    }\n    window.PyViz.comm_manager = new JupyterCommManager();\n    \n\n\nvar JS_MIME_TYPE = 'application/javascript';\nvar HTML_MIME_TYPE = 'text/html';\nvar EXEC_MIME_TYPE = 'application/vnd.holoviews_exec.v0+json';\nvar CLASS_NAME = 'output';\n\n/**\n * Render data to the DOM node\n */\nfunction render(props, node) {\n  var div = document.createElement(\"div\");\n  var script = document.createElement(\"script\");\n  node.appendChild(div);\n  node.appendChild(script);\n}\n\n/**\n * Handle when a new output is added\n */\nfunction handle_add_output(event, handle) {\n  var output_area = handle.output_area;\n  var output = handle.output;\n  if ((output.data == undefined) || (!output.data.hasOwnProperty(EXEC_MIME_TYPE))) {\n    return\n  }\n  var id = output.metadata[EXEC_MIME_TYPE][\"id\"];\n  var toinsert = output_area.element.find(\".\" + CLASS_NAME.split(' ')[0]);\n  if (id !== undefined) {\n    var nchildren = toinsert.length;\n    var html_node = toinsert[nchildren-1].children[0];\n    html_node.innerHTML = output.data[HTML_MIME_TYPE];\n    var scripts = [];\n    var nodelist = html_node.querySelectorAll(\"script\");\n    for (var i in nodelist) {\n      if (nodelist.hasOwnProperty(i)) {\n        scripts.push(nodelist[i])\n      }\n    }\n\n    scripts.forEach( function (oldScript) {\n      var newScript = document.createElement(\"script\");\n      var attrs = [];\n      var nodemap = oldScript.attributes;\n      for (var j in nodemap) {\n        if (nodemap.hasOwnProperty(j)) {\n          attrs.push(nodemap[j])\n        }\n      }\n      attrs.forEach(function(attr) { newScript.setAttribute(attr.name, attr.value) });\n      newScript.appendChild(document.createTextNode(oldScript.innerHTML));\n      oldScript.parentNode.replaceChild(newScript, oldScript);\n    });\n    if (JS_MIME_TYPE in output.data) {\n      toinsert[nchildren-1].children[1].textContent = output.data[JS_MIME_TYPE];\n    }\n    output_area._hv_plot_id = id;\n    if ((window.Bokeh !== undefined) && (id in Bokeh.index)) {\n      window.PyViz.plot_index[id] = Bokeh.index[id];\n    } else {\n      window.PyViz.plot_index[id] = null;\n    }\n  } else if (output.metadata[EXEC_MIME_TYPE][\"server_id\"] !== undefined) {\n    var bk_div = document.createElement(\"div\");\n    bk_div.innerHTML = output.data[HTML_MIME_TYPE];\n    var script_attrs = bk_div.children[0].attributes;\n    for (var i = 0; i < script_attrs.length; i++) {\n      toinsert[toinsert.length - 1].childNodes[1].setAttribute(script_attrs[i].name, script_attrs[i].value);\n    }\n    // store reference to server id on output_area\n    output_area._bokeh_server_id = output.metadata[EXEC_MIME_TYPE][\"server_id\"];\n  }\n}\n\n/**\n * Handle when an output is cleared or removed\n */\nfunction handle_clear_output(event, handle) {\n  var id = handle.cell.output_area._hv_plot_id;\n  var server_id = handle.cell.output_area._bokeh_server_id;\n  if (((id === undefined) || !(id in PyViz.plot_index)) && (server_id !== undefined)) { return; }\n  var comm = window.PyViz.comm_manager.get_client_comm(\"hv-extension-comm\", \"hv-extension-comm\", function () {});\n  if (server_id !== null) {\n    comm.send({event_type: 'server_delete', 'id': server_id});\n    return;\n  } else if (comm !== null) {\n    comm.send({event_type: 'delete', 'id': id});\n  }\n  delete PyViz.plot_index[id];\n  if ((window.Bokeh !== undefined) & (id in window.Bokeh.index)) {\n    var doc = window.Bokeh.index[id].model.document\n    doc.clear();\n    const i = window.Bokeh.documents.indexOf(doc);\n    if (i > -1) {\n      window.Bokeh.documents.splice(i, 1);\n    }\n  }\n}\n\n/**\n * Handle kernel restart event\n */\nfunction handle_kernel_cleanup(event, handle) {\n  delete PyViz.comms[\"hv-extension-comm\"];\n  window.PyViz.plot_index = {}\n}\n\n/**\n * Handle update_display_data messages\n */\nfunction handle_update_output(event, handle) {\n  handle_clear_output(event, {cell: {output_area: handle.output_area}})\n  handle_add_output(event, handle)\n}\n\nfunction register_renderer(events, OutputArea) {\n  function append_mime(data, metadata, element) {\n    // create a DOM node to render to\n    var toinsert = this.create_output_subarea(\n    metadata,\n    CLASS_NAME,\n    EXEC_MIME_TYPE\n    );\n    this.keyboard_manager.register_events(toinsert);\n    // Render to node\n    var props = {data: data, metadata: metadata[EXEC_MIME_TYPE]};\n    render(props, toinsert[0]);\n    element.append(toinsert);\n    return toinsert\n  }\n\n  events.on('output_added.OutputArea', handle_add_output);\n  events.on('output_updated.OutputArea', handle_update_output);\n  events.on('clear_output.CodeCell', handle_clear_output);\n  events.on('delete.Cell', handle_clear_output);\n  events.on('kernel_ready.Kernel', handle_kernel_cleanup);\n\n  OutputArea.prototype.register_mime_type(EXEC_MIME_TYPE, append_mime, {\n    safe: true,\n    index: 0\n  });\n}\n\nif (window.Jupyter !== undefined) {\n  try {\n    var events = require('base/js/events');\n    var OutputArea = require('notebook/js/outputarea').OutputArea;\n    if (OutputArea.prototype.mime_types().indexOf(EXEC_MIME_TYPE) == -1) {\n      register_renderer(events, OutputArea);\n    }\n  } catch(err) {\n  }\n}\n"
     },
     "metadata": {},
     "output_type": "display_data"
    },
    {
     "data": {},
     "metadata": {},
     "output_type": "display_data"
    },
    {
     "data": {
      "application/vnd.holoviews_exec.v0+json": "",
      "text/html": [
       "<div id='1041'>\n",
       "\n",
       "\n",
       "\n",
       "\n",
       "\n",
       "  <div class=\"bk-root\" id=\"f1b33e34-6940-4a26-bb19-a5f35b544d57\" data-root-id=\"1041\"></div>\n",
       "</div>\n",
       "<script type=\"application/javascript\">(function(root) {\n",
       "  function embed_document(root) {\n",
       "    var docs_json = {\"0e35c812-49b9-45e4-98ce-a72f35daaf3b\":{\"defs\":[{\"extends\":null,\"module\":null,\"name\":\"ReactiveHTML1\",\"overrides\":[],\"properties\":[]},{\"extends\":null,\"module\":null,\"name\":\"FlexBox1\",\"overrides\":[],\"properties\":[{\"default\":\"flex-start\",\"kind\":null,\"name\":\"align_content\"},{\"default\":\"flex-start\",\"kind\":null,\"name\":\"align_items\"},{\"default\":\"row\",\"kind\":null,\"name\":\"flex_direction\"},{\"default\":\"wrap\",\"kind\":null,\"name\":\"flex_wrap\"},{\"default\":\"flex-start\",\"kind\":null,\"name\":\"justify_content\"}]},{\"extends\":null,\"module\":null,\"name\":\"TemplateActions1\",\"overrides\":[],\"properties\":[{\"default\":0,\"kind\":null,\"name\":\"open_modal\"},{\"default\":0,\"kind\":null,\"name\":\"close_modal\"}]},{\"extends\":null,\"module\":null,\"name\":\"MaterialTemplateActions1\",\"overrides\":[],\"properties\":[{\"default\":0,\"kind\":null,\"name\":\"open_modal\"},{\"default\":0,\"kind\":null,\"name\":\"close_modal\"}]}],\"roots\":{\"references\":[{\"attributes\":{\"data\":{\"NP_treatment\":[\"HIGH\",\"LOW\",\"ZERO\"],\"index\":[0,1,2],\"inf_binom\":{\"__ndarray__\":\"WlpaWlpa6j9GF1100UXnPylcj8L1KNw/\",\"dtype\":\"float64\",\"order\":\"little\",\"shape\":[3]},\"std_lower\":{\"__ndarray__\":\"9BuSQp1N5z9WnEvWqynkP/Ydl7/brNU/\",\"dtype\":\"float64\",\"order\":\"little\",\"shape\":[3]},\"std_upper\":{\"__ndarray__\":\"wJgichdn7T82km4S92HqPy7Nw+KHUuE/\",\"dtype\":\"float64\",\"order\":\"little\",\"shape\":[3]}},\"selected\":{\"id\":\"1056\"},\"selection_policy\":{\"id\":\"1055\"}},\"id\":\"1003\",\"type\":\"ColumnDataSource\"},{\"attributes\":{\"source\":{\"id\":\"1003\"}},\"id\":\"1040\",\"type\":\"CDSView\"},{\"attributes\":{\"fill_alpha\":{\"value\":0.1},\"fill_color\":{\"value\":\"black\"},\"hatch_alpha\":{\"value\":0.1},\"line_alpha\":{\"value\":0.1},\"marker\":{\"value\":\"asterisk\"},\"size\":{\"value\":3},\"x\":{\"field\":\"NP_treatment\"},\"y\":{\"field\":\"std_upper\"}},\"id\":\"1037\",\"type\":\"Scatter\"},{\"attributes\":{\"below\":[{\"id\":\"1015\"}],\"center\":[{\"id\":\"1017\"},{\"id\":\"1021\"}],\"height\":250,\"left\":[{\"id\":\"1018\"}],\"renderers\":[{\"id\":\"1027\"},{\"id\":\"1033\"},{\"id\":\"1039\"}],\"title\":{\"id\":\"1005\"},\"toolbar\":{\"id\":\"1022\"},\"toolbar_location\":null,\"x_range\":{\"id\":\"1007\"},\"x_scale\":{\"id\":\"1011\"},\"y_range\":{\"id\":\"1009\"},\"y_scale\":{\"id\":\"1013\"}},\"id\":\"1004\",\"subtype\":\"Figure\",\"type\":\"Plot\"},{\"attributes\":{\"factors\":[\"ZERO\",\"LOW\",\"HIGH\"]},\"id\":\"1007\",\"type\":\"FactorRange\"},{\"attributes\":{\"coordinates\":null,\"group\":null,\"text\":\"Parasite infectivity\"},\"id\":\"1005\",\"type\":\"Title\"},{\"attributes\":{\"axis\":{\"id\":\"1018\"},\"coordinates\":null,\"dimension\":1,\"group\":null,\"ticker\":null},\"id\":\"1021\",\"type\":\"Grid\"},{\"attributes\":{},\"id\":\"1056\",\"type\":\"Selection\"},{\"attributes\":{\"source\":{\"id\":\"1002\"}},\"id\":\"1028\",\"type\":\"CDSView\"},{\"attributes\":{\"data\":{\"NP_treatment\":[\"ZERO\",\"LOW\",\"HIGH\"],\"color\":[\"#99d594\",\"#ffffbf\",\"#fc8d59\"],\"counts\":[0.44,0.7272727272727273,0.8235294117647058]},\"selected\":{\"id\":\"1054\"},\"selection_policy\":{\"id\":\"1053\"}},\"id\":\"1002\",\"type\":\"ColumnDataSource\"},{\"attributes\":{\"source\":{\"id\":\"1003\"}},\"id\":\"1034\",\"type\":\"CDSView\"},{\"attributes\":{},\"id\":\"1048\",\"type\":\"BasicTickFormatter\"},{\"attributes\":{},\"id\":\"1055\",\"type\":\"UnionRenderers\"},{\"attributes\":{\"fill_alpha\":{\"value\":0.2},\"fill_color\":{\"value\":\"black\"},\"hatch_alpha\":{\"value\":0.2},\"line_alpha\":{\"value\":0.2},\"marker\":{\"value\":\"asterisk\"},\"size\":{\"value\":3},\"x\":{\"field\":\"NP_treatment\"},\"y\":{\"field\":\"std_upper\"}},\"id\":\"1038\",\"type\":\"Scatter\"},{\"attributes\":{\"client_comm_id\":\"a8ba5e00e88841be9fd4461bd0c6083a\",\"comm_id\":\"143da8edc8c54394bb54fc7f0055b63b\",\"plot_id\":\"1041\"},\"id\":\"1101\",\"type\":\"panel.models.comm_manager.CommManager\"},{\"attributes\":{},\"id\":\"1022\",\"type\":\"Toolbar\"},{\"attributes\":{\"fill_color\":{\"field\":\"color\"},\"hatch_color\":{\"field\":\"color\"},\"line_color\":{\"field\":\"color\"},\"top\":{\"field\":\"counts\"},\"width\":{\"value\":0.2},\"x\":{\"field\":\"NP_treatment\"}},\"id\":\"1024\",\"type\":\"VBar\"},{\"attributes\":{},\"id\":\"1011\",\"type\":\"CategoricalScale\"},{\"attributes\":{\"margin\":[5,10,5,10],\"options\":[\"Parasite infectivity\",\"Parasite reproduction\",\"Host viability\",\"Host lifespan\",\"Host fecundity\"],\"title\":\"Trait\",\"value\":\"Parasite infectivity\"},\"id\":\"1044\",\"type\":\"Select\"},{\"attributes\":{\"margin\":[5,10,5,10],\"options\":[\"Parasite\",\"Host\"],\"title\":\"fitness\",\"value\":\"Parasite\"},\"id\":\"1043\",\"type\":\"Select\"},{\"attributes\":{\"coordinates\":null,\"data_source\":{\"id\":\"1003\"},\"glyph\":{\"id\":\"1036\"},\"group\":null,\"hover_glyph\":null,\"muted_glyph\":{\"id\":\"1038\"},\"nonselection_glyph\":{\"id\":\"1037\"},\"view\":{\"id\":\"1040\"}},\"id\":\"1039\",\"type\":\"GlyphRenderer\"},{\"attributes\":{\"fill_color\":{\"value\":\"black\"},\"marker\":{\"value\":\"asterisk\"},\"size\":{\"value\":3},\"x\":{\"field\":\"NP_treatment\"},\"y\":{\"field\":\"std_upper\"}},\"id\":\"1036\",\"type\":\"Scatter\"},{\"attributes\":{\"axis\":{\"id\":\"1015\"},\"coordinates\":null,\"grid_line_color\":null,\"group\":null,\"ticker\":null},\"id\":\"1017\",\"type\":\"Grid\"},{\"attributes\":{\"fill_alpha\":{\"value\":0.2},\"fill_color\":{\"value\":\"black\"},\"hatch_alpha\":{\"value\":0.2},\"line_alpha\":{\"value\":0.2},\"marker\":{\"value\":\"asterisk\"},\"size\":{\"value\":3},\"x\":{\"field\":\"NP_treatment\"},\"y\":{\"field\":\"std_lower\"}},\"id\":\"1032\",\"type\":\"Scatter\"},{\"attributes\":{},\"id\":\"1051\",\"type\":\"CategoricalTickFormatter\"},{\"attributes\":{\"fill_color\":{\"value\":\"black\"},\"marker\":{\"value\":\"asterisk\"},\"size\":{\"value\":3},\"x\":{\"field\":\"NP_treatment\"},\"y\":{\"field\":\"std_lower\"}},\"id\":\"1030\",\"type\":\"Scatter\"},{\"attributes\":{\"children\":[{\"id\":\"1004\"}],\"margin\":[0,0,0,0],\"name\":\"Row01557\"},\"id\":\"1045\",\"type\":\"Row\"},{\"attributes\":{\"fill_alpha\":{\"value\":0.1},\"fill_color\":{\"value\":\"black\"},\"hatch_alpha\":{\"value\":0.1},\"line_alpha\":{\"value\":0.1},\"marker\":{\"value\":\"asterisk\"},\"size\":{\"value\":3},\"x\":{\"field\":\"NP_treatment\"},\"y\":{\"field\":\"std_lower\"}},\"id\":\"1031\",\"type\":\"Scatter\"},{\"attributes\":{},\"id\":\"1019\",\"type\":\"BasicTicker\"},{\"attributes\":{},\"id\":\"1049\",\"type\":\"AllLabels\"},{\"attributes\":{},\"id\":\"1013\",\"type\":\"LinearScale\"},{\"attributes\":{},\"id\":\"1054\",\"type\":\"Selection\"},{\"attributes\":{\"reload\":false},\"id\":\"1135\",\"type\":\"panel.models.location.Location\"},{\"attributes\":{},\"id\":\"1053\",\"type\":\"UnionRenderers\"},{\"attributes\":{\"coordinates\":null,\"formatter\":{\"id\":\"1051\"},\"group\":null,\"major_label_policy\":{\"id\":\"1052\"},\"ticker\":{\"id\":\"1016\"}},\"id\":\"1015\",\"type\":\"CategoricalAxis\"},{\"attributes\":{\"children\":[{\"id\":\"1043\"},{\"id\":\"1044\"}],\"margin\":[0,0,0,0],\"name\":\"Column01558\"},\"id\":\"1042\",\"type\":\"Column\"},{\"attributes\":{\"coordinates\":null,\"data_source\":{\"id\":\"1002\"},\"glyph\":{\"id\":\"1024\"},\"group\":null,\"hover_glyph\":null,\"muted_glyph\":{\"id\":\"1026\"},\"nonselection_glyph\":{\"id\":\"1025\"},\"view\":{\"id\":\"1028\"}},\"id\":\"1027\",\"type\":\"GlyphRenderer\"},{\"attributes\":{},\"id\":\"1016\",\"type\":\"CategoricalTicker\"},{\"attributes\":{},\"id\":\"1052\",\"type\":\"AllLabels\"},{\"attributes\":{\"end\":1.05},\"id\":\"1009\",\"type\":\"Range1d\"},{\"attributes\":{\"fill_alpha\":{\"value\":0.1},\"fill_color\":{\"field\":\"color\"},\"hatch_alpha\":{\"value\":0.1},\"hatch_color\":{\"field\":\"color\"},\"line_alpha\":{\"value\":0.1},\"line_color\":{\"field\":\"color\"},\"top\":{\"field\":\"counts\"},\"width\":{\"value\":0.2},\"x\":{\"field\":\"NP_treatment\"}},\"id\":\"1025\",\"type\":\"VBar\"},{\"attributes\":{\"fill_alpha\":{\"value\":0.2},\"fill_color\":{\"field\":\"color\"},\"hatch_alpha\":{\"value\":0.2},\"hatch_color\":{\"field\":\"color\"},\"line_alpha\":{\"value\":0.2},\"line_color\":{\"field\":\"color\"},\"top\":{\"field\":\"counts\"},\"width\":{\"value\":0.2},\"x\":{\"field\":\"NP_treatment\"}},\"id\":\"1026\",\"type\":\"VBar\"},{\"attributes\":{\"coordinates\":null,\"data_source\":{\"id\":\"1003\"},\"glyph\":{\"id\":\"1030\"},\"group\":null,\"hover_glyph\":null,\"muted_glyph\":{\"id\":\"1032\"},\"nonselection_glyph\":{\"id\":\"1031\"},\"view\":{\"id\":\"1034\"}},\"id\":\"1033\",\"type\":\"GlyphRenderer\"},{\"attributes\":{\"axis_label\":\"Proportion of infected host\",\"coordinates\":null,\"formatter\":{\"id\":\"1048\"},\"group\":null,\"major_label_policy\":{\"id\":\"1049\"},\"ticker\":{\"id\":\"1019\"}},\"id\":\"1018\",\"type\":\"LinearAxis\"},{\"attributes\":{\"children\":[{\"id\":\"1042\"},{\"id\":\"1045\"}],\"margin\":[0,0,0,0],\"name\":\"Row01559\"},\"id\":\"1041\",\"type\":\"Row\"}],\"root_ids\":[\"1041\",\"1101\",\"1135\"]},\"title\":\"Bokeh Application\",\"version\":\"2.4.2\"}};\n",
       "    var render_items = [{\"docid\":\"0e35c812-49b9-45e4-98ce-a72f35daaf3b\",\"root_ids\":[\"1041\"],\"roots\":{\"1041\":\"f1b33e34-6940-4a26-bb19-a5f35b544d57\"}}];\n",
       "    root.Bokeh.embed.embed_items_notebook(docs_json, render_items);\n",
       "  }\n",
       "  if (root.Bokeh !== undefined && root.Bokeh.Panel !== undefined) {\n",
       "    embed_document(root);\n",
       "  } else {\n",
       "    var attempts = 0;\n",
       "    var timer = setInterval(function(root) {\n",
       "      if (root.Bokeh !== undefined && root.Bokeh.Panel !== undefined) {\n",
       "        clearInterval(timer);\n",
       "        embed_document(root);\n",
       "      } else if (document.readyState == \"complete\") {\n",
       "        attempts++;\n",
       "        if (attempts > 200) {\n",
       "          clearInterval(timer);\n",
       "          console.log(\"Bokeh: ERROR: Unable to run BokehJS code because BokehJS library is missing\");\n",
       "        }\n",
       "      }\n",
       "    }, 25, root)\n",
       "  }\n",
       "})(window);</script>"
      ],
      "text/plain": [
       "Row\n",
       "    [0] Column\n",
       "        [0] Select(name='fitness', options=['Parasite', 'Host'], value='Parasite')\n",
       "        [1] Select(name='Trait', options=['Parasite infectivity', ...], value='Parasite infectivity')\n",
       "    [1] Row\n",
       "        [0] Bokeh(Figure, name='interactive01551')"
      ]
     },
     "execution_count": 34,
     "metadata": {
      "application/vnd.holoviews_exec.v0+json": {
       "id": "1041"
      }
     },
     "output_type": "execute_result"
    }
   ],
   "source": [
    "import panel as pn\n",
    "pn.extension()\n",
    "\n",
    "\n",
    "fitness = ['Parasite', 'Host']\n",
    "\n",
    "Trait = ['Parasite infectivity', 'Parasite reproduction', 'Host viability', 'Host lifespan', 'Host fecundity']\n",
    "\n",
    "menu, plot = pn.interact(Fitness,Trait = Trait, fitness = fitness)\n",
    "\n",
    "\n",
    "row_1 = pn.Row(menu, plot)\n",
    "\n",
    "row_1"
   ]
  },
  {
   "cell_type": "code",
   "execution_count": 35,
   "metadata": {},
   "outputs": [],
   "source": [
    "def choose_anova_tables(Trait):\n",
    "    if Trait == 'Host lifespan':\n",
    "        anova_table = HL\n",
    "    if Trait == 'Host fecundity':\n",
    "        anova_table = HR\n",
    "    if Trait == 'Parasite infectivity':\n",
    "        anova_table = PI\n",
    "    if Trait == 'Parasite reproduction':\n",
    "        anova_table = PR\n",
    "    if Trait == 'Host viability':\n",
    "        anova_table = HV\n",
    "    \n",
    "    anova_tab = anova_table.drop(columns=['MS', 'np2'])\n",
    "    df_anova = pn.widgets.DataFrame(anova_tab, name='DataFrame')\n",
    "    \n",
    "    return df_anova"
   ]
  },
  {
   "cell_type": "markdown",
   "metadata": {},
   "source": [
    "My widgets:"
   ]
  },
  {
   "cell_type": "code",
   "execution_count": 36,
   "metadata": {},
   "outputs": [],
   "source": [
    "Host_traits_widget = pn.widgets.Select(name='Host Traits',\n",
    "                                       options=['Host lifespan', 'Host fecundity'], \n",
    "                                       width=130, height=60)\n",
    "\n",
    "Parasite_traits_widget = pn.widgets.Select(name='Parasite Traits', \n",
    "                                           options=['Host viability','Parasite infectivity', 'Parasite reproduction'], \n",
    "                                           width=130, height=60)\n"
   ]
  },
  {
   "cell_type": "markdown",
   "metadata": {},
   "source": [
    "Bind the fundions with the widgets!"
   ]
  },
  {
   "cell_type": "code",
   "execution_count": 37,
   "metadata": {},
   "outputs": [],
   "source": [
    "# Plots \n",
    "Host_plots = pn.bind(Host_fitness,Trait = Host_traits_widget)\n",
    "Parasite_plots = pn.bind(Parasite_fitness,Trait = Parasite_traits_widget)\n",
    "\n",
    "#Anova tables \n",
    "anova_Host = pn.bind(choose_anova_tables, Trait = Host_traits_widget)\n",
    "anova_Parasite = pn.bind(choose_anova_tables, Trait = Parasite_traits_widget)\n",
    "\n"
   ]
  },
  {
   "cell_type": "markdown",
   "metadata": {},
   "source": [
    "# My template:"
   ]
  },
  {
   "cell_type": "code",
   "execution_count": 38,
   "metadata": {},
   "outputs": [],
   "source": [
    "# Markdown Text \n",
    "Conclusion = \" ### In summary, exposure to nanoplastics heavily affected parasite reproduction under the high-NP treatment. Even though parasite infectivity increased in the NP-exposed treatments, the parasite advantage was counter-balanced by increased host mortality!\"\n",
    "Host_viability_results = \"<b>  *Daphnia* viability </b> decreased with increasing NP concentrations; all individuals from the zero-NP treatment survived until day 9 post-inoculation whereas about 25% of the individuals died under high-NP concentration (significant effect of NP concentration)\"\n",
    "Parasite_infectivity_results = \"<b>Parasite infectivity</b> increased under NP exposure. Less than 50% of available hosts became successfully infected in the zero-NP treatment, whereas about 75% and 80% of available individuals in the low- and high-NP treatment did (significant effect of NP concentration)\"\n",
    "Parasite_reproduction_results = \" <b> Parasite reproduction</b> was three-to-four times lower under the high-NP treatment, in comparison to the zero-NP and low-NP groups (significant effect of NP concentration).\"\n",
    "Host_fecundity_results = \"<b>*Daphnia* fecundity</b> was strongly reduced under the infection treatment across all NP concentrations; control individuals produced 8 to 12 offspring whereas infected ones produced 2 to 3 offspring on average (significant effect of *Infection*). Within control individuals, Daphnia under low-NP treatment produced 3 to 4 offspring more than Daphnia under zero-NP or high-NP treatments (significant  *NP treatment* x *Infection* interaction)\"\n",
    "Host_lifespan_results = \"<b>*Daphnia* lifespan</b> was reduced by about 10 days under the infection treatment, across all NP concentrations.(significant effect of *Infection*)\"\n",
    "General_info = ' ### The study deals with the effect of nanoplastics on the host-parasite interaction between a waterflea Daphnia galeata x longispina hybrid and Metschnikowia bicuspidate, a parasitic yeast commonly associated with Daphnia species. The study tested the effect of low and high concentrations of nanoplastics on the interactions between a clonal lineage of Daphnia and the parasite, both collected from the same location.'"
   ]
  },
  {
   "cell_type": "code",
   "execution_count": 45,
   "metadata": {},
   "outputs": [
    {
     "name": "stdout",
     "output_type": "stream",
     "text": [
      "Launching server at http://localhost:51126\n"
     ]
    },
    {
     "data": {
      "text/plain": [
       "<bokeh.server.server.Server at 0x20454d2d640>"
      ]
     },
     "execution_count": 45,
     "metadata": {},
     "output_type": "execute_result"
    }
   ],
   "source": [
    "template = pn.template.FastGridTemplate(\n",
    "    site=\"Disease Evolutionary Ecology\",\n",
    "    title=\"DaMN experiment\",\n",
    "    favicon = 'https://www.pinclipart.com/picdir/middle/546-5462809_daphnia-plankton-clipart-png-download.png',\n",
    "    logo = 'https://www.igb-berlin.de/themes/custom/igbtheme/images/logo_en.svg',\n",
    "    background_color = 'beige',\n",
    "    row_height = 50,\n",
    "    corner_radius = 15,\n",
    "    sidebar_width = 200, \n",
    "    sidebar=[pn.pane.Markdown(\"## Settings\"), Host_traits_widget, Parasite_traits_widget]\n",
    ")\n",
    "#General Text\n",
    "template.main[:2, :]= pn.pane.Markdown( General_info,  sizing_mode=\"stretch_both\")\n",
    "\n",
    "## Host\n",
    "\n",
    "#PLots\n",
    "template.main[2:8, :6] = pn.Row(Host_plots, sizing_mode=\"stretch_both\")\n",
    "\n",
    "#Texts\n",
    "template.main[8:11, :2]= pn.pane.Markdown( Host_lifespan_results, sizing_mode=\"stretch_both\")\n",
    "template.main[8:11, 2:6]= pn.pane.Markdown( Host_fecundity_results, sizing_mode=\"stretch_both\")\n",
    "#Anova\n",
    "template.main[12:14, :6] = pn.Row(anova_Host, sizing_mode=\"stretch_both\")\n",
    "\n",
    "#Parasite\n",
    "\n",
    "#PLots\n",
    "template.main[15:21, :6] = pn.Row(Parasite_plots, sizing_mode=\"stretch_both\")\n",
    "\n",
    "#Texts\n",
    "template.main[21:24, :2]= pn.pane.Markdown( Host_viability_results, sizing_mode=\"stretch_both\")\n",
    "template.main[21:24, 2:4]= pn.pane.Markdown( Parasite_infectivity_results, sizing_mode=\"stretch_both\")\n",
    "template.main[21:24, 4:6]= pn.pane.Markdown( Parasite_reproduction_results, sizing_mode=\"stretch_both\")\n",
    "\n",
    "#Anova\n",
    "template.main[24:27, :6] = pn.Row(anova_Parasite, sizing_mode=\"stretch_both\")\n",
    "\n",
    "#Pics\n",
    "template.main[2:11, 6:12] = pn.pane.PNG('https://upload.wikimedia.org/wikipedia/commons/4/4e/Daphnia_pulex.png', width = 500)\n",
    "template.main[15:24, 6:12] = pn.pane.JPG('https://microbewiki.kenyon.edu/images/thumb/c/ca/Metschnikowia_bicuspidata_spores.jpeg/300px-Metschnikowia_bicuspidata_spores.jpeg', width = 500)\n",
    "\n",
    "#Conclusion\n",
    "template.main[28:31, :]= pn.pane.Markdown( Conclusion, sizing_mode=\"stretch_both\")\n",
    "template.show()"
   ]
  },
  {
   "cell_type": "code",
   "execution_count": null,
   "metadata": {},
   "outputs": [],
   "source": []
  },
  {
   "cell_type": "code",
   "execution_count": null,
   "metadata": {},
   "outputs": [],
   "source": []
  },
  {
   "cell_type": "code",
   "execution_count": null,
   "metadata": {},
   "outputs": [],
   "source": []
  }
 ],
 "metadata": {
  "kernelspec": {
   "display_name": "Python 3 (ipykernel)",
   "language": "python",
   "name": "python3"
  },
  "language_info": {
   "codemirror_mode": {
    "name": "ipython",
    "version": 3
   },
   "file_extension": ".py",
   "mimetype": "text/x-python",
   "name": "python",
   "nbconvert_exporter": "python",
   "pygments_lexer": "ipython3",
   "version": "3.7.9"
  }
 },
 "nbformat": 4,
 "nbformat_minor": 2
}
