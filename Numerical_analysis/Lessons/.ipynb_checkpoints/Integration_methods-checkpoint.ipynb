{
 "cells": [
  {
   "cell_type": "markdown",
   "metadata": {},
   "source": [
    "# integration methods"
   ]
  },
  {
   "cell_type": "markdown",
   "metadata": {},
   "source": [
    "## trapezoid"
   ]
  },
  {
   "cell_type": "markdown",
   "metadata": {},
   "source": [
    "#### tolerance"
   ]
  },
  {
   "cell_type": "code",
   "execution_count": 1,
   "metadata": {},
   "outputs": [],
   "source": [
    "def trapezoid(f, a, b, tol=...):\n",
    "    \"\"\"df = trapezoid(f, a, b, tol=...).\n",
    "    Calculates the definite integral of the function f(x)\n",
    "    from a to b using the recursive trapezoidal rule with\n",
    "    an absolute tolerance tol (with default ...).\n",
    "    \"\"\"\n",
    "    n = 0\n",
    "    h0 = (b-a) / 2 ** n\n",
    "    I0 = (f(a) + f(b))* h0 /2\n",
    "    while True:\n",
    "        n += 1\n",
    "        hk = (b-a) / 2 ** n\n",
    "        Ik   = 1/2*I0 + hk * sum([f(a+i*hk) for i in range(1,2**n,2)])\n",
    "        if Ik - I0 < tol:\n",
    "            return Ik\n",
    "        I0 = Ik"
   ]
  },
  {
   "cell_type": "markdown",
   "metadata": {},
   "source": [
    "#### iterations"
   ]
  },
  {
   "cell_type": "code",
   "execution_count": 2,
   "metadata": {},
   "outputs": [],
   "source": [
    "def trapezoid(f, a, b, n=...):\n",
    "    \"\"\"df = trapezoid(f, a, b, n=...).\n",
    "    Calculates the definite integral of the function f(x)\n",
    "    from a to b using the composite trapezoidal rule with\n",
    "    n subdivisions (with default n=...).\n",
    "    \"\"\"\n",
    "    h = (b-a)/n\n",
    "    I = f(a)+f(b)\n",
    "    for i in range(1,n):\n",
    "        I += 2 * f(a + h*i)\n",
    "    I *= (h/2)\n",
    "    return I"
   ]
  },
  {
   "cell_type": "markdown",
   "metadata": {},
   "source": [
    "#### recursive"
   ]
  },
  {
   "cell_type": "code",
   "execution_count": 3,
   "metadata": {},
   "outputs": [],
   "source": [
    "def trapezoid(f, a, b, tol=...):\n",
    "    \"\"\"df = trapezoid(f, a, b, tol=...).\n",
    "    Calculates the definite integral of the function f(x)\n",
    "    from a to b using the recursive trapezoidal rule with\n",
    "    an absolute tolerance tol (with default ...).\n",
    "    \"\"\"\n",
    "    n = 0\n",
    "    h0 = (b-a) / 2 ** n\n",
    "    I0 = (f(a) + f(b))* h0 /2\n",
    "    while True:\n",
    "        n += 1\n",
    "        hk = (b-a) / 2 ** n\n",
    "        Ik   = 1/2*I0 + hk * sum([f(a+i*hk) for i in range(1,2**n,2)])\n",
    "        if Ik - I0 < tol:\n",
    "            return Ik\n",
    "        I0 = Ik"
   ]
  },
  {
   "cell_type": "markdown",
   "metadata": {},
   "source": [
    "## Simpson"
   ]
  },
  {
   "cell_type": "code",
   "execution_count": 4,
   "metadata": {},
   "outputs": [],
   "source": [
    "def simpson(f, a, b, n=...):\n",
    "    \"\"\"df = simpson(f, a, b, n=...).\n",
    "    Calculates the definite integral of the function f(x)\n",
    "    from a to b using the composite Simpson's\n",
    "    rule with n subdivisions (with default n=...).\n",
    "    \"\"\"\n",
    "    n += n % 2\n",
    "    h = (b-a) / n\n",
    "    I = f(a) + f(b)\n",
    "    for i in range(1,n):\n",
    "        if i % 2 == 0:\n",
    "            I += 2 * f( a + h * i)\n",
    "        elif i % 2 == 1:\n",
    "            I += 4 * f( a + h * i)\n",
    "    I *= (h/3)\n",
    "    return I"
   ]
  },
  {
   "cell_type": "markdown",
   "metadata": {},
   "source": [
    "## Romberg"
   ]
  },
  {
   "cell_type": "code",
   "execution_count": 5,
   "metadata": {},
   "outputs": [],
   "source": [
    "def romberg(f, a, b, tol=...):\n",
    "    \"\"\"df = romberg(f, a, b, tol=...).\n",
    "    Calculates the definite integral of the function f(x)\n",
    "    from a to b using Romberg integration based on the\n",
    "    trapezoidal rule until a specified tolerance tol is\n",
    "    reached (with default tol=...).\n",
    "    \"\"\"\n",
    "    h = b - a\n",
    "    n = 1\n",
    "    R_old = [(f(a)+f(b)) * h / 2 ]\n",
    "    while True:\n",
    "        h /= 2\n",
    "        n *= 2\n",
    "        R_new = [ 1/2 * R_old[0] + sum(f(a + o*h) for o in range(1,n,2)) * h ]\n",
    "        factor = 1\n",
    "        for R in R_old:\n",
    "            factor *= 4\n",
    "            R_new.append( (factor * R_new[-1] - R) / (factor-1))\n",
    "        error = abs(R_new[-1] - R_old[-1])\n",
    "        if error < tol:\n",
    "            return R_new[-1]\n",
    "        R_old = R_new\n",
    "    \n",
    "def f(x):\n",
    "    return 1/(1+x**2)"
   ]
  },
  {
   "cell_type": "markdown",
   "metadata": {},
   "source": [
    "## SciPy"
   ]
  },
  {
   "cell_type": "code",
   "execution_count": null,
   "metadata": {},
   "outputs": [],
   "source": [
    "from scipy import integrate\n",
    "\n",
    "integrate.quadrature(f,a,b,tol=tol)\n",
    "integrate.romberg(f,a,b,tol=tol)"
   ]
  },
  {
   "cell_type": "markdown",
   "metadata": {},
   "source": []
  }
 ],
 "metadata": {
  "interpreter": {
   "hash": "edc1bf21e69f891261a36943f5833d87ed8060cb2112624a348d6396193c49a8"
  },
  "kernelspec": {
   "display_name": "Python 3 (ipykernel)",
   "language": "python",
   "name": "python3"
  },
  "language_info": {
   "codemirror_mode": {
    "name": "ipython",
    "version": 3
   },
   "file_extension": ".py",
   "mimetype": "text/x-python",
   "name": "python",
   "nbconvert_exporter": "python",
   "pygments_lexer": "ipython3",
   "version": "3.7.9"
  }
 },
 "nbformat": 4,
 "nbformat_minor": 2
}
