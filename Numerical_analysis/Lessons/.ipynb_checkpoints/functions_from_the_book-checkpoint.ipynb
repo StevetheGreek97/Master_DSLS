{
 "cells": [
  {
   "cell_type": "markdown",
   "metadata": {},
   "source": [
    "# Functions from the book"
   ]
  },
  {
   "cell_type": "markdown",
   "metadata": {},
   "source": [
    "## Chapter 6 integration\n",
    "\n",
    "### Trapezoid"
   ]
  },
  {
   "cell_type": "code",
   "execution_count": 41,
   "metadata": {},
   "outputs": [],
   "source": [
    "# initialisation\n",
    "\n",
    "import math\n",
    "import numpy as np\n",
    "import matplotlib.pyplot as plt"
   ]
  },
  {
   "cell_type": "code",
   "execution_count": 42,
   "metadata": {},
   "outputs": [],
   "source": [
    "## Module trapezoid\n",
    "\n",
    "def trapezoid(f, a, b, Iold, k):\n",
    "    '''\n",
    "    Inew = trapezoid(f, a, b, Iold, k)\n",
    "    Recusrsive trapezoidal rule:\n",
    "    old = Integral of f(x) from x = a to b computer by\n",
    "    trapezoidal rule with 2^(k-1) panels.\n",
    "    Inew = Same integral computed with 2^k panels.\n",
    "    '''\n",
    "    if k == 1:\n",
    "        Inew = (f(a) + f(b))*(b-a)/2.0\n",
    "    \n",
    "    else:\n",
    "        n = 2**(k-2) # number of new points\n",
    "        h = (b - a) / n\n",
    "        x = a + (h/2.0)\n",
    "        sum = 0.0\n",
    "        for i in range(n):\n",
    "\n",
    "            sum = sum + f(x)\n",
    "            x = x + h\n",
    "        Inew = (Iold + (h*sum))/2.0\n",
    "    return Inew"
   ]
  },
  {
   "cell_type": "code",
   "execution_count": 44,
   "metadata": {},
   "outputs": [
    {
     "name": "stdout",
     "output_type": "stream",
     "text": [
      "integral = -0.8948316648532865\n",
      "nPanels = 65535\n"
     ]
    },
    {
     "data": {
      "text/plain": [
       "''"
      ]
     },
     "execution_count": 44,
     "metadata": {},
     "output_type": "execute_result"
    }
   ],
   "source": [
    "# example 6.4\n",
    "\n",
    "def f(x):\n",
    "    return math.sqrt(x) * math.cos(x)\n",
    "\n",
    "Iold = 0.0\n",
    "for k in range(1, 21):\n",
    "    Inew = trapezoid(f, 0.0, math.pi, Iold, k)\n",
    "    if (k > 1) and abs(Inew - Iold) < 1.0e-6:\n",
    "        \n",
    "        break\n",
    "    Iold = Inew\n",
    "\n",
    "print(f\"integral = {Inew}\")\n",
    "print(f\"nPanels = {2**k-1}\")\n",
    "input(f\"\\nPress return to exit\")"
   ]
  },
  {
   "cell_type": "markdown",
   "metadata": {},
   "source": []
  },
  {
   "cell_type": "code",
   "execution_count": 45,
   "metadata": {},
   "outputs": [],
   "source": [
    "## Module Romberg\n",
    "\n",
    "\n",
    "def romberg(f, a, b, tol = 1.0e-6):\n",
    "    '''\n",
    "        I, nPanels = romberg(f, a, b, tol = 1.0e-6).\n",
    "        Romberg integration of f(x) from x = a to b.\n",
    "        Returns the integral and the number of panels used.\n",
    "    '''\n",
    "    def richardson(r, k):\n",
    "        for j in range(k-1, 0, -1):\n",
    "            const = 4.0 **(k-j)\n",
    "            r[j] = (const*r[j+1] - r[j]) / (const - 1.0)\n",
    "        return r\n",
    "    \n",
    "    r = np.zeros(21)\n",
    "    r[1] = trapezoid(f, a, b, 0.0, 1)\n",
    "    r_old = r[1]\n",
    "    for k in range(2, 21):\n",
    "        r[k] = trapezoid(f, a, b, r[k-1], k)\n",
    "        r = richardson(r, k)\n",
    "        if abs(r[1] - r_old) < tol*max(abs(r[1]), 1.0):\n",
    "            return r[1], 2**(k-1)\n",
    "        r_old = r[1]\n",
    "    print(\"Romberg quadrature did not converge\")\n",
    "    "
   ]
  },
  {
   "cell_type": "code",
   "execution_count": 46,
   "metadata": {},
   "outputs": [
    {
     "name": "stdout",
     "output_type": "stream",
     "text": [
      "integral = -0.8948314695044126\n",
      "Numevals = 64\n"
     ]
    },
    {
     "data": {
      "text/plain": [
       "''"
      ]
     },
     "execution_count": 46,
     "metadata": {},
     "output_type": "execute_result"
    }
   ],
   "source": [
    "## example 6.7\n",
    "\n",
    "def f(x):\n",
    "    return 2.0*(x**2)*math.cos(x**2)\n",
    "\n",
    "I, n = romberg(f, 0, math.sqrt(math.pi))\n",
    "print(f'integral = {I}')\n",
    "print(f'Numevals = {n}')\n",
    "input('\\nPress enter to exit')"
   ]
  },
  {
   "cell_type": "markdown",
   "metadata": {},
   "source": [
    "## Chapter 4: Root finding\n",
    "\n",
    "\n",
    "### Rootsearch"
   ]
  },
  {
   "cell_type": "code",
   "execution_count": 47,
   "metadata": {},
   "outputs": [],
   "source": [
    "## Rootsearch\n",
    "from numpy import sign\n",
    "\n",
    "\n",
    "def rootsearch(f, a, b, dx):\n",
    "    '''\n",
    "    x1, x2 = rootsearch(f, a, b, dx)\n",
    "    Searches the interval (a,b) in increments dx for\n",
    "    the bounds (x1, x2) of the smallest root of f(x).\n",
    "    Returns x1 = x2 = None if no roots were detected\n",
    "    '''\n",
    "    x1 = a\n",
    "    f1 = f(a)\n",
    "    x2 = a + dx\n",
    "    f2 = f(x2)\n",
    "\n",
    "    while sign(f1) == sign(f2):\n",
    "        if x1 >= b:\n",
    "            return None, None\n",
    "        x1 = x2\n",
    "        f1 = f2\n",
    "        x2 = x1 + dx\n",
    "        f2 = f(x2)\n",
    "\n",
    "    else:\n",
    "        return x1, x2\n"
   ]
  },
  {
   "cell_type": "code",
   "execution_count": 48,
   "metadata": {},
   "outputs": [
    {
     "name": "stdout",
     "output_type": "stream",
     "text": [
      "x = 0.7346\n"
     ]
    }
   ],
   "source": [
    "# example 4.1\n",
    "\n",
    "## calculate root of function f in interval 0 to 1 in 10 steps\n",
    "\n",
    "def f(x):\n",
    "    return x**3 - 10*x**2 + 5.0\n",
    "\n",
    "x1 = 0.0\n",
    "x2 = 1.0\n",
    "for i in range(4):\n",
    "    dx = (x2 - x1) / 10.0\n",
    "    x1, x2 = rootsearch(f, x1, x2, dx)\n",
    "x = (x1 + x2) / 2.0\n",
    "\n",
    "print(f'x = {x:6.4f}')"
   ]
  },
  {
   "cell_type": "markdown",
   "metadata": {},
   "source": [
    "### Bisection"
   ]
  },
  {
   "cell_type": "code",
   "execution_count": 11,
   "metadata": {},
   "outputs": [],
   "source": [
    "## module bisection\n",
    "\n",
    "\n",
    "import math\n",
    "# import error\n",
    "from numpy import sign\n",
    "\n",
    "def bisection(f, x1, x2, switch = 1, tol = 1.0e-9):\n",
    "    '''\n",
    "        root = bisection(f, x1, x2, switch = 0, tol = 1.0e-9).\n",
    "        Finds a root of f(x) = 0 by bisection.\n",
    "        The root must be bracketed in (x1, x2).\n",
    "        Setting switch = 1 returns root = None if\n",
    "        f(x) increases upon bisection\n",
    "    '''\n",
    "\n",
    "    f1 = f(x1)\n",
    "    if f1 == 0.0:\n",
    "        return x1\n",
    "    f2 = f(x2)\n",
    "    if f2 == 0.0:\n",
    "        return x2\n",
    "    if sign(f1) == sign(f2):\n",
    "        raise ValueError('Root is not bracketed')\n",
    "    n = int(math.ceil(math.log(abs(x2 - x1) / tol)/ math.log(2.0)))\n",
    "    for i in range(n):\n",
    "        x3 = 0.5*(x1 + x2)\n",
    "        f3 = f(x3)\n",
    "        if (switch == 1) and (abs(f3) > abs(f1)) and (abs(f3) > abs(f2)):\n",
    "            return None\n",
    "        if f3 == 0.0:\n",
    "            return x3\n",
    "        \n",
    "        if sign(f2) != sign(f3):\n",
    "            x1 = x3\n",
    "            f1 = f3\n",
    "        else:\n",
    "            x2 = x3\n",
    "            f2 = f3\n",
    "    return (x1 + x2) / 2.0"
   ]
  },
  {
   "cell_type": "code",
   "execution_count": 50,
   "metadata": {},
   "outputs": [
    {
     "name": "stdout",
     "output_type": "stream",
     "text": [
      "x = 0.7346\n"
     ]
    }
   ],
   "source": [
    "# example 4.2\n",
    "\n",
    "def f(x):\n",
    "    return x**3 - 10.0*x**2 + 5.0\n",
    "\n",
    "x = bisection(f, 0.0, 1.0, tol = 1.0e-4)\n",
    "print(f'x = {x:6.4f}')"
   ]
  },
  {
   "cell_type": "markdown",
   "metadata": {},
   "source": [
    "### Ridder's Method"
   ]
  },
  {
   "cell_type": "code",
   "execution_count": 51,
   "metadata": {},
   "outputs": [],
   "source": [
    "## Ridder's method \n",
    "\n",
    "\n",
    "import math\n",
    "from numpy import sign\n",
    "\n",
    "def ridder(f, a, b, tol = 1.0e-9):\n",
    "    '''\n",
    "    root = ridder(f, a, b, tol = 1.0e-9).\n",
    "    Finds a root of f(x) = 0 with ridder's method.\n",
    "    The root must be bracketed in (a,b)\n",
    "    '''\n",
    "    fa = f(a)\n",
    "    if fa == 0.0:\n",
    "        return a\n",
    "    fb = f(b)\n",
    "    if fb == 0.0:\n",
    "        return b\n",
    "    # if sign(f1) != sign(f3):\n",
    "    #     x1 = x3\n",
    "    #     f1 = f3\n",
    "    for i in range(30):\n",
    "        # compute the improved root x for ridder's formula\n",
    "        c = 0.5 *(a + b)\n",
    "        fc = f(c)\n",
    "        s = math.sqrt(fc**2 - fa*fb)\n",
    "        if s == 0.0:\n",
    "            return None\n",
    "        dx = (c - a)*fc/s\n",
    "        if (fa - fb) < 0.0:\n",
    "            dx = -dx\n",
    "        x = c + dx\n",
    "        fx = f(x)\n",
    "        # test for convergence\n",
    "        if i > 0:\n",
    "            if abs(x - xOld) < tol*max(abs(x), 1.0):\n",
    "                return x\n",
    "        xOld = x\n",
    "        # Re-bracket the root as tightly as possible\n",
    "        if sign(fc) == sign(fx):\n",
    "            if sign(fa) != sign(fx):\n",
    "                b = x\n",
    "                fb = fx\n",
    "            else:\n",
    "                a = x\n",
    "                fa = fx\n",
    "        else:\n",
    "            a = c\n",
    "            b = x\n",
    "            fa = fc\n",
    "            fb = fx\n",
    "    return None\n",
    "    print('Too many iterations')\n"
   ]
  },
  {
   "cell_type": "code",
   "execution_count": 53,
   "metadata": {},
   "outputs": [
    {
     "data": {
      "image/png": "[encoded data removed]",
      "text/plain": [
       "<Figure size 432x288 with 1 Axes>"
      ]
     },
     "metadata": {
      "needs_background": "light"
     },
     "output_type": "display_data"
    },
    {
     "name": "stdout",
     "output_type": "stream",
     "text": [
      "root = 0.5800000000000001\n"
     ]
    }
   ],
   "source": [
    "# example 4.5\n",
    "\n",
    "def f(x):\n",
    "    a = (x - 0.3)**2 + 0.01\n",
    "    b = (x - 0.8)**2 + 0.04\n",
    "    return 1.0/a - 1.0/b\n",
    "\n",
    "x = np.linspace(-2, 3, 501)\n",
    "f_x = [f(i) for i in x]\n",
    "\n",
    "plt.plot(x, f_x)\n",
    "plt.show()\n",
    "\n",
    "print(f'root = {ridder(f, 0.0, 1.0)}')"
   ]
  },
  {
   "cell_type": "markdown",
   "metadata": {},
   "source": [
    "### Newton Raphson\n",
    "safe as in if the new a or b is outside\n",
    "the first brackets it will stop\n",
    "\n"
   ]
  },
  {
   "cell_type": "code",
   "execution_count": 55,
   "metadata": {},
   "outputs": [],
   "source": [
    "## Newton Raphson\n",
    "\n",
    "'''\n",
    "Root = newtonRaphson(f, df, a, b, tol = 1.0e-9)\n",
    "Finds a root of f(x) = 0 by combining the Newton-Raphson\n",
    "method with bisection. The root must be bracketed in (a,b).\n",
    "Calls user-supplied functions f(x) and it's derivative df(x)\n",
    "'''\n",
    "def newtonRaphson(f, df, a, b, tol = 1.0e-9):\n",
    "    import error\n",
    "    from numpy import sign\n",
    "\n",
    "    fa = f(a)\n",
    "    if fa == 0.0:\n",
    "        return a\n",
    "    fb = f(b)\n",
    "    if fb == 0.0:\n",
    "        return b\n",
    "    \n",
    "    if sign(fa) == sign(fb):\n",
    "        error.err(\"Root is not bracketed\")\n",
    "    x = 0.5 * (a + b)\n",
    "    for i in range(30):\n",
    "        fx = f(x)\n",
    "        if fx == 0.0:\n",
    "            return x\n",
    "        # tighten the brackets on the root\n",
    "        if sign(fa) != sign(fx):\n",
    "            b = x\n",
    "        else: \n",
    "            a = x\n",
    "        # try a newton raphson step\n",
    "        dfx = df(x)\n",
    "        # If division by zero, push x out of bounds\n",
    "        try:\n",
    "            dx = -fx/dfx\n",
    "        except ZeroDivisionError:\n",
    "            dx = b - a\n",
    "        x = x + dx\n",
    "        # If the result is outside of the brackets, use Bisection\n",
    "        if (b - x) * (x - a) < 0.0:\n",
    "            dx = 0.5*(b - a)\n",
    "            x = a + dx\n",
    "        # Check for convergence\n",
    "        if abs(dx) < tol*max(abs(b), 1.0):\n",
    "            return x\n",
    "    print('Too many iterations in Newton-Raphson')"
   ]
  },
  {
   "cell_type": "code",
   "execution_count": 78,
   "metadata": {},
   "outputs": [],
   "source": [
    "## unrefined newton-Raphson (not safe with bisection)\n",
    "\n",
    "def RawNewtonRaphson(f, df, x, m = 1, tol = 1.0e-9):\n",
    "    '''\n",
    "    m = number of roots closeby\n",
    "    '''\n",
    "    for i in range(30):\n",
    "        dx = -m*(f(x)/df(x))\n",
    "        x = x + dx\n",
    "        if abs(dx) < tol:\n",
    "            return x, i\n",
    "    print('Too many iterations')"
   ]
  },
  {
   "cell_type": "code",
   "execution_count": 82,
   "metadata": {},
   "outputs": [
    {
     "data": {
      "image/png": "[encoded data removed]",
      "text/plain": [
       "<Figure size 432x288 with 1 Axes>"
      ]
     },
     "metadata": {
      "needs_background": "light"
     },
     "output_type": "display_data"
    },
    {
     "name": "stdout",
     "output_type": "stream",
     "text": [
      "Root: 2.100000000014807\n",
      "Number of iterations: 5\n"
     ]
    }
   ],
   "source": [
    "# Example 4.7\n",
    "\n",
    "def f(x):\n",
    "    return x**4 - 6.4*x**3 + 6.45*x**2 + 20.538*x - 31.752\n",
    "\n",
    "def df(x):\n",
    "    return 4*x**3 - 19.2*x**2 + 12.9*x + 20.538\n",
    "\n",
    "x = np.linspace(0, 5, 501)\n",
    "\n",
    "fx = [f(i) for i in x]\n",
    "dfx = [df(i) for i in x]\n",
    "\n",
    "plt.plot(x, fx, label = 'f(x)')\n",
    "plt.plot(x, dfx, label = 'df(x)')\n",
    "plt.axhline(0)\n",
    "plt.legend(); plt.show()\n",
    "\n",
    "root, numIter = RawNewtonRaphson(f, df, 2.0, 2)\n",
    "print(f'Root: {root}')\n",
    "print(f'Number of iterations: {numIter}')"
   ]
  },
  {
   "cell_type": "markdown",
   "metadata": {},
   "source": [
    "## NewtonRaphson 2  p 163 > needs swap and gausspivot from section 2.5 to function"
   ]
  },
  {
   "cell_type": "code",
   "execution_count": null,
   "metadata": {},
   "outputs": [],
   "source": [
    "## Module newtonRaphson2\n",
    "\n",
    "''' soln = newtonRaphson2(f, x, tol = 1e-9)\n",
    "    Solves the simultaneous equations f(x) = 0 by\n",
    "    the Newton-Raphson method using {x} as the initial\n",
    "    guess. Note that {f} and {x} are vectors.\n",
    "'''\n",
    "\n",
    "def newtonRaphson2(f, x, tol=1.0e-9):\n",
    "\n",
    "    def jacobian(f, x):\n",
    "        h = 1.0e-4\n",
    "        n = len(x)\n",
    "        jac = np.zeros((n, n))\n",
    "        f0 = f(x)\n",
    "        for i in range(n):\n",
    "            temp = x[i]\n",
    "            x[i] = temp + h\n",
    "            f1 = f(x)\n",
    "            x[i] = temp\n",
    "            jac[:,i] = (f1 - f0)/h\n",
    "        return jac, f0\n",
    "    \n",
    "    for i in range(30):\n",
    "        jac, f0 = jacobian(f, x)\n",
    "        if math.sqrt(np.dot(f0, f0)/len(x)) < tol:\n",
    "            return x\n",
    "        dx = gaussPivot(jac, -f0)\n",
    "        x = x + dx\n",
    "        if math.sqrt(np.dot(dx, dx)) < tol*max(max(abs(x)), 1.0):\n",
    "            return x\n",
    "    print('Too many iterations')"
   ]
  },
  {
   "cell_type": "markdown",
   "metadata": {},
   "source": [
    "## 4.7 EvalPoly & Deflation of polynomials\n",
    "\n",
    "Zero's of polynomials can be calculated using this function\n"
   ]
  },
  {
   "cell_type": "code",
   "execution_count": 1,
   "metadata": {},
   "outputs": [],
   "source": [
    "## Module Evalpoly\n",
    "'''\n",
    "    p, dp, ddp = evalPoly(a, x)\n",
    "    Evaluate the polynomial\n",
    "    p = a[0] + a[1]*x + a[2]*x**2 + ... + a[n]*x**n\n",
    "    with its derivatives dp = p' and ddp = p''\n",
    "'''\n",
    "\n",
    "def evalpoly(a, x):\n",
    "    n = len(a) - 1\n",
    "    p = a[n]\n",
    "    dp = 0.0 + 0.0j\n",
    "    ddp = 0.0 + 0.0j\n",
    "    for i in range(1, n+1):\n",
    "        ddp = ddp*x + 2.0*dp\n",
    "        dp = dp*x + p\n",
    "        p = p*x + a[n-i]\n",
    "    return p, dp , ddp"
   ]
  },
  {
   "cell_type": "code",
   "execution_count": 9,
   "metadata": {},
   "outputs": [],
   "source": [
    "## Module polyRoots\n",
    "'''\n",
    "    roots = polyRoots(a)\n",
    "    Uses Laguerre's method to compute all the roots of\n",
    "    a[0] + a[1]*x + a[2]*x**2 + ... + a[n]*x**n = 0.\n",
    "    The roots are returned in the array 'roots'.\n",
    "'''\n",
    "import numpy as np\n",
    "import cmath\n",
    "from random import random\n",
    "\n",
    "def polyRoots(a, tol = 1.0e-12):\n",
    "\n",
    "    def laguerre(a, tol):\n",
    "        x = random() # random starting value\n",
    "        n = len(a) - 1\n",
    "        for i in range(30):\n",
    "            p, dp, ddp = evalpoly(a, x)\n",
    "            if abs(p) < tol:\n",
    "                return x\n",
    "            g = dp/p\n",
    "            h = g*g - ddp/p\n",
    "            f = cmath.sqrt((n - 1) * (n * h - g * g))\n",
    "            if abs(g + f) > abs(g - f):\n",
    "                dx = n / (g + f)\n",
    "            else:\n",
    "                dx = n / (g - f)\n",
    "            x = x - dx\n",
    "            if abs(dx) < tol:\n",
    "                return x\n",
    "        print('Too many iterations')\n",
    "\n",
    "\n",
    "    def deflPoly(a, root): # deflates a polynomial\n",
    "        n = len(a) - 1\n",
    "        b = [(0.0 + 0.0j)]*n\n",
    "        b[n-1] = a[n]\n",
    "        for i in range(n-2, -1, -1):\n",
    "            b[i] = a[i+1] + root*b[i+1]\n",
    "        return b\n",
    "\n",
    "\n",
    "    n = len(a) - 1\n",
    "    roots = np.zeros((n), dtype='complex')\n",
    "    for i in range(n):\n",
    "        x = laguerre(a, tol)\n",
    "        if abs(x.imag) < tol:\n",
    "            x = x.real\n",
    "        roots[i] = x\n",
    "        a = deflPoly(a, x)\n",
    "    return roots"
   ]
  },
  {
   "cell_type": "markdown",
   "metadata": {},
   "source": [
    "problem 4.12"
   ]
  },
  {
   "cell_type": "code",
   "execution_count": 10,
   "metadata": {},
   "outputs": [
    {
     "name": "stdout",
     "output_type": "stream",
     "text": [
      "Roots are:\n",
      " [ 2.+0.j  4.-3.j  4.+3.j -5.+0.j]\n"
     ]
    }
   ],
   "source": [
    "c = np.array([-250.0, 155.0, -9.0, -5.0, 1.0])\n",
    "print(f'Roots are:\\n {polyRoots(c)}')\n"
   ]
  },
  {
   "cell_type": "markdown",
   "metadata": {},
   "source": [
    "## optimisation Chapter 10\n",
    "\n",
    "### Goldsearch"
   ]
  },
  {
   "cell_type": "code",
   "execution_count": 19,
   "metadata": {},
   "outputs": [],
   "source": [
    "## module goldSearch\n",
    "\n",
    "'''\n",
    "    a, b = bracket(f, xStart, h)\n",
    "    Finds the brackets (a,b) of a minimum point of the\n",
    "    user-supplied scalar function f(x).\n",
    "    The search starts downhill from xStart with a step\n",
    "    length h.\n",
    "\n",
    "    x, fMin = search(f, a, b, tol = 1.0e-6)\n",
    "    Golden  section method for determining x that minimizes\n",
    "    the user-supplied scalar function f(x).\n",
    "    The minimum must be bracketed in (a, b)\n",
    "'''\n",
    "import math\n",
    "\n",
    "def bracket(f, x1, h):\n",
    "    c = 1.618033989\n",
    "    f1 = f(x1)\n",
    "    x2 = x1 +h\n",
    "    f2 = f(x2)\n",
    "    # determine downhill directions and change sign of h is needed\n",
    "    if f2 > f1:\n",
    "        h = -h\n",
    "        x2 = x1 + h\n",
    "        f2 = f(x2)\n",
    "        # check if minimum between x1 - h and x1 + h\n",
    "        if f2 > f1:\n",
    "            return x2, x1 - h\n",
    "    # search loop\n",
    "    for i in range(100):\n",
    "        h = c*h\n",
    "        x3 = x2 + h\n",
    "        f3 = f(x3)\n",
    "        if f3 > f2:\n",
    "            return x1, x3\n",
    "        x1 = x2\n",
    "        x2 = x3\n",
    "        f1 = f2\n",
    "        f2 = f3\n",
    "    print('Bracket did not find a minimum')\n",
    "\n",
    "\n",
    "def search(f, a, b, tol = 1.0e-9):\n",
    "    nIter = int(math.ceil(-2.078087*math.log(tol/abs(b-a))))\n",
    "    R = 0.618033989\n",
    "    C = 1.0 - R\n",
    "    # first telescoping\n",
    "    x1 = R*a + C*b\n",
    "    x2 = C*a + R*b\n",
    "    f1, f2 = f(x1), f(x2)\n",
    "    # main loop\n",
    "    for i in range(nIter):\n",
    "        if f1 > f2:\n",
    "            a = x1\n",
    "            x1 = x2\n",
    "            f1 = f2\n",
    "            x2 = C*a + R*b\n",
    "            f2 = f(x2)\n",
    "        else:\n",
    "            b = x2\n",
    "            x2 = x1\n",
    "            f2 = f1\n",
    "            x1 = R*a + C*b\n",
    "            f1 = f(x1)\n",
    "    if f1 < f2:\n",
    "        return x1, f1\n",
    "    else:\n",
    "        return x2, f2\n"
   ]
  },
  {
   "cell_type": "code",
   "execution_count": 20,
   "metadata": {},
   "outputs": [
    {
     "name": "stdout",
     "output_type": "stream",
     "text": [
      "x: 0.2734941131714084\n",
      "f(x): -0.28985978554959224\n"
     ]
    }
   ],
   "source": [
    "# example 10.1\n",
    "\n",
    "def f(x):\n",
    "    lam = 1.0 # Contraint multiplier\n",
    "    c = min(0.0, x) # constraint function\n",
    "    return 1.6*x**3 + 3.0*x**2 - 2.0*x + lam*c**2\n",
    "\n",
    "xStart = 1.0\n",
    "h = 0.01\n",
    "x1, x2 = bracket(f, xStart, h)\n",
    "x, fMin = search(f, x1, x2)\n",
    "print(f'x: {x}')\n",
    "print(f'f(x): {fMin}')"
   ]
  },
  {
   "cell_type": "markdown",
   "metadata": {},
   "source": [
    "# Differential equations (chapter 7)\n",
    "\n",
    "### euler's method"
   ]
  },
  {
   "cell_type": "code",
   "execution_count": 21,
   "metadata": {},
   "outputs": [],
   "source": [
    "## module euler\n",
    "\n",
    "'''\n",
    "X, Y = integrate(F, x, y, xStop, h).\n",
    "Euler's method for solving the\n",
    "initial value problem {y}' = {F(x, {y})}, where\n",
    "{y} = {y[0], y[1], ... y[n-1]}.\n",
    "x,y = initial conditions\n",
    "xStop = terminal value of x\n",
    "h = increment of x used in integration\n",
    "\n",
    "F = user-supplied function that returns the\n",
    "    array(x, y) = {y'[0], y'[1],...,y'[n-1]}.\n",
    "'''\n",
    "\n",
    "import numpy as np\n",
    "\n",
    "def integrate(F, x, y, xStop, h):\n",
    "    X = []\n",
    "    Y = []\n",
    "    X.append(x)\n",
    "    Y.append(y)\n",
    "    while x < xStop:\n",
    "        h = min(h, xStop - x)\n",
    "        y = y + h*F(x, y)\n",
    "        x = x + h\n",
    "        X.append(x)\n",
    "        Y.append(y)\n",
    "    return np.array(X), np.array(Y)\n"
   ]
  },
  {
   "cell_type": "code",
   "execution_count": 22,
   "metadata": {},
   "outputs": [],
   "source": [
    "## module printSoln\n",
    "\n",
    "'''\n",
    "printSoln(X, Y, freq)\n",
    "prints X and Y returned from the differential\n",
    "equation solvers using printout frequency 'freq'.\n",
    "freq = n prints every nth step.\n",
    "freq = 0 prints initial and final values only\n",
    "'''\n",
    "\n",
    "def printSoln(X, Y, freq):\n",
    "\n",
    "    def printHead(n):\n",
    "        print(\"\\n       x   \",end=' ')\n",
    "        for i in range(n):\n",
    "            print(print(\"       y[\",i,\"]   \",end=' '))\n",
    "        print()\n",
    "    \n",
    "    def printLine(x, y, n):\n",
    "        print(f\"{x:13.4e}\",end='    ')\n",
    "        for i in range(n):\n",
    "            print(f\"{y[i]:13.4e}\", end = '  ')\n",
    "        print()\n",
    "    \n",
    "    m = len(Y)\n",
    "    try:\n",
    "        n = len(Y[0])\n",
    "    except TypeError:\n",
    "        n = 1\n",
    "    if freq == 0:\n",
    "        freq = m\n",
    "    printHead(n)\n",
    "    for i in range(0, m, freq):\n",
    "        printLine(X[i], Y[i], n)\n",
    "    if i != m - 1:\n",
    "        printLine(X[m - 1], Y[m - 1], n)"
   ]
  },
  {
   "cell_type": "code",
   "execution_count": 32,
   "metadata": {},
   "outputs": [
    {
     "data": {
      "image/png": "[encoded data removed]",
      "text/plain": [
       "<Figure size 432x288 with 1 Axes>"
      ]
     },
     "metadata": {
      "needs_background": "light"
     },
     "output_type": "display_data"
    }
   ],
   "source": [
    "## Example 7.2\n",
    "\n",
    "import numpy as np\n",
    "import matplotlib.pyplot as plt\n",
    "\n",
    "def F(x, y):\n",
    "    F = np.zeros(2)\n",
    "    F[0] = y[1]\n",
    "    F[1] = -0.1*y[1] -x\n",
    "    return F\n",
    "\n",
    "x = 0.0                     # Start of integration\n",
    "xStop = 2.0                 # end of integration\n",
    "y = np.array([0.0, 1.0])    # initial values of {y}\n",
    "h = 0.05                    # step-size\n",
    "\n",
    "X,Y = integrate(F, x, y, xStop, h)\n",
    "yExact = 100.0 * X - 5.0*X**2 + 990.0*(np.exp(-0.1*X) - 1.0)\n",
    "\n",
    "plt.plot(X,Y[:,0], 'o')#, \n",
    "plt.plot(X, yExact, '-')\n",
    "plt.grid(True)\n",
    "plt.xlabel('x'); plt.ylabel('y')\n",
    "plt.legend(('Numerical', 'Exact'), loc=0)\n",
    "plt.show()"
   ]
  },
  {
   "cell_type": "markdown",
   "metadata": {},
   "source": [
    "# Runge-Kutta 4th order"
   ]
  },
  {
   "cell_type": "code",
   "execution_count": 34,
   "metadata": {},
   "outputs": [],
   "source": [
    "## module run_kut_4\n",
    "\n",
    "'''\n",
    "X, Y = integrate(F, x, y, xStop, h).\n",
    "\n",
    "4th-order Runge-Kutta mrthod for solving the\n",
    "initial value problem {y}' = {F(x, {y})}, where\n",
    "{y} = {y[0], y[1],...,y[n-1]}.\n",
    "x, y = initial conditions\n",
    "xStop = terminal value of x\n",
    "h = increment of x used in integration\n",
    "F = user-supplied function that returns the\n",
    "    array F(x, y) = {y'[0], y'[1],....,y'[n-1]}.\n",
    "'''\n",
    "import numpy as np\n",
    "\n",
    "def integrate(F, x, y, xStop, h):\n",
    "\n",
    "    def run_kut4(F, x, y, h):\n",
    "        K0 = h*F(x, y)\n",
    "        K1 = h*F(x + h/2, y + K0/2)\n",
    "        K2 = h*F(x + h/2, y + K1/2)\n",
    "        K3 = h*F(x + h, y + K2)\n",
    "        return (K0 + 2.0*K1 + 2.0*K2 + K3)/6.0\n",
    "\n",
    "    X = []\n",
    "    Y = []\n",
    "    X.append(x)\n",
    "    Y.append(y)\n",
    "    while x < xStop:\n",
    "        h = min(h, xStop - x)\n",
    "        y = y + run_kut4(F, x, y, h)\n",
    "        x = x + h\n",
    "        X.append(x)\n",
    "        Y.append(y)\n",
    "    return np.array(X), np.array(Y)"
   ]
  },
  {
   "cell_type": "code",
   "execution_count": 35,
   "metadata": {},
   "outputs": [
    {
     "data": {
      "image/png": "[encoded data removed]",
      "text/plain": [
       "<Figure size 432x288 with 1 Axes>"
      ]
     },
     "metadata": {
      "needs_background": "light"
     },
     "output_type": "display_data"
    }
   ],
   "source": [
    "## Example 7.4\n",
    "\n",
    "import numpy as np\n",
    "import matplotlib.pyplot as plt\n",
    "\n",
    "def F(x, y):\n",
    "    F = np.zeros(2)\n",
    "    F[0] = y[1]\n",
    "    F[1] = -0.1*y[1] - x\n",
    "    return F\n",
    "\n",
    "x = 0.0                     # starting value for integration\n",
    "xStop = 2.0                 # end of integration\n",
    "y = np.array([0.0, 1.0])    # initial values of {y}\n",
    "h = 0.2                     # step size\n",
    "\n",
    "X, Y = integrate(F, x, y, xStop, h)\n",
    "yExact = 100.0*X - 5.0*X**2 + 990.0*(np.exp(-0.1*X) - 1.0)\n",
    "plt.plot(X, Y[:,0], 'o', X, yExact, '-')\n",
    "plt.grid(True)\n",
    "plt.xlabel('x'); plt.ylabel('y')\n",
    "plt.legend(('Numerical', 'Exact'), loc = 0)\n",
    "plt.show()"
   ]
  }
 ],
 "metadata": {
  "interpreter": {
   "hash": "bec6e6432b75569f4a7c5c7d6741a4e8a7bfc98f456dcbc6bfd7a284b6b0d3fe"
  },
  "kernelspec": {
   "display_name": "Python 3 (ipykernel)",
   "language": "python",
   "name": "python3"
  },
  "language_info": {
   "codemirror_mode": {
    "name": "ipython",
    "version": 3
   },
   "file_extension": ".py",
   "mimetype": "text/x-python",
   "name": "python",
   "nbconvert_exporter": "python",
   "pygments_lexer": "ipython3",
   "version": "3.7.9"
  }
 },
 "nbformat": 4,
 "nbformat_minor": 2
}
