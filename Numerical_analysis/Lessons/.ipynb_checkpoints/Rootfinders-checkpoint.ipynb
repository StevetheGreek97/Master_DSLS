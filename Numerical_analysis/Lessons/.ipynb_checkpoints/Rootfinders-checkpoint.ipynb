{
 "cells": [
  {
   "cell_type": "markdown",
   "metadata": {},
   "source": [
    "## Rootfinding algorithms"
   ]
  },
  {
   "cell_type": "markdown",
   "metadata": {},
   "source": [
    "### bisection"
   ]
  },
  {
   "cell_type": "code",
   "execution_count": null,
   "metadata": {},
   "outputs": [],
   "source": [
    "def bisection(f, a, b, tol=...):\n",
    "    \"\"\"root = bisection(f, a, b, tol=...).\n",
    "    Finds a root of f(x) = 0 by bisection.\n",
    "    The root must be bracketed in (a,b).\n",
    "    \"\"\"\n",
    "    lo, f_lo = a, f(a)\n",
    "    if f_lo == 0.0:\n",
    "        return lo\n",
    "    hi, f_hi = b, f(b)\n",
    "    if f_hi == 0.0:\n",
    "        return hi\n",
    "    if f_lo * f_hi > 0.0:\n",
    "        raise ValueError('Root is not bracketed')\n",
    "    while abs(hi - lo) >= tol:\n",
    "        md = (hi + lo) / 2\n",
    "        if f(md) == 0:\n",
    "            return md\n",
    "        if f(md) * f(hi) < 0:\n",
    "            lo = md\n",
    "        else:\n",
    "            hi = md\n",
    "    return (lo + hi) / 2.0"
   ]
  },
  {
   "cell_type": "markdown",
   "metadata": {},
   "source": []
  },
  {
   "cell_type": "markdown",
   "metadata": {},
   "source": [
    "### Secant"
   ]
  },
  {
   "cell_type": "code",
   "execution_count": 1,
   "metadata": {},
   "outputs": [],
   "source": [
    "def secant(f, a, b, tol=...):\n",
    "    \"\"\"root = secant(f, a, b, tol=...).\n",
    "    Finds a root of f(x) = 0 by the secant method.\n",
    "    \"\"\"\n",
    "    x1 = a\n",
    "    f1 = f(x1)\n",
    "    if f1 == 0:\n",
    "        return x1\n",
    "    x2 = b\n",
    "    f2 = f(x2)\n",
    "    if f2 == 0:\n",
    "        return x2\n",
    "    while abs(x2-x1) > tol:\n",
    "        x3 = (f1 * x2 - f2 *x1)/ (f1-f2)\n",
    "        f3 = f(x3)\n",
    "        if f3 == 0:\n",
    "            return 0\n",
    "        x1,x2,f1,f2=x2,x3,f2,f3\n",
    "    return x2"
   ]
  },
  {
   "cell_type": "markdown",
   "metadata": {},
   "source": [
    "### newton-raphson"
   ]
  },
  {
   "cell_type": "code",
   "execution_count": 2,
   "metadata": {},
   "outputs": [],
   "source": [
    "def newton_raphson(f, df, a, b, tol=...):\n",
    "    \"\"\"root = newton_raphson(f, df, a, b, tol=....).\n",
    "    Finds a root of f(x) = 0 by combining the Newton-Raphson\n",
    "    method with bisection. The root must be bracketed in (a,b).\n",
    "    Calls \n",
    "    \"\"\"\n",
    "    x0 = (a+b)/2\n",
    "    while True:\n",
    "        f0 = f(x0)\n",
    "        df0 = df(x0)\n",
    "        delta = f0 / df0\n",
    "        x1 = x0 - delta\n",
    "        if abs(delta) < tol:\n",
    "            return x1\n",
    "        x0 = x1\n",
    "        f0 = f(x0)\n",
    "        df0 = df(x0)"
   ]
  },
  {
   "cell_type": "markdown",
   "metadata": {},
   "source": []
  },
  {
   "cell_type": "markdown",
   "metadata": {},
   "source": [
    "### False-position"
   ]
  },
  {
   "cell_type": "code",
   "execution_count": 3,
   "metadata": {},
   "outputs": [],
   "source": [
    "def false_position(f, a, b, tol=...):\n",
    "    \"\"\"root = false_position(f, a, b, tol=...).\n",
    "    Finds a root of f(x) = 0 by the secant method.\n",
    "    \"\"\"\n",
    "    x1 = a\n",
    "    x2 = b\n",
    "    f1 = f(x1)\n",
    "    f2 = f(x2)\n",
    "    if f1 == 0:\n",
    "        return x1\n",
    "    if f2 == 0:\n",
    "        return x2\n",
    "    while abs(x2 - x1) > tol:\n",
    "        x3 = (f1 * x2 - f2 * x1) / (f1-f2)\n",
    "        f3 = f(x3)\n",
    "        if f3 == 0:\n",
    "            return x3\n",
    "        if f3 * f1 > 0:\n",
    "            x2 ,f2 = x3, f3\n",
    "        else:\n",
    "            x1 ,f1 = x3, f3\n",
    "    return x3"
   ]
  },
  {
   "cell_type": "markdown",
   "metadata": {},
   "source": [
    "### SciPy"
   ]
  },
  {
   "cell_type": "code",
   "execution_count": null,
   "metadata": {},
   "outputs": [],
   "source": [
    "from scipy.optimize import bisect, golden\n",
    "\n",
    "root1 = bisect(func, a, b, xtol=1e-6)\n",
    "xmin1 = golden(g, brack=(4.0, 5.0), tol=1e-6)"
   ]
  }
 ],
 "metadata": {
  "interpreter": {
   "hash": "edc1bf21e69f891261a36943f5833d87ed8060cb2112624a348d6396193c49a8"
  },
  "kernelspec": {
   "display_name": "Python 3 (ipykernel)",
   "language": "python",
   "name": "python3"
  },
  "language_info": {
   "codemirror_mode": {
    "name": "ipython",
    "version": 3
   },
   "file_extension": ".py",
   "mimetype": "text/x-python",
   "name": "python",
   "nbconvert_exporter": "python",
   "pygments_lexer": "ipython3",
   "version": "3.7.9"
  }
 },
 "nbformat": 4,
 "nbformat_minor": 2
}
