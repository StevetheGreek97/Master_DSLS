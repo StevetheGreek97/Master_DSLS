{
 "cells": [
  {
   "cell_type": "markdown",
   "id": "c8e9637c",
   "metadata": {},
   "source": [
    "## Numerical analysis"
   ]
  },
  {
   "cell_type": "code",
   "execution_count": 1,
   "id": "9c8da387",
   "metadata": {},
   "outputs": [],
   "source": [
    "import numpy as np\n",
    "import matplotlib.pyplot as plt"
   ]
  },
  {
   "cell_type": "markdown",
   "id": "83439cd0",
   "metadata": {},
   "source": [
    "## Lesson 1\n",
    "### Finds binary\n"
   ]
  },
  {
   "cell_type": "code",
   "execution_count": 2,
   "id": "e1fdba23",
   "metadata": {},
   "outputs": [
    {
     "name": "stdout",
     "output_type": "stream",
     "text": [
      "0011111111100000000000000000000000000000000000000000000000000000\n"
     ]
    }
   ],
   "source": [
    "my_num = 0.5\n",
    "import struct\n",
    "bits = ''.join(bin(byte).replace('0b', '').rjust(8, '0') for byte in struct.pack('!d', my_num))\n",
    "print(bits)"
   ]
  },
  {
   "cell_type": "code",
   "execution_count": 3,
   "id": "0b2576f6",
   "metadata": {},
   "outputs": [],
   "source": [
    "def split_bits(bit_64):\n",
    "    exp_bit = bit_64[1:12]\n",
    "    mantisa_bit = bit_64[12:]\n",
    "    \n",
    "    return exp_bit, mantisa_bit"
   ]
  },
  {
   "cell_type": "code",
   "execution_count": 4,
   "id": "16648b3d",
   "metadata": {},
   "outputs": [],
   "source": [
    "def exponent(exp_bits):\n",
    "    exp = 0\n",
    "    exp_bits = exp_bits\n",
    "    b = 2\n",
    "    count = 0\n",
    "    for i in exp_bits[::-1]:\n",
    "\n",
    "\n",
    "        exp += int(i) * (b**count)\n",
    "        count += 1\n",
    "\n",
    "\n",
    "    return 2**(exp - 1023)"
   ]
  },
  {
   "cell_type": "code",
   "execution_count": 5,
   "id": "24a8c3b9",
   "metadata": {},
   "outputs": [],
   "source": [
    "def mantisa(mantisa_bits):\n",
    "    mantisa_bits = mantisa_bits\n",
    "    mantisa = 1\n",
    "    count = 1\n",
    "\n",
    "    for i in mantisa_bits:\n",
    "\n",
    "        mantisa += int(i) * 2**(-count)\n",
    "        count += 1\n",
    "    return mantisa"
   ]
  },
  {
   "cell_type": "code",
   "execution_count": 6,
   "id": "c65f1552",
   "metadata": {},
   "outputs": [
    {
     "data": {
      "text/plain": [
       "0.5"
      ]
     },
     "execution_count": 6,
     "metadata": {},
     "output_type": "execute_result"
    }
   ],
   "source": [
    "def decimal_num(bit_64):\n",
    "    exp_bits,mantisa_bits =  split_bits(bit_64)\n",
    "    return exponent(exp_bits) * mantisa(mantisa_bits)\n",
    "\n",
    "decimal_num('0011111111100000000000000000000000000000000000000000000000000000')"
   ]
  },
  {
   "cell_type": "markdown",
   "id": "9af7eebb",
   "metadata": {},
   "source": [
    "### Derivatives\n",
    "\n",
    "if we decrease the magnitude of $h$ by a factor $n$, then the error of the `forward_derivative` and `backward_derivative` methods also decreases by a factor $n$, but the error of the `central_derivative` method decreases by a factor $n^2$. We say that the `forward_derivative` and `backward_derivative` methods have an error of order $\\mathcal{O}(h)$, whereas the `central_derivative` method has an error of order $\\mathcal{O}(h^2)$. \n",
    "\n",
    "For sufficiently small $h$, the `central_derivative` method will therefore tend to be preferable. However, keep in mind that when $h$ becomes too small, numerical round-off errors start to dominate."
   ]
  },
  {
   "cell_type": "code",
   "execution_count": 7,
   "id": "16eb21da",
   "metadata": {},
   "outputs": [],
   "source": [
    "def forward_derivative(f, x, h=0.1):\n",
    "    \"\"\"df = forward_derivative(f, x, h).\n",
    "    Calculates the forward difference approximation of the\n",
    "    function f(x).\n",
    "    \"\"\"\n",
    "    df = (f(x + h) - f(x)) / h\n",
    "    return df\n",
    "\n",
    "def backward_derivative(f, x, h=0.1):\n",
    "    \"\"\"df = forward_derivative(f, x, h).\n",
    "    Calculates the backward difference approximation of the\n",
    "    function f(x).\n",
    "    \"\"\"\n",
    "    df = (f(x) - f(x - h)) / h\n",
    "    return df\n",
    "\n",
    "\n",
    "def central_derivative(f, x, h=1e-8):\n",
    "    \"\"\"df = central_derivative(f, x, h).\n",
    "    Calculates the central difference approximation of the\n",
    "    function f(x).\n",
    "    \"\"\"\n",
    "    df = (f(x + h) - f(x - h)) / (2 * h)\n",
    "    return df"
   ]
  },
  {
   "cell_type": "code",
   "execution_count": 8,
   "id": "c20f9c60",
   "metadata": {},
   "outputs": [],
   "source": [
    "def central_derivative2(f, x, h= 1e-8 ):\n",
    "    \"\"\"df = central_derivative2(f, x, h).\n",
    "    Calculates the second-order derivative of the\n",
    "    function f(x).\n",
    "    \"\"\"\n",
    "    ddf = (f(x + h) - 2* f(x) + f(x - h) ) / (h * h)\n",
    "    return ddf\n",
    "\n",
    "def central_derivative3(f, x, h= 1e-8 ):# do not know if it is correct\n",
    "    \"\"\"df = central_derivative2(f, x, h).\n",
    "    Calculates the second-order derivative of the\n",
    "    function f(x).\n",
    "    \"\"\"\n",
    "    dddf = 6*(  f(x + h) - f(x) - central_derivative(f, x) - (1/2)*central_derivative2(f, x)*(h**2) ) / (h * h * h)\n",
    "    return dddf"
   ]
  },
  {
   "cell_type": "markdown",
   "id": "fefd5a8e",
   "metadata": {},
   "source": [
    "### Lesson 2: Integration"
   ]
  },
  {
   "cell_type": "markdown",
   "id": "34fe5768",
   "metadata": {},
   "source": [
    "### Trapezoid"
   ]
  },
  {
   "cell_type": "code",
   "execution_count": 9,
   "id": "369abe7e",
   "metadata": {},
   "outputs": [],
   "source": [
    "def trapezoid(f, a, b, n=1000):\n",
    "    \"\"\"df = trapezoid(f, a, b, n=...).\n",
    "    Calculates the definite integral of the function f(x)\n",
    "    from a to b using the composite trapezoidal rule with\n",
    "    n subdivisions (with default n=...).\n",
    "    \"\"\"\n",
    "    h = (b - a ) / n\n",
    "    I  = f(a) + f(b) / 2\n",
    "    for i in range(1, n-1):\n",
    "        xi = a + i * h \n",
    "        I += f(xi)\n",
    "    I *= h \n",
    "    return I "
   ]
  },
  {
   "cell_type": "code",
   "execution_count": 10,
   "id": "b4a63da1",
   "metadata": {},
   "outputs": [],
   "source": [
    "# Recurcive\n",
    "def trapezoid(f, a, b, tol=1e-8):\n",
    "    \"\"\"df = trapezoid(f, a, b, tol=...).\n",
    "    Calculates the definite integral of the function f(x)\n",
    "    from a to b using the recursive trapezoidal rule with\n",
    "    an absolute tolerance tol (with default 1e-8).\n",
    "    \"\"\"\n",
    "    h = (b - a) # Interval size\n",
    "    panels = 1 # No. of intervals\n",
    "    I_old = (f(a)+f(b)) * h/2 \n",
    "    \n",
    "    while True:\n",
    "        h /= 2\n",
    "        panels *= 2\n",
    "\n",
    "        I_new = 0.5 * I_old + sum(f(a +i*h) for i in range(1, panels, 2)) * h\n",
    "        \n",
    "        \n",
    "        if abs(I_new - I_old) < tol:\n",
    "            return I_new\n",
    "        else:\n",
    "            I_old = I_new"
   ]
  },
  {
   "cell_type": "markdown",
   "id": "1f882ddb",
   "metadata": {},
   "source": [
    "### Simpson"
   ]
  },
  {
   "cell_type": "code",
   "execution_count": 11,
   "id": "0d075857",
   "metadata": {},
   "outputs": [],
   "source": [
    "def simpson(f, a, b, n=100):\n",
    "    \"\"\"df = simpson(f, a, b, n=...).\n",
    "    Calculates the definite integral of the function f(x)\n",
    "    from a to b using the composite Simpson's\n",
    "    rule with n subdivisions (with default n=...).\n",
    "    \"\"\"\n",
    "    \n",
    "    n += n % 2 # force to be even\n",
    "    \n",
    "    h = (b -a) / n \n",
    "    \n",
    "    I = f(a) + f(b)\n",
    "    \n",
    "    for i in range(1, n, 2):\n",
    "        xi = a + i*h\n",
    "        I += 4*f(xi)\n",
    "        \n",
    "    for i in range(2, n, 2):\n",
    "        xi = a + i*h\n",
    "        I += 2*f(xi)\n",
    "    I *= h/3\n",
    "    \n",
    "    return I"
   ]
  },
  {
   "cell_type": "markdown",
   "id": "b8c673ea",
   "metadata": {},
   "source": [
    "### Romberg"
   ]
  },
  {
   "cell_type": "code",
   "execution_count": 12,
   "id": "0c9e56d8",
   "metadata": {},
   "outputs": [],
   "source": [
    "def romberg(f, a, b, tol = 1e-8):\n",
    "    \"\"\"df = simpson(f, a, b, tol=...).\n",
    "    Calculates the definite integral of the function f(x)\n",
    "    from a to b using Romberg integration based on the\n",
    "    trapezoidal rule until a specified tolerance tol is\n",
    "    reached (with default tol=...).\n",
    "    \"\"\"\n",
    "    h = (b - a) # Interval size\n",
    "    n = 1 # No. of intervals\n",
    "    Rold = [ (f(a)+f(b)) * h/2 ]\n",
    "    \n",
    "    while True:\n",
    "        h /= 2\n",
    "        n *= 2 \n",
    "        Rnew = [ 0.5 * Rold[0] + sum(f(a +o*h) for o in range(1, n, 2)) * h  ]\n",
    "        factor = 1\n",
    "        for R in Rold:\n",
    "            factor *= 4\n",
    "            Rnew.append( (factor*Rnew[-1] - R) / (factor-1) )\n",
    "            \n",
    "        if abs(Rnew[-1] - Rold[-1]) < tol:\n",
    "            return Rnew[-1]\n",
    "        Rold = Rnew"
   ]
  },
  {
   "cell_type": "markdown",
   "id": "1cf1bf53",
   "metadata": {},
   "source": [
    "#### by hand"
   ]
  },
  {
   "cell_type": "code",
   "execution_count": 57,
   "id": "5399065a",
   "metadata": {},
   "outputs": [
    {
     "name": "stdout",
     "output_type": "stream",
     "text": [
      "0.5\n",
      "0.375\n",
      "0.34375\n",
      "0.3359375\n",
      "0.3333333333333333\n",
      "0.3333333333333333\n",
      "0.3333333333333333\n",
      "0.3333333333333333\n",
      "0.3333333333333333\n",
      "0.3333333333333333\n"
     ]
    }
   ],
   "source": [
    "def f(x):\n",
    "    return x**2 \n",
    "\n",
    "R00 = (f(0) + f(1)) * 1/2\n",
    "print(R00)\n",
    "R10 = (1/2)*R00 + f(1/2)* (1/2)\n",
    "print(R10)\n",
    "R20 = (1/2)*R10 +  (f(1/4) + f(3/4)) *(1/4)\n",
    "print(R20)\n",
    "R30 = (1/2)*R20 + (f(1/8) + f(3/8) + f(5/8) + f(7/8)) * 1/8\n",
    "print(R30)\n",
    "R11 = (4*R10 -R00)/ 3\n",
    "print(R11)\n",
    "R21 = (4*R20 -R10)/ 3\n",
    "print(R21)\n",
    "R31 = (4*R30 -R20)/ 3\n",
    "print(R31)\n",
    "R22 = (16*R21 -R11)/ 15\n",
    "print(R22)\n",
    "R32 = (16*R31 -R21)/ 15\n",
    "print(R32)\n",
    "R33 = (64*R32 -R22)/ 63\n",
    "print(R33)"
   ]
  },
  {
   "cell_type": "markdown",
   "id": "21090e45",
   "metadata": {},
   "source": [
    "# Lesson 3\n",
    "### Finds all the roots"
   ]
  },
  {
   "cell_type": "code",
   "execution_count": 13,
   "id": "eb8dc4ff",
   "metadata": {},
   "outputs": [],
   "source": [
    "def rootsearch(f, a, b, steps):\n",
    "    \"\"\"lo, hi = rootsearch(f, a, b, steps).\n",
    "    Searches the interval (a,b) in a number of steps for\n",
    "    the bounds (lo,hi) of the roots of f(x).\n",
    "    \"\"\"\n",
    "    h = (b - a) / steps\n",
    "    f_lo = f(a)\n",
    "    for step in range(steps):\n",
    "        lo = a + step * h\n",
    "        hi = lo + h\n",
    "        f_hi = f(hi)\n",
    "        if f_lo * f_hi <= 0.0:\n",
    "            yield lo, hi\n",
    "        f_lo = f_hi"
   ]
  },
  {
   "cell_type": "markdown",
   "id": "ad73797c",
   "metadata": {},
   "source": [
    "### Close up:\n",
    " ### Regula falsi"
   ]
  },
  {
   "cell_type": "code",
   "execution_count": 14,
   "id": "c66c61a2",
   "metadata": {},
   "outputs": [],
   "source": [
    "def regula_falsi(f, a, b, tol=1e-8, maxiter = 50):\n",
    "    \"\"\"\n",
    "    \"\"\"\n",
    "    fa = f(a)\n",
    "    if fa == 0:\n",
    "        return a, fa\n",
    "    \n",
    "    fb = f(b)\n",
    "    if fb == 0:\n",
    "        return b, fb\n",
    "    \n",
    "    if fa * fb > 0.0:\n",
    "        raise ValueError('Root is not bracketed')\n",
    "    # as long as difference between my x values is bigger than the tolerance:\n",
    "    \n",
    "    while maxiter > 0:\n",
    "        maxiter -= 1\n",
    "        #calculate an new xn value\n",
    "        xn = (a * fb - b * fa) / (fb - fa)\n",
    "        fxn = f(xn)\n",
    "        #print(fa, fxn, fb)\n",
    "\n",
    "        if fxn == 0:\n",
    "            return xn, fxn\n",
    "        \n",
    "        elif abs(fxn) < tol:\n",
    "            return xn, fxn\n",
    "        \n",
    "        else:\n",
    "            if (fxn * fa) > 0:\n",
    "                a, fa = xn, fxn\n",
    "\n",
    "            elif (fxn * fb) > 0:\n",
    "                b, fb = xn, fxn\n",
    "\n",
    "            else:\n",
    "                print('bad')\n",
    "    print('no root found with given maximal number of iterations')"
   ]
  },
  {
   "cell_type": "markdown",
   "id": "75105378",
   "metadata": {},
   "source": [
    "### Ridder"
   ]
  },
  {
   "cell_type": "code",
   "execution_count": 15,
   "id": "0b93bb4a",
   "metadata": {},
   "outputs": [],
   "source": [
    "\n",
    "def ridder(f,a,b,tol=1.0e-9):\n",
    "    \n",
    "    lo, f_lo = a, f(a)\n",
    "    if f_lo == 0.0:\n",
    "        return lo\n",
    "    hi, f_hi = b, f(b)\n",
    "    if f_hi == 0.0:\n",
    "        return hi\n",
    "    if f_lo * f_hi > 0.0:\n",
    "        raise ValueError('Root is not bracketed')\n",
    "        \n",
    "    while abs(hi - lo) > tol:\n",
    "        mid = (hi + lo) / 2.0\n",
    "        f_mid = f(mid)\n",
    "        \n",
    "        s= np.sqrt(f_mid**2 - f_lo*f_hi)\n",
    "        if s == 0.0:\n",
    "            return None\n",
    "        dx = (mid - lo)*f_mid/s\n",
    "        if (f_lo - f_hi) < 0.0:\n",
    "            dx = -dx\n",
    "        x = mid + dx\n",
    "        fx = f(x)\n",
    "        if (f_mid * fx > 0):\n",
    "            if (f_lo * fx < 0):\n",
    "                hi = x\n",
    "                f_hi = f(hi)\n",
    "            else:\n",
    "                lo = x\n",
    "                f_lo = f(lo)\n",
    "        else:\n",
    "            lo, hi, f_lo, f_hi = mid, x, f_mid, fx\n",
    "    return x"
   ]
  },
  {
   "cell_type": "markdown",
   "id": "d0dfaf1d",
   "metadata": {},
   "source": [
    "### Bisection"
   ]
  },
  {
   "cell_type": "code",
   "execution_count": 16,
   "id": "549796dd",
   "metadata": {},
   "outputs": [],
   "source": [
    "def bisection(f, a, b, tol=1e-4):\n",
    "    \"\"\"root = bisection(f, a, b, tol=...).\n",
    "    Finds a root of f(x) = 0 by bisection.\n",
    "    The root must be bracketed in (a,b).\n",
    "    \"\"\"\n",
    "    count = 0\n",
    "    lo, f_lo = a, f(a)\n",
    "    if f_lo == 0.0:\n",
    "        return lo, f_lo\n",
    "    hi, f_hi = b, f(b)\n",
    "    if f_hi == 0.0:\n",
    "        return hi, f_hi\n",
    "    if f_lo * f_hi > 0.0:\n",
    "        raise ValueError('Root is not bracketed')\n",
    "    while abs(hi - lo) > tol:\n",
    "#         count += 1\n",
    "        mid = (hi + lo) / 2.0\n",
    "        f_mid = f(mid)\n",
    "        if f_mid == 0.0:\n",
    "            return mid, f_mid\n",
    "        if (f_mid * f_hi > 0):\n",
    "            hi = mid\n",
    "            f_hi = f_mid\n",
    "        else:\n",
    "            lo = mid\n",
    "            f_lo = f_mid\n",
    "#     print(count) \n",
    "    return (lo + hi) / 2.0"
   ]
  },
  {
   "cell_type": "markdown",
   "id": "d5a87405",
   "metadata": {},
   "source": [
    "### Secant"
   ]
  },
  {
   "cell_type": "code",
   "execution_count": 17,
   "id": "0950e03d",
   "metadata": {},
   "outputs": [],
   "source": [
    "def secant(f, a, b, tol= 1e-8):\n",
    "    \"\"\"root = secant(f, a, b, tol=...).\n",
    "    Finds a root of f(x) = 0 by the secant method.\n",
    "    \"\"\"\n",
    "    x1 = a\n",
    "    f1 = f(x1)\n",
    "         \n",
    "    if f1 == 0:\n",
    "          return x1\n",
    "        \n",
    "    x2 = b\n",
    "    f2 = f(x2) \n",
    "    \n",
    "    if f2 == 0:\n",
    "          return x2\n",
    "    while abs(x2 - x1) > tol:\n",
    "        x3 = (f1 *x2 - f2 *x1) / (f1 - f2)\n",
    "        f3= f(x3)\n",
    "        if f3 == 0:\n",
    "            return x3\n",
    "        \n",
    "        x1 = x2\n",
    "        x2 = x3\n",
    "        f1 = f2\n",
    "        f2 = f3\n",
    "    return x2"
   ]
  },
  {
   "cell_type": "markdown",
   "id": "87be028c",
   "metadata": {},
   "source": [
    "### Newton raphson"
   ]
  },
  {
   "cell_type": "code",
   "execution_count": 18,
   "id": "d402bc70",
   "metadata": {},
   "outputs": [],
   "source": [
    "# With derivative\n",
    "\n",
    "def newton_raphson(f, df, a, b, tol=...):\n",
    "    \"\"\"root = newton_raphson(f, df, a, b, tol=....).\n",
    "    Finds a root of f(x) = 0 by combining the Newton-Raphson\n",
    "    method with bisection. The root must be bracketed in (a,b).\n",
    "    Calls user-supplied functions f(x) and its derivative df(x).\n",
    "    \"\"\"\n",
    "\n",
    "    x0 = (a + b) / 2\n",
    "    f0 = f(x0)\n",
    "    df0 = df(x0)\n",
    "    while True:\n",
    "        delta = f0/df0\n",
    "        x1 = x0 - delta\n",
    "        if abs(x1- x0) < tol:\n",
    "            return x1\n",
    "        x0 = x1\n",
    "        f0 = f(x0)\n",
    "        df0 = df(x0)"
   ]
  },
  {
   "cell_type": "code",
   "execution_count": 19,
   "id": "3cba6be0",
   "metadata": {},
   "outputs": [],
   "source": [
    "#without the derivative\n",
    "def newton_raphson_der(f, a, b, tol=1e-4):\n",
    "    \"\"\"root = newton_raphson(f, df, a, b, tol=....).\n",
    "    Finds a root of f(x) = 0 by combining the Newton-Raphson\n",
    "    method with bisection. The root must be bracketed in (a,b).\n",
    "    Calls user-supplied functions f(x) and its derivative df(x).\n",
    "    \"\"\"\n",
    "\n",
    "    x0 = (a + b) / 2\n",
    "    f0 = f(x0)\n",
    "    df0 = central_derivative(f, x0, h=1e-6)\n",
    "    while True:\n",
    "        delta = f0/df0\n",
    "        x1 = x0 - delta\n",
    "        if abs(x1- x0) < tol:\n",
    "            return x1\n",
    "        x0 = x1\n",
    "        f0 = f(x0)\n",
    "        df0 = central_derivative(f, x0, h=1e-6)"
   ]
  },
  {
   "cell_type": "markdown",
   "id": "f3d429e8",
   "metadata": {},
   "source": [
    "### newton_raphson_bisection"
   ]
  },
  {
   "cell_type": "code",
   "execution_count": 20,
   "id": "d75b2a48",
   "metadata": {},
   "outputs": [],
   "source": [
    "def newton_raphson_bisection(f, a, b, tol=1e-8, maxiter=5):\n",
    "    \"\"\"root = newton_raphson(f, df, a, b, tol=....).\n",
    "    Finds a root of f(x) = 0 by combining the Newton-Raphson\n",
    "    method with bisection. The root must be bracketed in (a,b).\n",
    "    Calls user-supplied functions f(x) and its derivative df(x).\n",
    "    \"\"\"\n",
    "    x0 = (a+b) / 2\n",
    "    f0 = f(x0)\n",
    "    df0 = central_derivative(f, x0, h=1e-6)\n",
    "    while (maxiter>0):\n",
    "        maxiter-=1\n",
    "        delta = f0 /df0\n",
    "        x1 = x0 - delta\n",
    "        if abs(delta) < tol:\n",
    "            return x1\n",
    "        x0 = x1\n",
    "        f0 = f(x0)\n",
    "        df0 = central_derivative(f, x0, h=1e-6)        # check whether x1 is inside or outside the brackets:\n",
    "#         print(x0,f0,df0)0)"
   ]
  },
  {
   "cell_type": "markdown",
   "id": "2ef11adf",
   "metadata": {},
   "source": [
    "##  Lesson 4: Optimization \n",
    "\n",
    "#### maxima & minima"
   ]
  },
  {
   "cell_type": "code",
   "execution_count": 21,
   "id": "4f7b2414",
   "metadata": {},
   "outputs": [],
   "source": [
    "def minimumsearch(f, a, b, steps):\n",
    "    \"\"\"lo, hi = minimumsearch(f, a, b, steps).\n",
    "    Searches the interval (a,b) in a number of steps for\n",
    "    the bounds (lo,hi) of the minima of f(x).\n",
    "    \"\"\"\n",
    "    if steps < 2:\n",
    "        steps = 2\n",
    "    h = (b- a) / steps\n",
    "    lo = a\n",
    "    md = a + h \n",
    "    f_lo = f(lo)\n",
    "    f_md = f(md)\n",
    "    for i in range(2, steps +1):\n",
    "        hi = a + h * i\n",
    "        f_hi = f(hi)\n",
    "        \n",
    "        if f_md < f_lo and f_md <= f_hi:\n",
    "            yield lo, hi\n",
    "            \n",
    "        lo, f_lo = md, f_md    \n",
    "        md, f_md= hi, f_hi\n",
    "        "
   ]
  },
  {
   "cell_type": "code",
   "execution_count": 22,
   "id": "dfc2e55e",
   "metadata": {},
   "outputs": [],
   "source": [
    "def maximumsearch(f, a, b, steps):\n",
    "    \"\"\"lo, hi = minimumsearch(f, a, b, steps).\n",
    "    Searches the interval (a,b) in a number of steps for\n",
    "    the bounds (lo,hi) of the minima of f(x).\n",
    "    \"\"\"\n",
    "    if steps < 2:\n",
    "        steps = 2\n",
    "    h = (b- a) / steps\n",
    "    lo = a\n",
    "    md = a + h \n",
    "    f_lo = f(lo)\n",
    "    f_md = f(md)\n",
    "    for i in range(2, steps +1):\n",
    "        hi = a + h * i\n",
    "        f_hi = f(hi)\n",
    "        \n",
    "        if f_md > f_lo and f_md >= f_hi:  # if operant '>' algo finds maxima else finds minimum\n",
    "            yield lo, hi\n",
    "            \n",
    "        lo, f_lo = md, f_md    \n",
    "        md, f_md= hi, f_hi"
   ]
  },
  {
   "cell_type": "markdown",
   "id": "37ae34ed",
   "metadata": {},
   "source": [
    "### Close up:\n",
    "\n",
    "### Golden search"
   ]
  },
  {
   "cell_type": "code",
   "execution_count": 23,
   "id": "d919e38f",
   "metadata": {},
   "outputs": [],
   "source": [
    "from math import sqrt\n",
    "# Slower than bisection\n",
    "def golden_search(f, a, b, tol=1e-8):\n",
    "    \"\"\"minimum = golden_search(f, a, b, tol=...).\n",
    "    Finds a minimum of the function f using golden\n",
    "    section search, starting from bracketing values\n",
    "    a and b and ending when |b-a| < tol.\n",
    "    \"\"\"\n",
    "    factor = (3.0 - sqrt(5.0)) / 2.0\n",
    "\n",
    "    x1 = a + factor * (b - a)\n",
    "    x2 = b - factor * (b - a)\n",
    "    f1 = f(x1)\n",
    "    f2 = f(x2)\n",
    "    while abs(b-a) > tol:\n",
    "        if f1 < f2: # if operant '>' algo finds maxima else finds minimum\n",
    "            b = x2\n",
    "            x2 = x1\n",
    "            f2 = f1\n",
    "            x1 = a + factor * (b - a)\n",
    "            f1 = f(x1)\n",
    "        else:\n",
    "            a = x1\n",
    "            x1 = x2\n",
    "            f1 = f2\n",
    "            x2 =  b - factor * (b - a)\n",
    "            f2 = f(x2)\n",
    "            \n",
    "            \n",
    "    return (a + b) / 2.0"
   ]
  },
  {
   "cell_type": "markdown",
   "id": "5b8bca80",
   "metadata": {},
   "source": [
    "### Gradient search"
   ]
  },
  {
   "cell_type": "code",
   "execution_count": 24,
   "id": "85edba7f",
   "metadata": {},
   "outputs": [],
   "source": [
    "# With the derivative\n",
    "def gradient_search(df, x, gamma=0.1, tol=1e-8):\n",
    "    \"\"\"minimum = gradient_search(df, x, gamma=..., tol=...).\n",
    "    Finds a minimum of the function f with derivative df\n",
    "    using gradient descent with learning rate gamma,\n",
    "    starting from x and ending when |df| < tol.\n",
    "    \"\"\"\n",
    "    dof = df(x)\n",
    "    new_x = x - gamma*dof\n",
    "    \n",
    "    while abs(dof) > tol:\n",
    "        x = new_x\n",
    "        dof = df(x)\n",
    "        new_x = x - gamma*dof # if operant '+' it finds maxima\n",
    "    return new_x"
   ]
  },
  {
   "cell_type": "code",
   "execution_count": 25,
   "id": "7958f264",
   "metadata": {},
   "outputs": [],
   "source": [
    "#Without the derivative\n",
    "def gradient_search_der(f, x, gamma=0.1, tol=1e-8):\n",
    "    \"\"\"minimum = gradient_search(df, x, gamma=..., tol=...).\n",
    "    Finds a minimum of the function f with derivative df\n",
    "    using gradient descent with learning rate gamma,\n",
    "    starting from x and ending when |df| < tol.\n",
    "    \"\"\"\n",
    "    df = central_derivative(f, x)\n",
    "    new_x = x - gamma*df\n",
    "    \n",
    "    while abs(df) > tol:\n",
    "        x = new_x\n",
    "        df = central_derivative(f, x)\n",
    "        new_x = x - gamma*df\n",
    "    return new_x"
   ]
  },
  {
   "cell_type": "markdown",
   "id": "4c614cdc",
   "metadata": {},
   "source": [
    "### Examples:"
   ]
  },
  {
   "cell_type": "code",
   "execution_count": 26,
   "id": "411de9fc",
   "metadata": {},
   "outputs": [
    {
     "data": {
      "image/png": "[encoded data removed]",
      "text/plain": [
       "<Figure size 432x288 with 1 Axes>"
      ]
     },
     "metadata": {
      "needs_background": "light"
     },
     "output_type": "display_data"
    }
   ],
   "source": [
    "def f(x):\n",
    "    return x**3 - x\n",
    "x = np.linspace(-1.5, 1.5, 200)\n",
    "plt.axhline(0, color = 'k')\n",
    "plt.axvline(0, color = 'k')\n",
    "\n",
    "plt.plot(x , f(x), '-b')\n",
    "\n",
    "# plt.axis([-6, 6, -6, 1])\n",
    "for (lo, hi) in list(minimumsearch(f, -1.5, 1.5, 1000)):\n",
    "    xmin = golden_search(f,lo, hi, 1e-8)\n",
    "    ymin = f(xmin)\n",
    "    plt.plot(xmin, ymin, 'or')\n",
    "    plt.text(xmin, ymin, f'({xmin:.3f}, {ymin:.3f})', verticalalignment='top')\n",
    "\n",
    "for (lo, hi) in list(rootsearch(f, -1.5, 1.5, 10000)):\n",
    "    xmin = ridder(f,lo, hi, 1e-8)\n",
    "    ymin = f(xmin)\n",
    "    plt.plot(xmin, ymin, '.y')\n",
    "    plt.text(xmin, ymin, f'({xmin:.3f}, {ymin:.3f})', verticalalignment='top')\n",
    "    \n",
    "\n",
    "plt.show()"
   ]
  },
  {
   "cell_type": "markdown",
   "id": "f3a43c94",
   "metadata": {},
   "source": [
    "### Find best fit"
   ]
  },
  {
   "cell_type": "code",
   "execution_count": 27,
   "id": "c334557b",
   "metadata": {},
   "outputs": [],
   "source": [
    "import numpy as np\n",
    "import matplotlib.pyplot as plt\n",
    "t = np.linspace(0, 10, 100)\n",
    "y = np.sin(t) + np.random.randn(100) / 10\n"
   ]
  },
  {
   "cell_type": "code",
   "execution_count": 28,
   "id": "93a38d26",
   "metadata": {},
   "outputs": [],
   "source": [
    "def y_f(t, f):\n",
    "    return np.sin(f*2* np.pi*t)"
   ]
  },
  {
   "cell_type": "code",
   "execution_count": 29,
   "id": "3d1fb153",
   "metadata": {},
   "outputs": [],
   "source": [
    "##### Use this func to plot the MSE JUST FOR PLOTTING\n",
    "def MSE_PLOT(f):\n",
    "    y_1 = []\n",
    "    for fi in f:\n",
    "        y_1.append((np.sum( (y - y_f(t, fi))**2 )) / 100)\n",
    "    return y_1\n",
    "f = np.linspace(-2,2, 500)"
   ]
  },
  {
   "cell_type": "code",
   "execution_count": 30,
   "id": "485f4652",
   "metadata": {},
   "outputs": [
    {
     "data": {
      "image/png": "[encoded data removed]",
      "text/plain": [
       "<Figure size 432x288 with 1 Axes>"
      ]
     },
     "metadata": {
      "needs_background": "light"
     },
     "output_type": "display_data"
    }
   ],
   "source": [
    "plt.plot(f, MSE_PLOT(f))\n",
    "\n",
    "plt.axhline(y=0.0, linewidth=1, color='k')\n",
    "plt.axis([-0.5, 0.5, -0.1, 2])\n",
    "plt.show()"
   ]
  },
  {
   "cell_type": "code",
   "execution_count": 31,
   "id": "563c825c",
   "metadata": {},
   "outputs": [],
   "source": [
    "def MSE(f):\n",
    "    return np.sum( (y - y_f(t, f))**2 ) / 100\n",
    "\n",
    "f = np.linspace(0.1,0.2, 100)"
   ]
  },
  {
   "cell_type": "code",
   "execution_count": 32,
   "id": "42a13074",
   "metadata": {},
   "outputs": [
    {
     "data": {
      "image/png": "[encoded data removed]",
      "text/plain": [
       "<Figure size 432x288 with 1 Axes>"
      ]
     },
     "metadata": {
      "needs_background": "light"
     },
     "output_type": "display_data"
    },
    {
     "name": "stdout",
     "output_type": "stream",
     "text": [
      "f: 0.15914967514789458\n"
     ]
    }
   ],
   "source": [
    "plt.plot(t, y, 'x')\n",
    "\n",
    "for lo, hi in list(minimumsearch(MSE, 0.1, 0.2, 10)):\n",
    "    f_0 = gradient_search_der(MSE,(lo+ hi)/2, 0.00001,  1e-8)\n",
    "    \n",
    "    plt.plot(t,  y_f(t, f_0)  )\n",
    "plt.axhline(y=0.0, linewidth=1, color='k')\n",
    "plt.show()\n",
    "print('f:',gradient_search_der(MSE,(lo+hi)/2,0.00001,  1e-8))\n",
    "\n",
    "    "
   ]
  },
  {
   "cell_type": "markdown",
   "id": "fa468000",
   "metadata": {},
   "source": [
    "## Lesson 5: Differential equesion\n",
    "\n",
    "### Euler"
   ]
  },
  {
   "cell_type": "code",
   "execution_count": 33,
   "id": "03671471",
   "metadata": {},
   "outputs": [],
   "source": [
    "def euler(f, y0, x0, x1, steps):\n",
    "    \"\"\"xs, ys = euler(f, y0, x0, x1, steps).\n",
    "    Euler's method for solving the\n",
    "    initial value problem {y}' = {f(x,{y})},\n",
    "    where {y} = {y[0],y[1],...,y[n-1]}.\n",
    "    x0, y0 = initial conditions\n",
    "    x1     = terminal value of x\n",
    "    steps  = number of integration steps\n",
    "    f      = user-supplied function that returns the\n",
    "             array f(x,y) = {y’[0],y’[1],...,y’[n-1]}.\n",
    "    \"\"\"\n",
    "    h = (x1 - x0) / steps\n",
    "    xs = np.linspace(x0, x1, steps + 1)\n",
    "    y = y0\n",
    "    ys =[y]\n",
    "    for x in xs[:-1]:\n",
    "        y = y + h * f(x, y)\n",
    "        ys.append(y)\n",
    "    return xs, ys"
   ]
  },
  {
   "cell_type": "markdown",
   "id": "c1bf3f34",
   "metadata": {},
   "source": [
    "### Heun"
   ]
  },
  {
   "cell_type": "code",
   "execution_count": 34,
   "id": "5d78f342",
   "metadata": {},
   "outputs": [],
   "source": [
    "def heun(f, y0, x0, x1, steps):\n",
    "    \"\"\"xs, ys = heun(f, y0, x0, x1, steps).\n",
    "    Heun's method for solving the\n",
    "    initial value problem {y}' = {f(x,{y})},\n",
    "    where {y} = {y[0],y[1],...,y[n-1]}.\n",
    "    x0, y0 = initial conditions\n",
    "    x1     = terminal value of x\n",
    "    steps  = number of integration steps\n",
    "    f      = user-supplied function that returns the\n",
    "             array f(x,y) = {y’[0],y’[1],...,y’[n-1]}.\n",
    "    \"\"\"\n",
    "    h = (x1 - x0) / steps\n",
    "    xs = np.linspace(x0, x1, steps + 1)\n",
    "    y = y0\n",
    "    ys =[y]\n",
    "    for x in xs[:-1]:\n",
    "        k1 = h *  f(x, y)\n",
    "        k2 = h * f(x + h, y + k1 )\n",
    "        y = y +  0.5 * (k1 + k2)\n",
    "        ys.append(y)\n",
    "    return  xs, ys"
   ]
  },
  {
   "cell_type": "markdown",
   "id": "b4f11f5b",
   "metadata": {},
   "source": [
    "### Kutta"
   ]
  },
  {
   "cell_type": "code",
   "execution_count": 35,
   "id": "6a43e545",
   "metadata": {},
   "outputs": [],
   "source": [
    "def Kutta(f, y0, x0, x1, steps):\n",
    "    \n",
    "    h = (x1 - x0) / steps\n",
    "    xs = np.linspace(x0, x1, steps + 1)\n",
    "    y = y0\n",
    "    ys =[y]\n",
    "    for x in xs[:-1]:\n",
    "        k0 = f(x, y)\n",
    "        k1 = f(x + (h/2) , y + (h/2)*k0)\n",
    "        k2 = f(x + (h/2) , y + (-h)*k0 + 2*h*k1 )\n",
    "        y = y + (h*(k0 + 4*k1 + k2))/ 6\n",
    "        ys.append(y)\n",
    "    return  xs, ys "
   ]
  },
  {
   "cell_type": "markdown",
   "id": "f1473dea",
   "metadata": {},
   "source": [
    "### Runge Kutta"
   ]
  },
  {
   "cell_type": "code",
   "execution_count": 36,
   "id": "b9491e46",
   "metadata": {},
   "outputs": [],
   "source": [
    "def runge_kutta(f, y0, x0, x1, steps):\n",
    "    \"\"\"xs, ys = runge_kutta(f, y0, x0, x1, steps).\n",
    "    4th-order Runge-Kutta method for solving the\n",
    "    initial value problem {y}' = {f(x,{y})},\n",
    "    where {y} = {y[0],y[1],...,y[n-1]}.\n",
    "    x0, y0 = initial conditions\n",
    "    x1     = terminal value of x\n",
    "    steps  = number of integration steps\n",
    "    f      = user-supplied function that returns the\n",
    "             array f(x,y) = {y’[0],y’[1],...,y’[n-1]}.\n",
    "    \"\"\"\n",
    "    h = (x1 - x0) / steps\n",
    "    xs = np.linspace(x0, x1, steps + 1)\n",
    "    y = y0\n",
    "    ys =[y]\n",
    "    for x in xs[:-1]:\n",
    "        #Initial calculation\n",
    "        k0 = h * f(x, y)\n",
    "        # Middle calculations\n",
    "        k1 = h * f(x + 0.5 * h, y + 0.5 *k0)\n",
    "        k2 = h * f(x + 0.5 * h, y + 0.5 *k1)\n",
    "        # End calculation\n",
    "        k3 = h * f(x +h, y + k2)\n",
    "        \n",
    "        \n",
    "        y = y + (k0 + 2.0 * k1 + 2.0 * k2 +k3) / 6\n",
    "        ys.append(y)\n",
    "    return  xs, ys"
   ]
  },
  {
   "cell_type": "markdown",
   "id": "c0e78ab1",
   "metadata": {},
   "source": [
    "### Butcher"
   ]
  },
  {
   "cell_type": "code",
   "execution_count": 37,
   "id": "2880c294",
   "metadata": {},
   "outputs": [],
   "source": [
    "def Butcher(f, y0, x0, x1, steps):\n",
    "    h = (x1 - x0) / steps\n",
    "    xs = np.linspace(x0, x1, steps + 1)\n",
    "    y = y0\n",
    "    ys =[y]\n",
    "    for x in xs[:-1]:\n",
    "        k1 = f(x, y)\n",
    "        k2 = f(x + (h/4), y + (h/4)*k1        )\n",
    "        k3 = f(x + (h/4), y + (h/8)*(k1 + k2) ) \n",
    "        k4 = f(x + (h/2), y + (-h/2)*k2 + k3*h  )\n",
    "        k5 = f(x + ((12*h)/16), y + ((3*h)/16)*k1 + ((9*h)/16)*k4      )\n",
    "        k6 = f(x + h, y +h*((-3/7)*k1  + (2/7)*k2 + (12/7)*k3 + (-12/7)*k4 + (8/7)*k5))\n",
    "        \n",
    "        y = y + (h*(7*k1 + 32*k3 + 12*k4 + 32*k5 + 7*k6))/90\n",
    "        ys.append(y)\n",
    "    return  xs, ys "
   ]
  },
  {
   "cell_type": "markdown",
   "id": "bc653724",
   "metadata": {},
   "source": [
    "### Midpoint"
   ]
  },
  {
   "cell_type": "code",
   "execution_count": 38,
   "id": "a63a5343",
   "metadata": {},
   "outputs": [],
   "source": [
    "def midpoint(f, y0, x0, x1, steps):\n",
    "    h = (x1 - x0) / steps\n",
    "    xs = np.linspace(x0, x1, steps + 1)\n",
    "    y = y0\n",
    "    ys =[y]\n",
    "    for x in xs[:-1]:\n",
    "        k1 = f(x, y)\n",
    "        k2 = f(x + (h/2), y + (h/2)*k1)\n",
    "        \n",
    "        y = y + h*(k2)\n",
    "        ys.append(y)\n",
    "    return  xs, ys\n",
    "    "
   ]
  },
  {
   "cell_type": "markdown",
   "id": "8dc8135d",
   "metadata": {},
   "source": [
    "### SSPRK3"
   ]
  },
  {
   "cell_type": "code",
   "execution_count": 39,
   "id": "f3c7f881",
   "metadata": {},
   "outputs": [],
   "source": [
    "def SSPRK3(f, y0, x0, x1, steps):\n",
    "    \n",
    "    h = (x1 - x0) / steps\n",
    "    xs = np.linspace(x0, x1, steps + 1)\n",
    "    y = y0\n",
    "    ys =[y]\n",
    "    for x in xs[:-1]:\n",
    "        k0 = f(x, y)\n",
    "        k1 = f(x +h, y + k0*h)\n",
    "        k2 = f(x +(h/2), y + (h/4)*h)\n",
    "        y = y + (h*(k0 + k1 + 4*k2))/ 6\n",
    "        ys.append(y)\n",
    "    return  xs, ys "
   ]
  },
  {
   "cell_type": "markdown",
   "id": "dcaf6d82",
   "metadata": {},
   "source": [
    "### SSPRK4"
   ]
  },
  {
   "cell_type": "code",
   "execution_count": 40,
   "id": "de7b6252",
   "metadata": {},
   "outputs": [],
   "source": [
    "def SSPRK4(f, y0, x0, x1, steps):\n",
    "    \n",
    "    h = (x1 - x0) / steps\n",
    "    xs = np.linspace(x0, x1, steps + 1)\n",
    "    y = y0\n",
    "    ys =[y]\n",
    "    for x in xs[:-1]:\n",
    "\n",
    "        k1 = f(x, y)\n",
    "        k2 = f(x + (h/2), y + (h/2)*k1             )\n",
    "        k3 = f(x +  h,    y + (h/2)*(k1 + k2)      )\n",
    "        k4 = f(x + (h/2), y + (h/6)*(k1 + k2 + k3) )\n",
    "        \n",
    "        \n",
    "        y = y + (h*(k1 + k2 + k3 +3.0*k4))/ 6\n",
    "        ys.append(y)\n",
    "    return  xs, ys"
   ]
  },
  {
   "cell_type": "markdown",
   "id": "7e8b2578",
   "metadata": {},
   "source": [
    "### 3/8-RULE"
   ]
  },
  {
   "cell_type": "code",
   "execution_count": 41,
   "id": "9cdfa974",
   "metadata": {},
   "outputs": [],
   "source": [
    "def three_eight_rule(f, y0, x0, x1, steps):\n",
    "    \n",
    "    h = (x1 - x0) / steps\n",
    "    xs = np.linspace(x0, x1, steps + 1)\n",
    "    y = y0\n",
    "    ys =[y]\n",
    "    for x in xs[:-1]:\n",
    "        #Initial calculation\n",
    "        k1 = f(x, y)\n",
    "        # Middle calculations\n",
    "        k2 = f(x + (h/3), y + (h/3)*k1)\n",
    "        k3 = f(x + ((2*h)/3), y -h*(k1/3 - k2))\n",
    "        # End calculation\n",
    "        k4 = f(x +h, y + h*(k1 - k2 + k3) )\n",
    "        \n",
    "        \n",
    "        y = y + (h*(k1 + 3.0*(k2 + k3) +k4))/ 8\n",
    "        ys.append(y)\n",
    "    return  xs, ys"
   ]
  },
  {
   "cell_type": "markdown",
   "id": "24a3e1c6",
   "metadata": {},
   "source": [
    "### Ralston"
   ]
  },
  {
   "cell_type": "code",
   "execution_count": 42,
   "id": "5820a14a",
   "metadata": {},
   "outputs": [],
   "source": [
    "def ralston(f, y0, x0, x1, steps):\n",
    "    \"\"\"y = ralston(f, y0, t, h)\"\"\"\n",
    "    \n",
    "    h = (x1 - x0) / steps\n",
    "    xs = np.linspace(x0, x1, steps + 1)\n",
    "    y = y0\n",
    "    ys =[y]\n",
    "    for x in xs[:-1]:\n",
    "        #Initial calculation\n",
    "        k1 = f(x, y)\n",
    "        # Middle calculations\n",
    "        k2 = f(x + ((3*h)/4), y + ((3*h)/4)*k1)\n",
    "\n",
    "        \n",
    "        \n",
    "        y = y + (k1*(1/3) + k2*(2/3))*h\n",
    "        ys.append(y)\n",
    "    return  xs, ys"
   ]
  },
  {
   "cell_type": "markdown",
   "id": "4f16eef2",
   "metadata": {},
   "source": [
    "### Examples:"
   ]
  },
  {
   "cell_type": "code",
   "execution_count": 43,
   "id": "f4c8505c",
   "metadata": {},
   "outputs": [
    {
     "data": {
      "image/png": "[encoded data removed]",
      "text/plain": [
       "<Figure size 432x288 with 1 Axes>"
      ]
     },
     "metadata": {
      "needs_background": "light"
     },
     "output_type": "display_data"
    }
   ],
   "source": [
    "func = lambda x, y: np.array([-2.0 * y[1], 2.0 * y[0]])\n",
    "x0, x1, y0 = 0.0, np.pi, np.array([1.0, 0.0])\n",
    "\n",
    "\n",
    "grid = np.linspace(-1.5, 1.5, 16)\n",
    "\n",
    "qx = [[func(x0, np.array([gx, gy]))[0] for gx in grid] for gy in grid]\n",
    "qy = [[func(x0, np.array([gx, gy]))[1] for gx in grid] for gy in grid]\n",
    "\n",
    "xs, ys = ralston(func, y0, x0, x1, 50)\n",
    "\n",
    "plt.quiver(grid, grid, qx, qy, pivot='mid')\n",
    "plt.plot([y[0] for y in ys], [y[1] for y in ys], '.-b')\n",
    "plt.title('$|\\Delta y| = {}$'.format(np.linalg.norm(ys[0]-ys[-1])));\n",
    "plt.xlabel('$y_0$'); plt.ylabel('$y_1$'); plt.axis('square'); plt.show()"
   ]
  },
  {
   "cell_type": "markdown",
   "id": "84b5b375",
   "metadata": {},
   "source": [
    "### Prey- Predator: "
   ]
  },
  {
   "cell_type": "code",
   "execution_count": 44,
   "id": "d4ef2299",
   "metadata": {},
   "outputs": [],
   "source": [
    "def model(t, v):\n",
    "    return np.array([\n",
    "        ((2/3)*v[0]) - ((4/3)*v[0]*v[1]), # Prey\n",
    "        (v[0]*v[1]) - v[1]                # Predator\n",
    "    ])\n",
    "\n",
    "xs, ys  = Butcher(model, np.array([3/2, 3/2]), 0, 60, 5001)"
   ]
  },
  {
   "cell_type": "code",
   "execution_count": 45,
   "id": "88755e22",
   "metadata": {},
   "outputs": [
    {
     "data": {
      "image/png": "[encoded data removed]",
      "text/plain": [
       "<Figure size 1080x288 with 1 Axes>"
      ]
     },
     "metadata": {
      "needs_background": "light"
     },
     "output_type": "display_data"
    }
   ],
   "source": [
    "plt.figure(figsize=(15, 4))\n",
    "plt.plot(xs, ys)\n",
    "plt.legend(['Prey', 'Predator'])\n",
    "plt.axhline(1, color = 'black')\n",
    "plt.show()"
   ]
  },
  {
   "cell_type": "code",
   "execution_count": 46,
   "id": "d9f52bde",
   "metadata": {},
   "outputs": [],
   "source": [
    "# Get only one of them\n",
    "def prey(b):\n",
    "    prey = []\n",
    "    x, res = Butcher(model, np.array([3/2, 3/2]), 0, b, 501)\n",
    "    for i in range(len(res)):\n",
    "        prey.append(res[i][0])\n",
    "        \n",
    "    return prey[::-1][0]\n",
    "\n",
    "\n",
    "    "
   ]
  },
  {
   "cell_type": "code",
   "execution_count": 47,
   "id": "c19735b4",
   "metadata": {},
   "outputs": [
    {
     "data": {
      "image/png": "[encoded data removed]",
      "text/plain": [
       "<Figure size 1080x288 with 1 Axes>"
      ]
     },
     "metadata": {
      "needs_background": "light"
     },
     "output_type": "display_data"
    }
   ],
   "source": [
    "plt.figure(figsize=(15, 4))\n",
    "plt.plot(xs, ys)\n",
    "\n",
    "\n",
    "\n",
    "for lo, hi in list(minimumsearch(prey, 1, 20, 1000)):\n",
    "    xmin = golden_search(prey, lo, hi)\n",
    "    ymin = prey(xmin)\n",
    "    plt.plot(xmin, ymin, 'or')\n",
    "    plt.text(xmin, ymin, f'({xmin:.3f}, {ymin:.3f})', verticalalignment='top')\n",
    "\n",
    "\n",
    "plt.legend(['Prey', 'Predator'])\n",
    "plt.axhline(1, color = 'black')\n",
    "plt.show()"
   ]
  },
  {
   "cell_type": "markdown",
   "id": "c2744f5d",
   "metadata": {},
   "source": [
    "### SIR Model"
   ]
  },
  {
   "cell_type": "code",
   "execution_count": 48,
   "id": "f9be7c66",
   "metadata": {},
   "outputs": [],
   "source": [
    "def SIR_Model(x, y):\n",
    "    return np.array([\n",
    "        -(0.25)*y[0]*y[1],            # Suseptible\n",
    "        \n",
    "        (0.25)*y[0]*y[1] - 0.10*y[1], # Infected\n",
    "        \n",
    "        0.10*y[1]                     # Recovered\n",
    "    ])\n",
    "\n",
    "xs, ys = Butcher(SIR_Model, np.array([0.999, 0.001, 0.000]), 0, 100, 501) "
   ]
  },
  {
   "cell_type": "code",
   "execution_count": null,
   "id": "cb7544da",
   "metadata": {},
   "outputs": [],
   "source": []
  },
  {
   "cell_type": "code",
   "execution_count": 49,
   "id": "b00021a5",
   "metadata": {},
   "outputs": [
    {
     "data": {
      "image/png": "[encoded data removed]",
      "text/plain": [
       "<Figure size 432x288 with 1 Axes>"
      ]
     },
     "metadata": {
      "needs_background": "light"
     },
     "output_type": "display_data"
    }
   ],
   "source": [
    "plt.plot(xs, ys)\n",
    "plt.legend(['Suseptiple', 'Infected', 'Recovered'])\n",
    "plt.show()"
   ]
  },
  {
   "cell_type": "code",
   "execution_count": null,
   "id": "845524ba",
   "metadata": {},
   "outputs": [],
   "source": []
  },
  {
   "cell_type": "code",
   "execution_count": null,
   "id": "d8b9500c",
   "metadata": {},
   "outputs": [],
   "source": []
  },
  {
   "cell_type": "code",
   "execution_count": null,
   "id": "2fd1bb89",
   "metadata": {},
   "outputs": [],
   "source": []
  }
 ],
 "metadata": {
  "kernelspec": {
   "display_name": "Python 3 (ipykernel)",
   "language": "python",
   "name": "python3"
  },
  "language_info": {
   "codemirror_mode": {
    "name": "ipython",
    "version": 3
   },
   "file_extension": ".py",
   "mimetype": "text/x-python",
   "name": "python",
   "nbconvert_exporter": "python",
   "pygments_lexer": "ipython3",
   "version": "3.7.9"
  }
 },
 "nbformat": 4,
 "nbformat_minor": 5
}
