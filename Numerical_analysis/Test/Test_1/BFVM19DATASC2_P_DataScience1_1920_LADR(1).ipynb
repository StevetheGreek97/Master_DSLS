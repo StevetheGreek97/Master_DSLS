{
 "cells": [
  {
   "cell_type": "markdown",
   "metadata": {},
   "source": [
    "# Data Science 2 (modeling)\n",
    "\n",
    "## Computer-exam BFVM19DATASC2 '19-'20 (practice)\n",
    "\n",
    "**Teachers:**\n",
    "\n",
    "* Graph theory: Martijn Herber (HEMI)\n",
    "\n",
    "* Numerical analysis: Dave Langers (LADR)\n",
    "\n",
    "* Multivariate data analysis: Tsjerk Wassenaar (WATS)\n",
    "\n",
    "**Files:**\n",
    "\n",
    "* *None*\n",
    "\n",
    "**Supplementary materials:**\n",
    "\n",
    "* Graph theory: -\n",
    "\n",
    "* Numerical analysis: Jupyter notebooks, book chapters\n",
    "\n",
    "* Multivariate data analysis: -\n",
    "\n",
    "All notes, textbooks and other written reference materials are permitted.\n",
    "\n",
    "**Instructions:**\n",
    "\n",
    "On your computer desktop you will find all data files and supplementary materials, as well as the submit script `submit_your_work`. First fill in your name and student number below:"
   ]
  },
  {
   "cell_type": "code",
   "execution_count": 1,
   "metadata": {},
   "outputs": [],
   "source": [
    "# YOUR NAME:   <ENTER YOUR NAME HERE>\n",
    "# YOUR ST.NR.: <ENTER YOUR STUDENT NUMBER HERE>"
   ]
  },
  {
   "cell_type": "markdown",
   "metadata": {},
   "source": [
    "This exam consists of three parts that can in principle be answered separately. Provide your answers in the code cells corresponding with each of the questions below. For those questions that require a textual answer rather than python code, you may either type your answer in the cell using a python comment or you may write your answer on paper (in that case, write `# SEE PAPER` in the code cell).\n",
    "\n",
    "<div class=\"alert alert-warning\">\n",
    "<img src=\"attachment:exclamation_icon.png\" align=\"right\"/>\n",
    "<b>After finishing:</b>\n",
    "<ol><li>\n",
    "Rename your notebook with your name and student number, like `JohnDoe_123456`, using the menu option `File` > `Rename`.\n",
    "</li><li>\n",
    "Evaluate the notebook by means of the menu option `Kernel` > `Restart & Run All` and check that your notebook runs without errors.\n",
    "</li><li>\n",
    "Save the evaluated notebook using the menu option `File` > `Save and Checkpoint`.\n",
    "</li><li>\n",
    "Export your notebook as an HTML-file using the menu option `File` > `Download as` > `HTML (.html)` > `Save`, and move the downloaded file from the `Downloads` to the `Desktop` folder.\n",
    "</li><li>\n",
    "Open a terminal, change to the desktop folder using `cd ~/Desktop`, and type `submit_your_work --help` to get help on submit script usage.\n",
    "</li><li>\n",
    "Submit both your `*.ipynb` and `*.html` file together.\n",
    "</li><li>\n",
    "If you gave written answers on paper, write your name and student number on the form and hand it in.\n",
    "</li></ol>\n",
    "</div>\n",
    "\n",
    "All questions have the possible number of points to be scored indicated. Your grade will be calculated as follows:\n",
    "\n",
    "$$\n",
    "\\text{Grade} = 1 + 9 \\cdot \\frac {\\text{Points Scored}} {\\text{Maximum Score}}\n",
    "$$"
   ]
  },
  {
   "cell_type": "markdown",
   "metadata": {},
   "source": [
    "***\n",
    "\n",
    "## Part I: Graph theory\n",
    "\n",
    "<small>Each question in this section is worth 5 points.</small>"
   ]
  },
  {
   "cell_type": "markdown",
   "metadata": {},
   "source": [
    "#### Question 1a\n",
    "\n",
    "Bla bla bla"
   ]
  },
  {
   "cell_type": "code",
   "execution_count": null,
   "metadata": {},
   "outputs": [],
   "source": []
  },
  {
   "cell_type": "markdown",
   "metadata": {},
   "source": [
    "***\n",
    "\n",
    "## Part II: Numerical analysis\n",
    "\n",
    "<small>Each question in this section is worth 5 points.</small>"
   ]
  },
  {
   "cell_type": "code",
   "execution_count": 1,
   "metadata": {},
   "outputs": [],
   "source": [
    "%matplotlib inline\n",
    "import matplotlib.pyplot as plt\n",
    "import numpy as np"
   ]
  },
  {
   "cell_type": "markdown",
   "metadata": {},
   "source": [
    "#### Question 1a\n",
    "\n",
    "Use Romberg integration to calculate the integral\n",
    "\n",
    "$$\n",
    "\\int_{-1}^{+1} \\left( 2 - x^2 \\right) \\text{d}x\n",
    "$$\n",
    "\n",
    "by hand. Perform two iterations and report the exact values of the approximants $R_{0,0}$ and $R_{1,0}$ as well as the final result $R_{1,1}$ in the form of an integer or fraction."
   ]
  },
  {
   "cell_type": "code",
   "execution_count": null,
   "metadata": {},
   "outputs": [],
   "source": []
  },
  {
   "cell_type": "markdown",
   "metadata": {},
   "source": [
    "#### Question 1b\n",
    "\n",
    "The gamma-function $\\Gamma(x)$ is defined in the `scipy.special` module, as plotted below. It is closely related to the factorial, since for nonnegative integers $n$ the following relation holds: $\\Gamma(n+1) = n!$; however, $\\Gamma(x)$ is also defined for other real (or complex) values $x$.\n",
    "\n",
    "Use numeric differentiation to compute the first- and second-order derivatives $\\Gamma'(x)$ and $\\Gamma''(x)$ at $x=1$ with an accuracy of at least four decimals."
   ]
  },
  {
   "cell_type": "code",
   "execution_count": 2,
   "metadata": {},
   "outputs": [
    {
     "data": {
      "image/png": "[encoded data removed]",
      "text/plain": [
       "<Figure size 432x288 with 1 Axes>"
      ]
     },
     "metadata": {
      "needs_background": "light"
     },
     "output_type": "display_data"
    }
   ],
   "source": [
    "from scipy.special import gamma\n",
    "xs = np.linspace(-3.5, 4.5, 401)\n",
    "plt.plot(xs, gamma(xs), '-', 1.0, gamma(1.0), 'o')\n",
    "plt.axis([-3.5, 4.5, -6.0, 6.0]); plt.axhline(0.0, color='k', linewidth=.5); plt.axvline(0.0, color='k', linewidth=.5)\n",
    "plt.title('$\\Gamma(x)$'); plt.xlabel('$x$'); plt.ylabel('$y$'); plt.show()"
   ]
  },
  {
   "cell_type": "code",
   "execution_count": 3,
   "metadata": {},
   "outputs": [],
   "source": [
    "def central_derivative(f, x, h=0.1):\n",
    "    \"\"\"df = central_derivative(f, x, h).\n",
    "    Calculates the central difference approximation of the\n",
    "    function f(x).\n",
    "    \"\"\"\n",
    "    df = (f(x + h) - f(x - h)) / (2 * h)\n",
    "    return df"
   ]
  },
  {
   "cell_type": "code",
   "execution_count": 4,
   "metadata": {},
   "outputs": [],
   "source": [
    "def central_derivative2(f, x, h= 1e-8 ):\n",
    "    \"\"\"df = central_derivative2(f, x, h).\n",
    "    Calculates the second-order derivative of the\n",
    "    function f(x).\n",
    "    \"\"\"\n",
    "    ddf = (f(x + h) - 2* f(x) + f(x - h) ) / (h * h)\n",
    "    return ddf"
   ]
  },
  {
   "cell_type": "code",
   "execution_count": 5,
   "metadata": {},
   "outputs": [
    {
     "data": {
      "text/plain": [
       "-0.5863896612622305"
      ]
     },
     "execution_count": 5,
     "metadata": {},
     "output_type": "execute_result"
    }
   ],
   "source": [
    "central_derivative(gamma, 1)"
   ]
  },
  {
   "cell_type": "code",
   "execution_count": 6,
   "metadata": {},
   "outputs": [
    {
     "data": {
      "text/plain": [
       "2.2204460492503126"
      ]
     },
     "execution_count": 6,
     "metadata": {},
     "output_type": "execute_result"
    }
   ],
   "source": [
    "central_derivative2(gamma, 1)"
   ]
  },
  {
   "cell_type": "markdown",
   "metadata": {},
   "source": [
    "#### Question 1c\n",
    "\n",
    "The *Midpoint method* is an algorithm from the Runge-Kutta family that shares the first two formulas with the Runge-Kutta method itself:\n",
    "\n",
    "$$\n",
    "\\begin{aligned}\n",
    "\\boldsymbol{k}_0 &= h \\cdot \\boldsymbol{f}(x, \\boldsymbol{y}(x))\n",
    "\\\\\n",
    "\\boldsymbol{k}_1 &= h \\cdot \\boldsymbol{f}(x + \\frac{1}{2} h, \\boldsymbol{y}(x + \\frac{1}{2} \\boldsymbol{k}_0))\n",
    "\\end{aligned}\n",
    "$$\n",
    "\n",
    "but then updates the value of $\\boldsymbol{y}$ according to\n",
    "\n",
    "$$\n",
    "\\boldsymbol{y}(x + h) \\approx \\boldsymbol{y}(x) + \\boldsymbol{k}_1\n",
    "$$\n",
    "\n",
    "Write a dedicated function `midpoint(f, y0, x0, x1, steps)` that applies the Midpoint method to compute $\\boldsymbol{y}(x_1)$ by integrating the differential equation $\\boldsymbol{y}' = \\boldsymbol{f}(x, \\boldsymbol{y})$ from initial condition $\\boldsymbol{y}(x_0) = \\boldsymbol{y}_0$ in a given number of steps.\n",
    "\n",
    "Apply your function to numerically integrate the first-order differential equation\n",
    "\n",
    "$$\n",
    "y'(x) = -\\frac{2}{3} x \\cdot y(x)\n",
    "$$\n",
    "\n",
    "from $x_0 = -2$ to $x_1 = +1$ with starting value $y(x_0) = 1$ in 1000 steps, and report the outcome.\n",
    "\n",
    "<div class=\"alert alert-info\">**Hint:**<br />The exact solution can be shown to equal $y(x_1) = \\text{e} \\approx 2.71828\\ldots$</div>"
   ]
  },
  {
   "cell_type": "code",
   "execution_count": 8,
   "metadata": {},
   "outputs": [],
   "source": [
    "def func(x, y):\n",
    "    return (-2/3)*x*y"
   ]
  },
  {
   "cell_type": "code",
   "execution_count": 10,
   "metadata": {},
   "outputs": [],
   "source": [
    "def midpoint(f, y0, x0, x1, steps):\n",
    "    h = (x1 - x0) / steps\n",
    "    xs = np.linspace(x0, x1, steps + 1)\n",
    "    y = y0\n",
    "    ys =[y]\n",
    "    for x in xs[:-1]:\n",
    "        k1 = f(x, y)\n",
    "        k2 = f(x + (h/2), y + (h/2)*k1)\n",
    "        \n",
    "        y = y + h*(k2)\n",
    "        ys.append(y)\n",
    "    return  xs, ys\n",
    "    "
   ]
  },
  {
   "cell_type": "code",
   "execution_count": 12,
   "metadata": {},
   "outputs": [],
   "source": [
    "xs, ys = midpoint(func, 1, -2, 1, 1000)"
   ]
  },
  {
   "cell_type": "code",
   "execution_count": 13,
   "metadata": {},
   "outputs": [
    {
     "data": {
      "image/png": "[encoded data removed]",
      "text/plain": [
       "<Figure size 432x288 with 1 Axes>"
      ]
     },
     "metadata": {
      "needs_background": "light"
     },
     "output_type": "display_data"
    }
   ],
   "source": [
    "plt.plot(xs, ys)\n",
    "plt.show()"
   ]
  },
  {
   "cell_type": "markdown",
   "metadata": {},
   "source": [
    "#### Question 1d\n",
    "\n",
    "Compute *all* zero roots of the function $g(x) = \\frac{1}{20} x^2 + \\sin(x)$, as plotted below. Report your answer(s) with an accuracy of (at least) six correct decimals. Explicitly investigate whether the function has any zeroes near $x=4\\frac{1}{4}$ (indicated with the plotted circle)."
   ]
  },
  {
   "cell_type": "code",
   "execution_count": 14,
   "metadata": {},
   "outputs": [
    {
     "data": {
      "image/png": "[encoded data removed]",
      "text/plain": [
       "<Figure size 432x288 with 1 Axes>"
      ]
     },
     "metadata": {
      "needs_background": "light"
     },
     "output_type": "display_data"
    }
   ],
   "source": [
    "g = lambda x: (x*x) / 20.0 + np.sin(x)\n",
    "xs = np.linspace(-8.0, 8.0, 401)\n",
    "plt.plot(xs, g(xs), '-', 4.25, 0.0, 'o')\n",
    "plt.axis([-8.0, 8.0, -2.0, 4.0]); plt.axhline(0.0, color='k', linewidth=.5); plt.axvline(0.0, color='k', linewidth=.5)\n",
    "plt.title('$g(x)$'); plt.xlabel('$x$'); plt.ylabel('$y$'); plt.show()"
   ]
  },
  {
   "cell_type": "code",
   "execution_count": 15,
   "metadata": {},
   "outputs": [],
   "source": [
    "def rootsearch(f, a, b, steps):\n",
    "    \"\"\"lo, hi = rootsearch(f, a, b, steps).\n",
    "    Searches the interval (a,b) in a number of steps for\n",
    "    the bounds (lo,hi) of the roots of f(x).\n",
    "    \"\"\"\n",
    "    h = (b - a) / steps\n",
    "    f_lo = f(a)\n",
    "    for step in range(steps):\n",
    "        lo = a + step * h\n",
    "        hi = lo + h\n",
    "        f_hi = f(hi)\n",
    "        if f_lo * f_hi <= 0.0:\n",
    "            yield lo, hi\n",
    "        f_lo = f_hi"
   ]
  },
  {
   "cell_type": "code",
   "execution_count": 20,
   "metadata": {},
   "outputs": [],
   "source": [
    "def secant(f, a, b, tol= 1e-8):\n",
    "    \"\"\"root = secant(f, a, b, tol=...).\n",
    "    Finds a root of f(x) = 0 by the secant method.\n",
    "    \"\"\"\n",
    "    x1 = a\n",
    "    f1 = f(x1)\n",
    "         \n",
    "    if f1 == 0:\n",
    "          return x1\n",
    "        \n",
    "    x2 = b\n",
    "    f2 = f(x2) \n",
    "    \n",
    "    if f2 == 0:\n",
    "          return x2\n",
    "    while abs(x2 - x1) > tol:\n",
    "        x3 = (f1 *x2 - f2 *x1) / (f1 - f2)\n",
    "        f3= f(x3)\n",
    "        if f3 == 0:\n",
    "            return x3\n",
    "        \n",
    "        x1 = x2\n",
    "        x2 = x3\n",
    "        f1 = f2\n",
    "        f2 = f3\n",
    "    return x2"
   ]
  },
  {
   "cell_type": "code",
   "execution_count": 24,
   "metadata": {},
   "outputs": [
    {
     "data": {
      "image/png": "[encoded data removed]",
      "text/plain": [
       "<Figure size 432x288 with 1 Axes>"
      ]
     },
     "metadata": {
      "needs_background": "light"
     },
     "output_type": "display_data"
    }
   ],
   "source": [
    "plt.plot(xs, g(xs))\n",
    "for hi, lo in list(rootsearch(g, -8, 8, 1000)):\n",
    "    xmin = secant(g, lo, hi)\n",
    "    ymin = g(xmin)\n",
    "    plt.plot(xmin, ymin, 'or')\n",
    "    plt.text(xmin, ymin, f'({xmin:.3f}, {ymin:.3f})', verticalalignment='top')\n",
    "\n",
    "plt.axhline(0.0, color='k', linewidth=.5)\n",
    "plt.axvline(0.0, color='k', linewidth=.5)\n",
    "plt.show()"
   ]
  },
  {
   "cell_type": "markdown",
   "metadata": {},
   "source": [
    "***\n",
    "\n",
    "## Part III: Multivariate data analysis\n",
    "\n",
    "<small>Each question in this section is worth 10 points.</small>"
   ]
  },
  {
   "cell_type": "markdown",
   "metadata": {},
   "source": [
    "#### Question 3a\n",
    "\n",
    "Bla bla bla"
   ]
  },
  {
   "cell_type": "code",
   "execution_count": null,
   "metadata": {},
   "outputs": [],
   "source": []
  },
  {
   "cell_type": "markdown",
   "metadata": {},
   "source": [
    "***\n",
    "\n",
    "## End of this exam\n",
    "\n",
    "Success!"
   ]
  }
 ],
 "metadata": {
  "kernelspec": {
   "display_name": "Python 3 (ipykernel)",
   "language": "python",
   "name": "python3"
  },
  "language_info": {
   "codemirror_mode": {
    "name": "ipython",
    "version": 3
   },
   "file_extension": ".py",
   "mimetype": "text/x-python",
   "name": "python",
   "nbconvert_exporter": "python",
   "pygments_lexer": "ipython3",
   "version": "3.7.9"
  }
 },
 "nbformat": 4,
 "nbformat_minor": 2
}
